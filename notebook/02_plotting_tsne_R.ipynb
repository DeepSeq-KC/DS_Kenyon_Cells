{
 "cells": [
  {
   "cell_type": "code",
   "execution_count": 7,
   "metadata": {},
   "outputs": [],
   "source": [
    "library(dplyr)\n",
    "library(ggplot2)"
   ]
  },
  {
   "cell_type": "code",
   "execution_count": 8,
   "metadata": {},
   "outputs": [],
   "source": [
    "df <- read.csv(\"../data/03_ICIM_analysis/KC_ICIM_TSNE_data.csv\")"
   ]
  },
  {
   "cell_type": "code",
   "execution_count": 10,
   "metadata": {},
   "outputs": [],
   "source": [
    "lobe_tsne <- df %>%\n",
    "  ggplot() +\n",
    "  geom_point(aes(x=x, y=y, color=subtype)) +\n",
    "  theme_classic() +\n",
    "  xlab(\"TSNE Axis-1\") +\n",
    "  ylab(\"TSNE Axis-2\") +\n",
    "  labs(color=\"KC Lobe\")\n",
    "\n",
    "ggsave(\n",
    "  filename = \"../data/figures/KC_TSNE_by_lobe.pdf\",\n",
    "  plot = lobe_tsne,\n",
    "  width = 11,\n",
    "  height = 8.5,\n",
    "  units='in'\n",
    ")\n"
   ]
  },
  {
   "cell_type": "code",
   "execution_count": 14,
   "metadata": {},
   "outputs": [],
   "source": [
    "cluster_tsne <- df %>%\n",
    "  ggplot() +\n",
    "  geom_point(aes(x=x, y=y, color=factor(hdb_clust))) +\n",
    "  theme_classic() +\n",
    "  xlab(\"TSNE Axis-1\") +\n",
    "  ylab(\"TSNE Axis-2\") +\n",
    "  labs(color=\"Cluster\")\n",
    "\n",
    "ggsave(\n",
    "  filename = \"../data/figures/KC_TSNE_by_cluster.pdf\",\n",
    "  plot = cluster_tsne,\n",
    "  width = 11,\n",
    "  height = 8.5,\n",
    "  units='in'\n",
    ")"
   ]
  },
  {
   "cell_type": "code",
   "execution_count": 19,
   "metadata": {},
   "outputs": [],
   "source": [
    "age_tsne <- df %>%\n",
    "  ggplot() +\n",
    "  geom_point(aes(x=x, y=y, color=factor(Age))) +\n",
    "  theme_classic() +\n",
    "  xlab(\"TSNE Axis-1\") +\n",
    "  ylab(\"TSNE Axis-2\") +\n",
    "  labs(color=\"Age (days)\")\n",
    "\n",
    "ggsave(\n",
    "  filename = \"../data/figures/KC_TSNE_by_Age.pdf\",\n",
    "  plot = age_tsne,\n",
    "  width = 11,\n",
    "  height = 8.5,\n",
    "  units='in'\n",
    ")"
   ]
  },
  {
   "cell_type": "code",
   "execution_count": null,
   "metadata": {},
   "outputs": [],
   "source": [
    "# Generating a plot to explore bias in clusters towards three technical variables\n",
    "# Age, Gender, and Genotype"
   ]
  },
  {
   "cell_type": "code",
   "execution_count": 20,
   "metadata": {},
   "outputs": [],
   "source": [
    "df2 <- read.csv(\"../data/03_ICIM_analysis/KC_bias_data.csv\")\n",
    "bias_barplot <- df2 %>%\n",
    "  ggplot() + \n",
    "  geom_bar(aes(x=factor(hdb_clust), y=proportion, fill=factor(variable)), stat='identity') +\n",
    "  facet_grid(variable_cat~.) +\n",
    "  xlab(\"Assigned Cluster\") +\n",
    "  ylab(\"Proportion of Reads from a Given Technial Variable\") +\n",
    "  theme(legend.position = 'none')\n",
    "\n",
    "ggsave(\n",
    "  filename = \"../data/figures/KC_cluster_bias_barplot.pdf\",\n",
    "  plot = bias_barplot,\n",
    "  width = 11,\n",
    "  height = 8.5,\n",
    "  units='in'\n",
    ")"
   ]
  },
  {
   "cell_type": "code",
   "execution_count": null,
   "metadata": {},
   "outputs": [],
   "source": []
  }
 ],
 "metadata": {
  "kernelspec": {
   "display_name": "R",
   "language": "R",
   "name": "ir"
  },
  "language_info": {
   "codemirror_mode": "r",
   "file_extension": ".r",
   "mimetype": "text/x-r-source",
   "name": "R",
   "pygments_lexer": "r",
   "version": "3.4.0"
  }
 },
 "nbformat": 4,
 "nbformat_minor": 2
}
