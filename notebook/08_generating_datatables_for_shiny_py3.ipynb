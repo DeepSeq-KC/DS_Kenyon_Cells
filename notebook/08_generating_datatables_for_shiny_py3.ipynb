{
 "cells": [
  {
   "cell_type": "code",
   "execution_count": 2,
   "metadata": {},
   "outputs": [],
   "source": [
    "import pandas as pd\n",
    "import numpy as np"
   ]
  },
  {
   "cell_type": "code",
   "execution_count": 84,
   "metadata": {},
   "outputs": [],
   "source": [
    "metadata = pd.read_csv(\"../data/03_ICIM_analysis/KC_ICIM_TSNE_data.csv\")"
   ]
  },
  {
   "cell_type": "code",
   "execution_count": 85,
   "metadata": {},
   "outputs": [
    {
     "data": {
      "text/html": [
       "<div>\n",
       "<style scoped>\n",
       "    .dataframe tbody tr th:only-of-type {\n",
       "        vertical-align: middle;\n",
       "    }\n",
       "\n",
       "    .dataframe tbody tr th {\n",
       "        vertical-align: top;\n",
       "    }\n",
       "\n",
       "    .dataframe thead th {\n",
       "        text-align: right;\n",
       "    }\n",
       "</style>\n",
       "<table border=\"1\" class=\"dataframe\">\n",
       "  <thead>\n",
       "    <tr style=\"text-align: right;\">\n",
       "      <th></th>\n",
       "      <th>CellID</th>\n",
       "      <th>Age</th>\n",
       "      <th>Gender</th>\n",
       "      <th>Genotype</th>\n",
       "      <th>Replicate</th>\n",
       "      <th>nGene</th>\n",
       "      <th>nUMI</th>\n",
       "      <th>cell_type_id</th>\n",
       "      <th>is_kc</th>\n",
       "      <th>x</th>\n",
       "      <th>y</th>\n",
       "      <th>hdb_clust</th>\n",
       "      <th>subtype</th>\n",
       "    </tr>\n",
       "  </thead>\n",
       "  <tbody>\n",
       "    <tr>\n",
       "      <th>0</th>\n",
       "      <td>ACATACGAGGGCTTCC-DGRP-551_0d_r1</td>\n",
       "      <td>0</td>\n",
       "      <td>Female</td>\n",
       "      <td>DGRP-551</td>\n",
       "      <td>DGRP-551_0d_Rep1</td>\n",
       "      <td>1328</td>\n",
       "      <td>3340.0</td>\n",
       "      <td>8.0</td>\n",
       "      <td>1</td>\n",
       "      <td>-16.732498</td>\n",
       "      <td>55.850990</td>\n",
       "      <td>3</td>\n",
       "      <td>G-KC</td>\n",
       "    </tr>\n",
       "    <tr>\n",
       "      <th>1</th>\n",
       "      <td>ACCCACTTCACTCTTA-DGRP-551_0d_r1</td>\n",
       "      <td>0</td>\n",
       "      <td>Female</td>\n",
       "      <td>DGRP-551</td>\n",
       "      <td>DGRP-551_0d_Rep1</td>\n",
       "      <td>1613</td>\n",
       "      <td>4580.0</td>\n",
       "      <td>8.0</td>\n",
       "      <td>1</td>\n",
       "      <td>-19.377689</td>\n",
       "      <td>40.539936</td>\n",
       "      <td>3</td>\n",
       "      <td>G-KC</td>\n",
       "    </tr>\n",
       "    <tr>\n",
       "      <th>2</th>\n",
       "      <td>ACCGTAAAGATAGTCA-DGRP-551_0d_r1</td>\n",
       "      <td>0</td>\n",
       "      <td>Male</td>\n",
       "      <td>DGRP-551</td>\n",
       "      <td>DGRP-551_0d_Rep1</td>\n",
       "      <td>1466</td>\n",
       "      <td>4349.0</td>\n",
       "      <td>22.0</td>\n",
       "      <td>1</td>\n",
       "      <td>-1.656786</td>\n",
       "      <td>-67.122963</td>\n",
       "      <td>2</td>\n",
       "      <td>a/b-KC</td>\n",
       "    </tr>\n",
       "    <tr>\n",
       "      <th>3</th>\n",
       "      <td>ACTTACTAGTGGTAAT-DGRP-551_0d_r1</td>\n",
       "      <td>0</td>\n",
       "      <td>Male</td>\n",
       "      <td>DGRP-551</td>\n",
       "      <td>DGRP-551_0d_Rep1</td>\n",
       "      <td>1174</td>\n",
       "      <td>2942.0</td>\n",
       "      <td>8.0</td>\n",
       "      <td>1</td>\n",
       "      <td>-15.413997</td>\n",
       "      <td>46.957966</td>\n",
       "      <td>3</td>\n",
       "      <td>G-KC</td>\n",
       "    </tr>\n",
       "    <tr>\n",
       "      <th>4</th>\n",
       "      <td>ACTTGTTCATGGTTGT-DGRP-551_0d_r1</td>\n",
       "      <td>0</td>\n",
       "      <td>Male</td>\n",
       "      <td>DGRP-551</td>\n",
       "      <td>DGRP-551_0d_Rep1</td>\n",
       "      <td>1410</td>\n",
       "      <td>3620.0</td>\n",
       "      <td>8.0</td>\n",
       "      <td>1</td>\n",
       "      <td>-19.743160</td>\n",
       "      <td>40.827847</td>\n",
       "      <td>3</td>\n",
       "      <td>G-KC</td>\n",
       "    </tr>\n",
       "  </tbody>\n",
       "</table>\n",
       "</div>"
      ],
      "text/plain": [
       "                            CellID  Age  Gender  Genotype         Replicate  \\\n",
       "0  ACATACGAGGGCTTCC-DGRP-551_0d_r1    0  Female  DGRP-551  DGRP-551_0d_Rep1   \n",
       "1  ACCCACTTCACTCTTA-DGRP-551_0d_r1    0  Female  DGRP-551  DGRP-551_0d_Rep1   \n",
       "2  ACCGTAAAGATAGTCA-DGRP-551_0d_r1    0    Male  DGRP-551  DGRP-551_0d_Rep1   \n",
       "3  ACTTACTAGTGGTAAT-DGRP-551_0d_r1    0    Male  DGRP-551  DGRP-551_0d_Rep1   \n",
       "4  ACTTGTTCATGGTTGT-DGRP-551_0d_r1    0    Male  DGRP-551  DGRP-551_0d_Rep1   \n",
       "\n",
       "   nGene    nUMI  cell_type_id  is_kc          x          y  hdb_clust subtype  \n",
       "0   1328  3340.0           8.0      1 -16.732498  55.850990          3    G-KC  \n",
       "1   1613  4580.0           8.0      1 -19.377689  40.539936          3    G-KC  \n",
       "2   1466  4349.0          22.0      1  -1.656786 -67.122963          2  a/b-KC  \n",
       "3   1174  2942.0           8.0      1 -15.413997  46.957966          3    G-KC  \n",
       "4   1410  3620.0           8.0      1 -19.743160  40.827847          3    G-KC  "
      ]
     },
     "execution_count": 85,
     "metadata": {},
     "output_type": "execute_result"
    }
   ],
   "source": [
    "metadata.head()"
   ]
  },
  {
   "cell_type": "code",
   "execution_count": 86,
   "metadata": {},
   "outputs": [],
   "source": [
    "metadata['dna_index'] = metadata.CellID.str.split('-').str[0]"
   ]
  },
  {
   "cell_type": "code",
   "execution_count": 87,
   "metadata": {},
   "outputs": [],
   "source": [
    "metadata = metadata.drop(['nGene', 'nUMI', 'cell_type_id', 'is_kc', 'x', 'y', 'CellID', 'Replicate'], axis=1)\n",
    "metadata = metadata.set_index('dna_index')"
   ]
  },
  {
   "cell_type": "code",
   "execution_count": 89,
   "metadata": {},
   "outputs": [
    {
     "data": {
      "text/html": [
       "<div>\n",
       "<style scoped>\n",
       "    .dataframe tbody tr th:only-of-type {\n",
       "        vertical-align: middle;\n",
       "    }\n",
       "\n",
       "    .dataframe tbody tr th {\n",
       "        vertical-align: top;\n",
       "    }\n",
       "\n",
       "    .dataframe thead th {\n",
       "        text-align: right;\n",
       "    }\n",
       "</style>\n",
       "<table border=\"1\" class=\"dataframe\">\n",
       "  <thead>\n",
       "    <tr style=\"text-align: right;\">\n",
       "      <th></th>\n",
       "      <th>Age</th>\n",
       "      <th>Gender</th>\n",
       "      <th>Genotype</th>\n",
       "      <th>hdb_clust</th>\n",
       "      <th>subtype</th>\n",
       "    </tr>\n",
       "    <tr>\n",
       "      <th>dna_index</th>\n",
       "      <th></th>\n",
       "      <th></th>\n",
       "      <th></th>\n",
       "      <th></th>\n",
       "      <th></th>\n",
       "    </tr>\n",
       "  </thead>\n",
       "  <tbody>\n",
       "    <tr>\n",
       "      <th>ACATACGAGGGCTTCC</th>\n",
       "      <td>0</td>\n",
       "      <td>Female</td>\n",
       "      <td>DGRP-551</td>\n",
       "      <td>3</td>\n",
       "      <td>G-KC</td>\n",
       "    </tr>\n",
       "    <tr>\n",
       "      <th>ACCCACTTCACTCTTA</th>\n",
       "      <td>0</td>\n",
       "      <td>Female</td>\n",
       "      <td>DGRP-551</td>\n",
       "      <td>3</td>\n",
       "      <td>G-KC</td>\n",
       "    </tr>\n",
       "    <tr>\n",
       "      <th>ACCGTAAAGATAGTCA</th>\n",
       "      <td>0</td>\n",
       "      <td>Male</td>\n",
       "      <td>DGRP-551</td>\n",
       "      <td>2</td>\n",
       "      <td>a/b-KC</td>\n",
       "    </tr>\n",
       "    <tr>\n",
       "      <th>ACTTACTAGTGGTAAT</th>\n",
       "      <td>0</td>\n",
       "      <td>Male</td>\n",
       "      <td>DGRP-551</td>\n",
       "      <td>3</td>\n",
       "      <td>G-KC</td>\n",
       "    </tr>\n",
       "    <tr>\n",
       "      <th>ACTTGTTCATGGTTGT</th>\n",
       "      <td>0</td>\n",
       "      <td>Male</td>\n",
       "      <td>DGRP-551</td>\n",
       "      <td>3</td>\n",
       "      <td>G-KC</td>\n",
       "    </tr>\n",
       "  </tbody>\n",
       "</table>\n",
       "</div>"
      ],
      "text/plain": [
       "                  Age  Gender  Genotype  hdb_clust subtype\n",
       "dna_index                                                 \n",
       "ACATACGAGGGCTTCC    0  Female  DGRP-551          3    G-KC\n",
       "ACCCACTTCACTCTTA    0  Female  DGRP-551          3    G-KC\n",
       "ACCGTAAAGATAGTCA    0    Male  DGRP-551          2  a/b-KC\n",
       "ACTTACTAGTGGTAAT    0    Male  DGRP-551          3    G-KC\n",
       "ACTTGTTCATGGTTGT    0    Male  DGRP-551          3    G-KC"
      ]
     },
     "execution_count": 89,
     "metadata": {},
     "output_type": "execute_result"
    }
   ],
   "source": [
    "metadata.head()"
   ]
  },
  {
   "cell_type": "code",
   "execution_count": 92,
   "metadata": {},
   "outputs": [],
   "source": [
    "cell_number_info = pd.read_csv(\"../data/06_tss_data/indexed_barcodes.tsv\", sep='\\t', header=None)\n",
    "cell_number_info.columns = ['cell_number', 'dna_index']\n",
    "cell_number_info = cell_number_info.set_index(\"dna_index\")"
   ]
  },
  {
   "cell_type": "code",
   "execution_count": 117,
   "metadata": {},
   "outputs": [],
   "source": [
    "cell_number_info.columns = ['cell_number', 'dna_index']"
   ]
  },
  {
   "cell_type": "code",
   "execution_count": 94,
   "metadata": {},
   "outputs": [],
   "source": [
    "metadata = metadata.join(cell_number_info)"
   ]
  },
  {
   "cell_type": "code",
   "execution_count": 96,
   "metadata": {},
   "outputs": [],
   "source": [
    "metadata = metadata.set_index(\"cell_number\")"
   ]
  },
  {
   "cell_type": "code",
   "execution_count": 10,
   "metadata": {},
   "outputs": [],
   "source": [
    "metadata.head()"
   ]
  },
  {
   "cell_type": "code",
   "execution_count": 98,
   "metadata": {},
   "outputs": [],
   "source": [
    "metadata.to_csv(\"../data/06_tss_data/umi_with_metadata.csv\")"
   ]
  },
  {
   "cell_type": "code",
   "execution_count": 35,
   "metadata": {},
   "outputs": [],
   "source": []
  },
  {
   "cell_type": "code",
   "execution_count": 106,
   "metadata": {},
   "outputs": [],
   "source": [
    "# Fix up UMI table by replacing flybase contigs with gene symbols\n",
    "umi = pd.read_csv(\"../data/06_tss_data/all_umis_merged.tsv\", sep=\"\\t\")\n",
    "umi = umi.set_index('cell_number')"
   ]
  },
  {
   "cell_type": "code",
   "execution_count": 107,
   "metadata": {},
   "outputs": [
    {
     "data": {
      "text/html": [
       "<div>\n",
       "<style scoped>\n",
       "    .dataframe tbody tr th:only-of-type {\n",
       "        vertical-align: middle;\n",
       "    }\n",
       "\n",
       "    .dataframe tbody tr th {\n",
       "        vertical-align: top;\n",
       "    }\n",
       "\n",
       "    .dataframe thead th {\n",
       "        text-align: right;\n",
       "    }\n",
       "</style>\n",
       "<table border=\"1\" class=\"dataframe\">\n",
       "  <thead>\n",
       "    <tr style=\"text-align: right;\">\n",
       "      <th></th>\n",
       "      <th>contig</th>\n",
       "      <th>coord</th>\n",
       "      <th>back_coord</th>\n",
       "      <th>strand</th>\n",
       "      <th>numdup</th>\n",
       "    </tr>\n",
       "    <tr>\n",
       "      <th>cell_number</th>\n",
       "      <th></th>\n",
       "      <th></th>\n",
       "      <th></th>\n",
       "      <th></th>\n",
       "      <th></th>\n",
       "    </tr>\n",
       "  </thead>\n",
       "  <tbody>\n",
       "    <tr>\n",
       "      <th>682</th>\n",
       "      <td>FBgn0001222</td>\n",
       "      <td>142</td>\n",
       "      <td>171</td>\n",
       "      <td>-1</td>\n",
       "      <td>1</td>\n",
       "    </tr>\n",
       "    <tr>\n",
       "      <th>682</th>\n",
       "      <td>FBgn0030435</td>\n",
       "      <td>339</td>\n",
       "      <td>368</td>\n",
       "      <td>-1</td>\n",
       "      <td>1</td>\n",
       "    </tr>\n",
       "    <tr>\n",
       "      <th>682</th>\n",
       "      <td>FBgn0030435</td>\n",
       "      <td>393</td>\n",
       "      <td>422</td>\n",
       "      <td>-1</td>\n",
       "      <td>3</td>\n",
       "    </tr>\n",
       "    <tr>\n",
       "      <th>682</th>\n",
       "      <td>FBgn0261885</td>\n",
       "      <td>420</td>\n",
       "      <td>449</td>\n",
       "      <td>-1</td>\n",
       "      <td>1</td>\n",
       "    </tr>\n",
       "    <tr>\n",
       "      <th>682</th>\n",
       "      <td>FBgn0261885</td>\n",
       "      <td>434</td>\n",
       "      <td>463</td>\n",
       "      <td>-1</td>\n",
       "      <td>1</td>\n",
       "    </tr>\n",
       "  </tbody>\n",
       "</table>\n",
       "</div>"
      ],
      "text/plain": [
       "                  contig coord back_coord strand numdup\n",
       "cell_number                                            \n",
       "682          FBgn0001222   142        171     -1      1\n",
       "682          FBgn0030435   339        368     -1      1\n",
       "682          FBgn0030435   393        422     -1      3\n",
       "682          FBgn0261885   420        449     -1      1\n",
       "682          FBgn0261885   434        463     -1      1"
      ]
     },
     "execution_count": 107,
     "metadata": {},
     "output_type": "execute_result"
    }
   ],
   "source": [
    "umi.head()"
   ]
  },
  {
   "cell_type": "code",
   "execution_count": 108,
   "metadata": {},
   "outputs": [],
   "source": [
    "umi['facet'] = \"Read Mappings\"\n",
    "umi = umi.drop([\"strand\", \"numdup\", \"back_coord\"], axis=1)"
   ]
  },
  {
   "cell_type": "code",
   "execution_count": 109,
   "metadata": {},
   "outputs": [
    {
     "data": {
      "text/html": [
       "<div>\n",
       "<style scoped>\n",
       "    .dataframe tbody tr th:only-of-type {\n",
       "        vertical-align: middle;\n",
       "    }\n",
       "\n",
       "    .dataframe tbody tr th {\n",
       "        vertical-align: top;\n",
       "    }\n",
       "\n",
       "    .dataframe thead th {\n",
       "        text-align: right;\n",
       "    }\n",
       "</style>\n",
       "<table border=\"1\" class=\"dataframe\">\n",
       "  <thead>\n",
       "    <tr style=\"text-align: right;\">\n",
       "      <th></th>\n",
       "      <th>contig</th>\n",
       "      <th>coord</th>\n",
       "      <th>facet</th>\n",
       "    </tr>\n",
       "    <tr>\n",
       "      <th>cell_number</th>\n",
       "      <th></th>\n",
       "      <th></th>\n",
       "      <th></th>\n",
       "    </tr>\n",
       "  </thead>\n",
       "  <tbody>\n",
       "    <tr>\n",
       "      <th>682</th>\n",
       "      <td>FBgn0001222</td>\n",
       "      <td>142</td>\n",
       "      <td>Read Mappings</td>\n",
       "    </tr>\n",
       "    <tr>\n",
       "      <th>682</th>\n",
       "      <td>FBgn0030435</td>\n",
       "      <td>339</td>\n",
       "      <td>Read Mappings</td>\n",
       "    </tr>\n",
       "    <tr>\n",
       "      <th>682</th>\n",
       "      <td>FBgn0030435</td>\n",
       "      <td>393</td>\n",
       "      <td>Read Mappings</td>\n",
       "    </tr>\n",
       "    <tr>\n",
       "      <th>682</th>\n",
       "      <td>FBgn0261885</td>\n",
       "      <td>420</td>\n",
       "      <td>Read Mappings</td>\n",
       "    </tr>\n",
       "    <tr>\n",
       "      <th>682</th>\n",
       "      <td>FBgn0261885</td>\n",
       "      <td>434</td>\n",
       "      <td>Read Mappings</td>\n",
       "    </tr>\n",
       "  </tbody>\n",
       "</table>\n",
       "</div>"
      ],
      "text/plain": [
       "                  contig coord          facet\n",
       "cell_number                                  \n",
       "682          FBgn0001222   142  Read Mappings\n",
       "682          FBgn0030435   339  Read Mappings\n",
       "682          FBgn0030435   393  Read Mappings\n",
       "682          FBgn0261885   420  Read Mappings\n",
       "682          FBgn0261885   434  Read Mappings"
      ]
     },
     "execution_count": 109,
     "metadata": {},
     "output_type": "execute_result"
    }
   ],
   "source": [
    "umi.head()"
   ]
  },
  {
   "cell_type": "code",
   "execution_count": 71,
   "metadata": {},
   "outputs": [],
   "source": [
    "## Using this list of genes to convert to gene symbols\n",
    "## done with this online tool, here \n",
    "## http://flybase.org/convert/id\n",
    "## downloaded to ../data/06_tss_data/FlyBase_IDs.txt\n",
    "with open(\"../data/06_tss_data/flybase_gene_id_list_to_convert.txt\", 'w') as f:\n",
    "    for fb in umi.contig.unique():\n",
    "        f.write(\"{}\\n\".format(fb))"
   ]
  },
  {
   "cell_type": "code",
   "execution_count": 110,
   "metadata": {},
   "outputs": [],
   "source": [
    "# generate map df\n",
    "converter = pd.read_csv(\"../data/06_tss_data/FlyBase_IDs.txt\", sep=\"\\t\")\n",
    "converter = converter[['submitted_id', 'current_symbol']]\n",
    "converter = converter.set_index('submitted_id')"
   ]
  },
  {
   "cell_type": "code",
   "execution_count": 111,
   "metadata": {},
   "outputs": [
    {
     "data": {
      "text/html": [
       "<div>\n",
       "<style scoped>\n",
       "    .dataframe tbody tr th:only-of-type {\n",
       "        vertical-align: middle;\n",
       "    }\n",
       "\n",
       "    .dataframe tbody tr th {\n",
       "        vertical-align: top;\n",
       "    }\n",
       "\n",
       "    .dataframe thead th {\n",
       "        text-align: right;\n",
       "    }\n",
       "</style>\n",
       "<table border=\"1\" class=\"dataframe\">\n",
       "  <thead>\n",
       "    <tr style=\"text-align: right;\">\n",
       "      <th></th>\n",
       "      <th>contig</th>\n",
       "      <th>coord</th>\n",
       "      <th>facet</th>\n",
       "    </tr>\n",
       "    <tr>\n",
       "      <th>cell_number</th>\n",
       "      <th></th>\n",
       "      <th></th>\n",
       "      <th></th>\n",
       "    </tr>\n",
       "  </thead>\n",
       "  <tbody>\n",
       "  </tbody>\n",
       "</table>\n",
       "</div>"
      ],
      "text/plain": [
       "Empty DataFrame\n",
       "Columns: [contig, coord, facet]\n",
       "Index: []"
      ]
     },
     "execution_count": 111,
     "metadata": {},
     "output_type": "execute_result"
    }
   ],
   "source": [
    "# Make sure every gene is accounted for\n",
    "umi[~umi.contig.isin(converter.index)]"
   ]
  },
  {
   "cell_type": "code",
   "execution_count": 112,
   "metadata": {},
   "outputs": [],
   "source": [
    "# We're good!\n",
    "converter.columns = ['symbol']"
   ]
  },
  {
   "cell_type": "code",
   "execution_count": 113,
   "metadata": {},
   "outputs": [],
   "source": [
    "umi = umi.join(converter, on='contig')"
   ]
  },
  {
   "cell_type": "code",
   "execution_count": 114,
   "metadata": {},
   "outputs": [],
   "source": [
    "umi = umi.drop(\"contig\", axis=1)"
   ]
  },
  {
   "cell_type": "code",
   "execution_count": 115,
   "metadata": {},
   "outputs": [
    {
     "data": {
      "text/html": [
       "<div>\n",
       "<style scoped>\n",
       "    .dataframe tbody tr th:only-of-type {\n",
       "        vertical-align: middle;\n",
       "    }\n",
       "\n",
       "    .dataframe tbody tr th {\n",
       "        vertical-align: top;\n",
       "    }\n",
       "\n",
       "    .dataframe thead th {\n",
       "        text-align: right;\n",
       "    }\n",
       "</style>\n",
       "<table border=\"1\" class=\"dataframe\">\n",
       "  <thead>\n",
       "    <tr style=\"text-align: right;\">\n",
       "      <th></th>\n",
       "      <th>coord</th>\n",
       "      <th>facet</th>\n",
       "      <th>symbol</th>\n",
       "    </tr>\n",
       "    <tr>\n",
       "      <th>cell_number</th>\n",
       "      <th></th>\n",
       "      <th></th>\n",
       "      <th></th>\n",
       "    </tr>\n",
       "  </thead>\n",
       "  <tbody>\n",
       "    <tr>\n",
       "      <th>682</th>\n",
       "      <td>142</td>\n",
       "      <td>Read Mappings</td>\n",
       "      <td>Hsf</td>\n",
       "    </tr>\n",
       "    <tr>\n",
       "      <th>682</th>\n",
       "      <td>339</td>\n",
       "      <td>Read Mappings</td>\n",
       "      <td>CG4645</td>\n",
       "    </tr>\n",
       "    <tr>\n",
       "      <th>682</th>\n",
       "      <td>393</td>\n",
       "      <td>Read Mappings</td>\n",
       "      <td>CG4645</td>\n",
       "    </tr>\n",
       "    <tr>\n",
       "      <th>682</th>\n",
       "      <td>420</td>\n",
       "      <td>Read Mappings</td>\n",
       "      <td>osa</td>\n",
       "    </tr>\n",
       "    <tr>\n",
       "      <th>682</th>\n",
       "      <td>434</td>\n",
       "      <td>Read Mappings</td>\n",
       "      <td>osa</td>\n",
       "    </tr>\n",
       "  </tbody>\n",
       "</table>\n",
       "</div>"
      ],
      "text/plain": [
       "            coord          facet  symbol\n",
       "cell_number                             \n",
       "682           142  Read Mappings     Hsf\n",
       "682           339  Read Mappings  CG4645\n",
       "682           393  Read Mappings  CG4645\n",
       "682           420  Read Mappings     osa\n",
       "682           434  Read Mappings     osa"
      ]
     },
     "execution_count": 115,
     "metadata": {},
     "output_type": "execute_result"
    }
   ],
   "source": [
    "umi.head()"
   ]
  },
  {
   "cell_type": "code",
   "execution_count": 116,
   "metadata": {},
   "outputs": [],
   "source": [
    "umi.to_csv(\"../data/06_tss_data/all_umis_merged.csv\")"
   ]
  },
  {
   "cell_type": "code",
   "execution_count": null,
   "metadata": {},
   "outputs": [],
   "source": []
  },
  {
   "cell_type": "code",
   "execution_count": 67,
   "metadata": {},
   "outputs": [
    {
     "data": {
      "text/html": [
       "<div>\n",
       "<style scoped>\n",
       "    .dataframe tbody tr th:only-of-type {\n",
       "        vertical-align: middle;\n",
       "    }\n",
       "\n",
       "    .dataframe tbody tr th {\n",
       "        vertical-align: top;\n",
       "    }\n",
       "\n",
       "    .dataframe thead th {\n",
       "        text-align: right;\n",
       "    }\n",
       "</style>\n",
       "<table border=\"1\" class=\"dataframe\">\n",
       "  <thead>\n",
       "    <tr style=\"text-align: right;\">\n",
       "      <th></th>\n",
       "      <th>exon</th>\n",
       "      <th>local_lesser_coord</th>\n",
       "      <th>local_greater_coord</th>\n",
       "    </tr>\n",
       "    <tr>\n",
       "      <th>gene_id</th>\n",
       "      <th></th>\n",
       "      <th></th>\n",
       "      <th></th>\n",
       "    </tr>\n",
       "  </thead>\n",
       "  <tbody>\n",
       "    <tr>\n",
       "      <th>FBgn0031081</th>\n",
       "      <td>4</td>\n",
       "      <td>2659</td>\n",
       "      <td>2775</td>\n",
       "    </tr>\n",
       "    <tr>\n",
       "      <th>FBgn0031081</th>\n",
       "      <td>6</td>\n",
       "      <td>3710</td>\n",
       "      <td>3830</td>\n",
       "    </tr>\n",
       "    <tr>\n",
       "      <th>FBgn0031081</th>\n",
       "      <td>7</td>\n",
       "      <td>3901</td>\n",
       "      <td>4215</td>\n",
       "    </tr>\n",
       "    <tr>\n",
       "      <th>FBgn0031081</th>\n",
       "      <td>8</td>\n",
       "      <td>4281</td>\n",
       "      <td>4775</td>\n",
       "    </tr>\n",
       "    <tr>\n",
       "      <th>FBgn0031081</th>\n",
       "      <td>9</td>\n",
       "      <td>4887</td>\n",
       "      <td>5716</td>\n",
       "    </tr>\n",
       "  </tbody>\n",
       "</table>\n",
       "</div>"
      ],
      "text/plain": [
       "            exon  local_lesser_coord  local_greater_coord\n",
       "gene_id                                                  \n",
       "FBgn0031081    4                2659                 2775\n",
       "FBgn0031081    6                3710                 3830\n",
       "FBgn0031081    7                3901                 4215\n",
       "FBgn0031081    8                4281                 4775\n",
       "FBgn0031081    9                4887                 5716"
      ]
     },
     "execution_count": 67,
     "metadata": {},
     "output_type": "execute_result"
    }
   ],
   "source": [
    "## Fix up exon table as well\n",
    "exon = pd.read_csv(\"../data/06_tss_data/exon_local_coords.tsv\", sep='\\t')\n",
    "exon = exon.set_index(\"gene_id\")\n",
    "exon.head()"
   ]
  },
  {
   "cell_type": "code",
   "execution_count": 68,
   "metadata": {},
   "outputs": [
    {
     "data": {
      "text/html": [
       "<div>\n",
       "<style scoped>\n",
       "    .dataframe tbody tr th:only-of-type {\n",
       "        vertical-align: middle;\n",
       "    }\n",
       "\n",
       "    .dataframe tbody tr th {\n",
       "        vertical-align: top;\n",
       "    }\n",
       "\n",
       "    .dataframe thead th {\n",
       "        text-align: right;\n",
       "    }\n",
       "</style>\n",
       "<table border=\"1\" class=\"dataframe\">\n",
       "  <thead>\n",
       "    <tr style=\"text-align: right;\">\n",
       "      <th></th>\n",
       "      <th>coord</th>\n",
       "      <th>back_coord</th>\n",
       "      <th>facet</th>\n",
       "    </tr>\n",
       "    <tr>\n",
       "      <th>gene_id</th>\n",
       "      <th></th>\n",
       "      <th></th>\n",
       "      <th></th>\n",
       "    </tr>\n",
       "  </thead>\n",
       "  <tbody>\n",
       "    <tr>\n",
       "      <th>FBgn0031081</th>\n",
       "      <td>2659</td>\n",
       "      <td>2775</td>\n",
       "      <td>Exon Map</td>\n",
       "    </tr>\n",
       "    <tr>\n",
       "      <th>FBgn0031081</th>\n",
       "      <td>3710</td>\n",
       "      <td>3830</td>\n",
       "      <td>Exon Map</td>\n",
       "    </tr>\n",
       "    <tr>\n",
       "      <th>FBgn0031081</th>\n",
       "      <td>3901</td>\n",
       "      <td>4215</td>\n",
       "      <td>Exon Map</td>\n",
       "    </tr>\n",
       "    <tr>\n",
       "      <th>FBgn0031081</th>\n",
       "      <td>4281</td>\n",
       "      <td>4775</td>\n",
       "      <td>Exon Map</td>\n",
       "    </tr>\n",
       "    <tr>\n",
       "      <th>FBgn0031081</th>\n",
       "      <td>4887</td>\n",
       "      <td>5716</td>\n",
       "      <td>Exon Map</td>\n",
       "    </tr>\n",
       "  </tbody>\n",
       "</table>\n",
       "</div>"
      ],
      "text/plain": [
       "             coord  back_coord     facet\n",
       "gene_id                                 \n",
       "FBgn0031081   2659        2775  Exon Map\n",
       "FBgn0031081   3710        3830  Exon Map\n",
       "FBgn0031081   3901        4215  Exon Map\n",
       "FBgn0031081   4281        4775  Exon Map\n",
       "FBgn0031081   4887        5716  Exon Map"
      ]
     },
     "execution_count": 68,
     "metadata": {},
     "output_type": "execute_result"
    }
   ],
   "source": [
    "exon['coord'] = exon.local_lesser_coord\n",
    "exon[\"back_coord\"] = exon.local_greater_coord\n",
    "exon = exon.drop([\"exon\", \"local_lesser_coord\", \"local_greater_coord\"], axis=1)\n",
    "exon['facet'] = \"Exon Map\"\n",
    "exon.head()"
   ]
  },
  {
   "cell_type": "code",
   "execution_count": 109,
   "metadata": {},
   "outputs": [],
   "source": [
    "# Need a new gene list for exon genes\n",
    "## done with this online tool, here \n",
    "## http://flybase.org/convert/id\n",
    "## downloaded to ../data/06_tss_data/exon_FlyBase_IDs.txt\n",
    "with open(\"../data/06_tss_data/flybase_exon_gene_id_list_to_convert.txt\", 'w') as f:\n",
    "    for fb in exon.index.unique():\n",
    "        f.write(\"{}\\n\".format(fb))"
   ]
  },
  {
   "cell_type": "code",
   "execution_count": 69,
   "metadata": {},
   "outputs": [],
   "source": [
    "# generate map df\n",
    "exon_converter = pd.read_csv(\"../data/06_tss_data/exon_FlyBase_IDs.txt\", sep=\"\\t\")\n",
    "exon_converter = exon_converter[['submitted_id', 'current_symbol']]\n",
    "exon_converter = exon_converter.set_index('submitted_id')"
   ]
  },
  {
   "cell_type": "code",
   "execution_count": 70,
   "metadata": {},
   "outputs": [
    {
     "data": {
      "text/html": [
       "<div>\n",
       "<style scoped>\n",
       "    .dataframe tbody tr th:only-of-type {\n",
       "        vertical-align: middle;\n",
       "    }\n",
       "\n",
       "    .dataframe tbody tr th {\n",
       "        vertical-align: top;\n",
       "    }\n",
       "\n",
       "    .dataframe thead th {\n",
       "        text-align: right;\n",
       "    }\n",
       "</style>\n",
       "<table border=\"1\" class=\"dataframe\">\n",
       "  <thead>\n",
       "    <tr style=\"text-align: right;\">\n",
       "      <th></th>\n",
       "      <th>coord</th>\n",
       "      <th>back_coord</th>\n",
       "      <th>facet</th>\n",
       "    </tr>\n",
       "    <tr>\n",
       "      <th>gene_id</th>\n",
       "      <th></th>\n",
       "      <th></th>\n",
       "      <th></th>\n",
       "    </tr>\n",
       "  </thead>\n",
       "  <tbody>\n",
       "  </tbody>\n",
       "</table>\n",
       "</div>"
      ],
      "text/plain": [
       "Empty DataFrame\n",
       "Columns: [coord, back_coord, facet]\n",
       "Index: []"
      ]
     },
     "execution_count": 70,
     "metadata": {},
     "output_type": "execute_result"
    }
   ],
   "source": [
    "# Make sure every gene is accounted for\n",
    "exon[~exon.index.isin(exon_converter.index)]"
   ]
  },
  {
   "cell_type": "code",
   "execution_count": 71,
   "metadata": {},
   "outputs": [],
   "source": [
    "# We're good!\n",
    "exon_converter.columns = ['symbol']"
   ]
  },
  {
   "cell_type": "code",
   "execution_count": 72,
   "metadata": {},
   "outputs": [],
   "source": [
    "exon = exon.join(exon_converter)\n",
    "exon.index.name ='contig'\n",
    "exon = exon.set_index(\"symbol\")\n",
    "exon = exon[exon.index.isin(umi.symbol.unique())]"
   ]
  },
  {
   "cell_type": "code",
   "execution_count": 104,
   "metadata": {},
   "outputs": [],
   "source": [
    "exon.to_csv(\"../data/06_tss_data/exon_local_coords.csv\")"
   ]
  },
  {
   "cell_type": "code",
   "execution_count": null,
   "metadata": {},
   "outputs": [],
   "source": []
  },
  {
   "cell_type": "code",
   "execution_count": null,
   "metadata": {},
   "outputs": [],
   "source": []
  },
  {
   "cell_type": "code",
   "execution_count": null,
   "metadata": {},
   "outputs": [],
   "source": []
  },
  {
   "cell_type": "code",
   "execution_count": null,
   "metadata": {},
   "outputs": [],
   "source": []
  },
  {
   "cell_type": "code",
   "execution_count": 26,
   "metadata": {},
   "outputs": [],
   "source": []
  },
  {
   "cell_type": "code",
   "execution_count": null,
   "metadata": {},
   "outputs": [],
   "source": []
  }
 ],
 "metadata": {
  "kernelspec": {
   "display_name": "Python 3",
   "language": "python",
   "name": "python3"
  },
  "language_info": {
   "codemirror_mode": {
    "name": "ipython",
    "version": 3
   },
   "file_extension": ".py",
   "mimetype": "text/x-python",
   "name": "python",
   "nbconvert_exporter": "python",
   "pygments_lexer": "ipython3",
   "version": "3.7.0"
  }
 },
 "nbformat": 4,
 "nbformat_minor": 2
}
