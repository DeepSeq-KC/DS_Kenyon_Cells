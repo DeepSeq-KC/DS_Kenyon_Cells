{
 "cells": [
  {
   "cell_type": "code",
   "execution_count": null,
   "metadata": {},
   "outputs": [],
   "source": [
    "import sys\n",
    "sys.path.append(\"../code/ICIM\")\n",
    "\n",
    "import sct"
   ]
  },
  {
   "cell_type": "code",
   "execution_count": null,
   "metadata": {},
   "outputs": [],
   "source": [
    "help(sct.ICIM)"
   ]
  },
  {
   "cell_type": "code",
   "execution_count": null,
   "metadata": {},
   "outputs": [],
   "source": [
    "import pandas as pd\n",
    "df = pd.read_csv(\"../data/STAWP_Fly_AdultBrain_KC.csv\")"
   ]
  },
  {
   "cell_type": "code",
   "execution_count": null,
   "metadata": {},
   "outputs": [],
   "source": [
    "x = df"
   ]
  },
  {
   "cell_type": "code",
   "execution_count": null,
   "metadata": {},
   "outputs": [],
   "source": [
    "reload(sct)\n",
    "from scipy.cluster import hierarchy\n",
    "myICIM = sct.ICIM(x, df, TFs=[], CSMs=[], exclude=[], N=100,\n",
    "                  correlation_cutoff=0.5,\n",
    "                  min_hits=3,\n",
    "                  exclude_max=2,\n",
    "                  dropout_rate_low=0.3,\n",
    "                  dropout_rate_high=1.0,\n",
    "                  metric=\"correlation\",\n",
    "                  stop_condition=\"linkage_dist\",\n",
    "                  N_stop=50,\n",
    "                  linkage_dist_stop=0.2)"
   ]
  },
  {
   "cell_type": "code",
   "execution_count": null,
   "metadata": {},
   "outputs": [],
   "source": [
    "myICIM.step(\"0\") # for testing one step"
   ]
  },
  {
   "cell_type": "code",
   "execution_count": null,
   "metadata": {},
   "outputs": [],
   "source": []
  }
 ],
 "metadata": {
  "kernelspec": {
   "display_name": "Python 2",
   "language": "python",
   "name": "python2"
  },
  "language_info": {
   "codemirror_mode": {
    "name": "ipython",
    "version": 2
   },
   "file_extension": ".py",
   "mimetype": "text/x-python",
   "name": "python",
   "nbconvert_exporter": "python",
   "pygments_lexer": "ipython2",
   "version": "2.7.15"
  }
 },
 "nbformat": 4,
 "nbformat_minor": 2
}
