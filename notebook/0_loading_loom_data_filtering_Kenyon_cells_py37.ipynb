{
 "cells": [
  {
   "cell_type": "code",
   "execution_count": 4,
   "metadata": {},
   "outputs": [],
   "source": [
    "import loompy\n",
    "import numpy as np\n",
    "import pandas as pd\n",
    "import os\n",
    "import shutil"
   ]
  },
  {
   "cell_type": "code",
   "execution_count": 9,
   "metadata": {},
   "outputs": [],
   "source": [
    "# Data can be downloaded from http://scope.aertslab.org\n",
    "# Data is listed under Publically Available -> Drosophila -> Brain\n",
    "# -> Aerts_Fly_AdultBrain_Filtered_57k.loom\n",
    "\n",
    "\n",
    "# See http://linnarssonlab.org/loompy/apiwalkthrough/index.html\n",
    "# for an introduction to working with loom files\n",
    "\n",
    "# Because .loom data is written to disk as it's altered for e.g.\n",
    "# exploratory analysis, a fresh copy of the original data is\n",
    "# copied to re-run any analyses\n",
    "\n",
    "og_data = \"../data/00_original_data/ORIGINAL_Aerts_Fly_AdultBrain_Filtered_57k.loom\"\n",
    "wrk_data = \"../data/01_working_data/WORKING_Aerts_Fly_AdultBrain_Filtered_57k.loom\"\n",
    "if os.path.isfile(og_data):\n",
    "    shutil.copyfile(og_data, wrk_data)"
   ]
  },
  {
   "cell_type": "code",
   "execution_count": 10,
   "metadata": {},
   "outputs": [],
   "source": [
    "# Make a connection to the working data\n",
    "# **** Validation is set to False\n",
    "# Presumably - the dataformat for loom has been altered in the time since this dataset was generated\n",
    "# Validation is turned off to open, will be reshaped to a valid form in filtering process.\n",
    "ds = loompy.connect(wrk_data, validate=False)"
   ]
  },
  {
   "cell_type": "code",
   "execution_count": 14,
   "metadata": {},
   "outputs": [
    {
     "data": {
      "text/plain": [
       "array([[ 0.,  0.,  0.,  0.,  0.,  1.,  0.,  0.,  0.,  0.],\n",
       "       [ 1.,  0.,  1.,  0.,  0.,  3.,  1.,  1.,  0.,  0.],\n",
       "       [25.,  2.,  4.,  7.,  0., 17., 17.,  8.,  2.,  4.],\n",
       "       [39.,  8., 11.,  4.,  1., 64., 47., 13.,  3.,  2.],\n",
       "       [ 0.,  0.,  0.,  0.,  0.,  0.,  0.,  0.,  0.,  0.],\n",
       "       [ 0.,  0.,  0.,  0.,  0.,  0.,  0.,  0.,  0.,  0.],\n",
       "       [ 0.,  0.,  0.,  0.,  0.,  0.,  0.,  0.,  0.,  0.],\n",
       "       [ 0.,  0.,  0.,  0.,  0.,  0.,  0.,  0.,  0.,  0.],\n",
       "       [ 0.,  0.,  0.,  0.,  0.,  0.,  0.,  0.,  0.,  0.],\n",
       "       [ 0.,  0.,  0.,  1.,  0.,  0.,  0.,  0.,  0.,  0.]])"
      ]
     },
     "execution_count": 14,
     "metadata": {},
     "output_type": "execute_result"
    }
   ],
   "source": [
    "# Get sense of data\n",
    "ds[0:10, 0:10] "
   ]
  },
  {
   "cell_type": "code",
   "execution_count": 27,
   "metadata": {},
   "outputs": [
    {
     "data": {
      "text/plain": [
       "(17473, 56902)"
      ]
     },
     "execution_count": 27,
     "metadata": {},
     "output_type": "execute_result"
    }
   ],
   "source": [
    "ds.shape"
   ]
  },
  {
   "cell_type": "code",
   "execution_count": 15,
   "metadata": {},
   "outputs": [
    {
     "data": {
      "text/plain": [
       "['Age',\n",
       " 'CellID',\n",
       " 'ClusterID',\n",
       " 'Clusterings',\n",
       " 'Embedding',\n",
       " 'Embeddings_X',\n",
       " 'Embeddings_Y',\n",
       " 'Gender',\n",
       " 'Genotype',\n",
       " 'RegulonsAUC',\n",
       " 'Replicate',\n",
       " 'nGene',\n",
       " 'nUMI']"
      ]
     },
     "execution_count": 15,
     "metadata": {},
     "output_type": "execute_result"
    }
   ],
   "source": [
    "# The list of attributes associated with each Column/CELL\n",
    "ds.ca.keys()"
   ]
  },
  {
   "cell_type": "code",
   "execution_count": 16,
   "metadata": {},
   "outputs": [
    {
     "data": {
      "text/plain": [
       "['ClusterMarkers_0',\n",
       " 'ClusterMarkers_0_sub_0',\n",
       " 'ClusterMarkers_0_sub_1',\n",
       " 'ClusterMarkers_0_sub_10',\n",
       " 'ClusterMarkers_0_sub_11',\n",
       " 'ClusterMarkers_0_sub_12',\n",
       " 'ClusterMarkers_0_sub_13',\n",
       " 'ClusterMarkers_0_sub_14',\n",
       " 'ClusterMarkers_0_sub_15',\n",
       " 'ClusterMarkers_0_sub_16',\n",
       " 'ClusterMarkers_0_sub_17',\n",
       " 'ClusterMarkers_0_sub_18',\n",
       " 'ClusterMarkers_0_sub_19',\n",
       " 'ClusterMarkers_0_sub_2',\n",
       " 'ClusterMarkers_0_sub_20',\n",
       " 'ClusterMarkers_0_sub_21',\n",
       " 'ClusterMarkers_0_sub_22',\n",
       " 'ClusterMarkers_0_sub_23',\n",
       " 'ClusterMarkers_0_sub_24',\n",
       " 'ClusterMarkers_0_sub_25',\n",
       " 'ClusterMarkers_0_sub_26',\n",
       " 'ClusterMarkers_0_sub_27',\n",
       " 'ClusterMarkers_0_sub_28',\n",
       " 'ClusterMarkers_0_sub_29',\n",
       " 'ClusterMarkers_0_sub_3',\n",
       " 'ClusterMarkers_0_sub_30',\n",
       " 'ClusterMarkers_0_sub_31',\n",
       " 'ClusterMarkers_0_sub_32',\n",
       " 'ClusterMarkers_0_sub_33',\n",
       " 'ClusterMarkers_0_sub_34',\n",
       " 'ClusterMarkers_0_sub_35',\n",
       " 'ClusterMarkers_0_sub_36',\n",
       " 'ClusterMarkers_0_sub_37',\n",
       " 'ClusterMarkers_0_sub_38',\n",
       " 'ClusterMarkers_0_sub_39',\n",
       " 'ClusterMarkers_0_sub_4',\n",
       " 'ClusterMarkers_0_sub_40',\n",
       " 'ClusterMarkers_0_sub_41',\n",
       " 'ClusterMarkers_0_sub_42',\n",
       " 'ClusterMarkers_0_sub_43',\n",
       " 'ClusterMarkers_0_sub_44',\n",
       " 'ClusterMarkers_0_sub_45',\n",
       " 'ClusterMarkers_0_sub_46',\n",
       " 'ClusterMarkers_0_sub_47',\n",
       " 'ClusterMarkers_0_sub_48',\n",
       " 'ClusterMarkers_0_sub_49',\n",
       " 'ClusterMarkers_0_sub_5',\n",
       " 'ClusterMarkers_0_sub_50',\n",
       " 'ClusterMarkers_0_sub_51',\n",
       " 'ClusterMarkers_0_sub_52',\n",
       " 'ClusterMarkers_0_sub_53',\n",
       " 'ClusterMarkers_0_sub_54',\n",
       " 'ClusterMarkers_0_sub_55',\n",
       " 'ClusterMarkers_0_sub_56',\n",
       " 'ClusterMarkers_0_sub_57',\n",
       " 'ClusterMarkers_0_sub_58',\n",
       " 'ClusterMarkers_0_sub_59',\n",
       " 'ClusterMarkers_0_sub_6',\n",
       " 'ClusterMarkers_0_sub_60',\n",
       " 'ClusterMarkers_0_sub_61',\n",
       " 'ClusterMarkers_0_sub_62',\n",
       " 'ClusterMarkers_0_sub_63',\n",
       " 'ClusterMarkers_0_sub_64',\n",
       " 'ClusterMarkers_0_sub_65',\n",
       " 'ClusterMarkers_0_sub_66',\n",
       " 'ClusterMarkers_0_sub_67',\n",
       " 'ClusterMarkers_0_sub_68',\n",
       " 'ClusterMarkers_0_sub_69',\n",
       " 'ClusterMarkers_0_sub_7',\n",
       " 'ClusterMarkers_0_sub_70',\n",
       " 'ClusterMarkers_0_sub_71',\n",
       " 'ClusterMarkers_0_sub_72',\n",
       " 'ClusterMarkers_0_sub_8',\n",
       " 'ClusterMarkers_0_sub_9',\n",
       " 'ClusterMarkers_1',\n",
       " 'ClusterMarkers_2',\n",
       " 'ClusterMarkers_3',\n",
       " 'ClusterMarkers_4',\n",
       " 'ClusterMarkers_5',\n",
       " 'ClusterMarkers_6',\n",
       " 'ClusterMarkers_7',\n",
       " 'Gene',\n",
       " 'Regulons']"
      ]
     },
     "execution_count": 16,
     "metadata": {},
     "output_type": "execute_result"
    }
   ],
   "source": [
    "# The list of attributes associated with each row/GENE\n",
    "ds.ra.keys()"
   ]
  },
  {
   "cell_type": "code",
   "execution_count": 24,
   "metadata": {},
   "outputs": [
    {
     "data": {
      "text/plain": [
       "array([[ 19.,  18.,  19., ...,  24.,  31.,   5.],\n",
       "       [ 21.,  21.,  21., ...,  12.,  20.,  10.],\n",
       "       [ 12.,  12.,  13., ...,  20.,  22.,   7.],\n",
       "       ...,\n",
       "       [ 79.,  81.,  85., ..., 107., 111.,  -1.],\n",
       "       [ 53.,  54.,  54., ...,  83.,  90.,   7.],\n",
       "       [  1.,   1.,   5., ...,  21.,  14.,   2.]])"
      ]
     },
     "execution_count": 24,
     "metadata": {},
     "output_type": "execute_result"
    }
   ],
   "source": [
    "# Exploring the Column/CELL attribute ClusterID\n",
    "# which contains the code for the cell type of \n",
    "# each individual cell. See csv \n",
    "# ../data/02_filtered_kenyon_cells/cluster_id_cell_type_definition_at_resolution2.csv\n",
    "\n",
    "# Clutser ID - Annotation\n",
    "#  8 - G-KC\n",
    "# 22 - a/b-KC\n",
    "# 28 - a'/b'-KC\n",
    "\n",
    "ds.ca.ClusterID"
   ]
  },
  {
   "cell_type": "code",
   "execution_count": 26,
   "metadata": {},
   "outputs": [
    {
     "data": {
      "text/plain": [
       "(56902, 9)"
      ]
     },
     "execution_count": 26,
     "metadata": {},
     "output_type": "execute_result"
    }
   ],
   "source": [
    "ds.ca.ClusterID.shape"
   ]
  },
  {
   "cell_type": "code",
   "execution_count": 29,
   "metadata": {},
   "outputs": [],
   "source": [
    "# the loom file contains 56902 cells\n",
    "# Each cell has a unique ClusterID / Cell type assigned to it\n",
    "# 9 Seperate clusterings / cell-type callings were performed\n",
    "# We will work with the initial set!\n",
    "\n",
    "cell_type_id = []\n",
    "\n",
    "for row in ds.ca.ClusterID:\n",
    "    cell_type_id.append(row[0])\n",
    "# Assign new column attribute \n",
    "ds.ca.cell_type_id = cell_type_id"
   ]
  },
  {
   "cell_type": "code",
   "execution_count": 33,
   "metadata": {},
   "outputs": [],
   "source": [
    "# Create a True / False ( 0 / 1) column/CELL attribute\n",
    "# too pull out only those cells which are one of the \n",
    "# three kenyon cell subtypes\n",
    "\n",
    "is_kc = []\n",
    "\n",
    "for cell_type_id in ds.ca.cell_type_id:\n",
    "    if cell_type_id in [8, 22, 28]:\n",
    "        is_kc.append(1)\n",
    "    else:\n",
    "        is_kc.append(0)\n",
    "        \n",
    "ds.ca.is_kc = is_kc"
   ]
  },
  {
   "cell_type": "code",
   "execution_count": 42,
   "metadata": {},
   "outputs": [],
   "source": [
    "# Generating metadata df\n",
    "# The attributes associated with each column/CELL is the metadata\n",
    "# we will want to use to explore the data visually later\n",
    "ca_keys = ds.ca.keys()\n",
    "ddict = {}\n",
    "for key in ca_keys:\n",
    "    ddict[key] = list(ds.ca[key])\n",
    "metadf = pd.DataFrame(ddict)\n",
    "# Only some of these values are of interest to us\n",
    "keep = ['CellID', 'Age', 'Gender', 'Genotype', 'Replicate',\n",
    "        'nGene', 'nUMI', 'cell_type_id', 'is_kc']\n",
    "\n",
    "metadf = metadf[keep]\n",
    "\n",
    "# Drop all non-Kenyon cells\n",
    "metadf = metadf[metadf.is_kc == 1]\n",
    "\n",
    "metadf = metadf.set_index(\"CellID\")"
   ]
  },
  {
   "cell_type": "code",
   "execution_count": 43,
   "metadata": {},
   "outputs": [
    {
     "data": {
      "text/html": [
       "<div>\n",
       "<style scoped>\n",
       "    .dataframe tbody tr th:only-of-type {\n",
       "        vertical-align: middle;\n",
       "    }\n",
       "\n",
       "    .dataframe tbody tr th {\n",
       "        vertical-align: top;\n",
       "    }\n",
       "\n",
       "    .dataframe thead th {\n",
       "        text-align: right;\n",
       "    }\n",
       "</style>\n",
       "<table border=\"1\" class=\"dataframe\">\n",
       "  <thead>\n",
       "    <tr style=\"text-align: right;\">\n",
       "      <th></th>\n",
       "      <th>Age</th>\n",
       "      <th>Gender</th>\n",
       "      <th>Genotype</th>\n",
       "      <th>Replicate</th>\n",
       "      <th>nGene</th>\n",
       "      <th>nUMI</th>\n",
       "      <th>cell_type_id</th>\n",
       "      <th>is_kc</th>\n",
       "    </tr>\n",
       "    <tr>\n",
       "      <th>CellID</th>\n",
       "      <th></th>\n",
       "      <th></th>\n",
       "      <th></th>\n",
       "      <th></th>\n",
       "      <th></th>\n",
       "      <th></th>\n",
       "      <th></th>\n",
       "      <th></th>\n",
       "    </tr>\n",
       "  </thead>\n",
       "  <tbody>\n",
       "    <tr>\n",
       "      <th>ACATACGAGGGCTTCC-DGRP-551_0d_r1</th>\n",
       "      <td>0</td>\n",
       "      <td>Female</td>\n",
       "      <td>DGRP-551</td>\n",
       "      <td>DGRP-551_0d_Rep1</td>\n",
       "      <td>1328</td>\n",
       "      <td>3340.0</td>\n",
       "      <td>8.0</td>\n",
       "      <td>1</td>\n",
       "    </tr>\n",
       "    <tr>\n",
       "      <th>ACCCACTTCACTCTTA-DGRP-551_0d_r1</th>\n",
       "      <td>0</td>\n",
       "      <td>Female</td>\n",
       "      <td>DGRP-551</td>\n",
       "      <td>DGRP-551_0d_Rep1</td>\n",
       "      <td>1613</td>\n",
       "      <td>4580.0</td>\n",
       "      <td>8.0</td>\n",
       "      <td>1</td>\n",
       "    </tr>\n",
       "    <tr>\n",
       "      <th>ACCGTAAAGATAGTCA-DGRP-551_0d_r1</th>\n",
       "      <td>0</td>\n",
       "      <td>Male</td>\n",
       "      <td>DGRP-551</td>\n",
       "      <td>DGRP-551_0d_Rep1</td>\n",
       "      <td>1466</td>\n",
       "      <td>4349.0</td>\n",
       "      <td>22.0</td>\n",
       "      <td>1</td>\n",
       "    </tr>\n",
       "    <tr>\n",
       "      <th>ACTTACTAGTGGTAAT-DGRP-551_0d_r1</th>\n",
       "      <td>0</td>\n",
       "      <td>Male</td>\n",
       "      <td>DGRP-551</td>\n",
       "      <td>DGRP-551_0d_Rep1</td>\n",
       "      <td>1174</td>\n",
       "      <td>2942.0</td>\n",
       "      <td>8.0</td>\n",
       "      <td>1</td>\n",
       "    </tr>\n",
       "    <tr>\n",
       "      <th>ACTTGTTCATGGTTGT-DGRP-551_0d_r1</th>\n",
       "      <td>0</td>\n",
       "      <td>Male</td>\n",
       "      <td>DGRP-551</td>\n",
       "      <td>DGRP-551_0d_Rep1</td>\n",
       "      <td>1410</td>\n",
       "      <td>3620.0</td>\n",
       "      <td>8.0</td>\n",
       "      <td>1</td>\n",
       "    </tr>\n",
       "  </tbody>\n",
       "</table>\n",
       "</div>"
      ],
      "text/plain": [
       "                                Age  Gender  Genotype         Replicate  \\\n",
       "CellID                                                                    \n",
       "ACATACGAGGGCTTCC-DGRP-551_0d_r1   0  Female  DGRP-551  DGRP-551_0d_Rep1   \n",
       "ACCCACTTCACTCTTA-DGRP-551_0d_r1   0  Female  DGRP-551  DGRP-551_0d_Rep1   \n",
       "ACCGTAAAGATAGTCA-DGRP-551_0d_r1   0    Male  DGRP-551  DGRP-551_0d_Rep1   \n",
       "ACTTACTAGTGGTAAT-DGRP-551_0d_r1   0    Male  DGRP-551  DGRP-551_0d_Rep1   \n",
       "ACTTGTTCATGGTTGT-DGRP-551_0d_r1   0    Male  DGRP-551  DGRP-551_0d_Rep1   \n",
       "\n",
       "                                 nGene    nUMI  cell_type_id  is_kc  \n",
       "CellID                                                               \n",
       "ACATACGAGGGCTTCC-DGRP-551_0d_r1   1328  3340.0           8.0      1  \n",
       "ACCCACTTCACTCTTA-DGRP-551_0d_r1   1613  4580.0           8.0      1  \n",
       "ACCGTAAAGATAGTCA-DGRP-551_0d_r1   1466  4349.0          22.0      1  \n",
       "ACTTACTAGTGGTAAT-DGRP-551_0d_r1   1174  2942.0           8.0      1  \n",
       "ACTTGTTCATGGTTGT-DGRP-551_0d_r1   1410  3620.0           8.0      1  "
      ]
     },
     "execution_count": 43,
     "metadata": {},
     "output_type": "execute_result"
    }
   ],
   "source": [
    "metadf.head()"
   ]
  },
  {
   "cell_type": "code",
   "execution_count": 44,
   "metadata": {},
   "outputs": [
    {
     "data": {
      "text/plain": [
       "(2848, 8)"
      ]
     },
     "execution_count": 44,
     "metadata": {},
     "output_type": "execute_result"
    }
   ],
   "source": [
    "# Almost 3000 total kenyon cells between the three types\n",
    "# Consistent with number of KC listed in manuscript\n",
    "metadf.shape"
   ]
  },
  {
   "cell_type": "code",
   "execution_count": 45,
   "metadata": {},
   "outputs": [],
   "source": [
    "metadf.to_csv(\"../data/02_filtered_kenyon_cells/metadata_kenyon_cells.csv\")"
   ]
  },
  {
   "cell_type": "code",
   "execution_count": 46,
   "metadata": {},
   "outputs": [],
   "source": [
    "# Need to generate a new loom file containing only those cells which\n",
    "# are a kenyon cell.\n",
    "with loompy.new(\"../data/02_filtered_kenyon_cells/ORIGINAL_kenyon_cells.loom\") as dsout:  # Create a new, empty, loom file\n",
    "    cells = ds.ca.is_kc != 0\n",
    "    for (ix, selection, view) in ds.scan(items=cells, axis=1):\n",
    "        dsout.add_columns(view.layers, col_attrs=view.ca, row_attrs=view.ra)"
   ]
  },
  {
   "cell_type": "code",
   "execution_count": 47,
   "metadata": {},
   "outputs": [],
   "source": [
    "# close out the original loom file, ds\n",
    "ds.close()"
   ]
  },
  {
   "cell_type": "code",
   "execution_count": 59,
   "metadata": {},
   "outputs": [],
   "source": [
    "# There is excess data stored in the column/CELL and row/GENE attributes\n",
    "# which we either don't need or have stored as metadata\n",
    "# These need to be removed so we can store our data as \n",
    "# a csv"
   ]
  },
  {
   "cell_type": "code",
   "execution_count": 48,
   "metadata": {},
   "outputs": [],
   "source": [
    "ds2 = loompy.connect(\"../data/02_filtered_kenyon_cells/ORIGINAL_kenyon_cells.loom\", validate=False)"
   ]
  },
  {
   "cell_type": "code",
   "execution_count": 49,
   "metadata": {},
   "outputs": [
    {
     "data": {
      "text/plain": [
       "array([[  0.,   0.,   0.,   0.,   0.,   0.,   0.,   0.,   0.,   0.],\n",
       "       [  0.,   0.,   0.,   0.,   0.,   0.,   1.,   0.,   0.,   0.],\n",
       "       [ 10.,   6.,   9.,  10.,   6.,   5.,   7.,   7.,   9.,   7.],\n",
       "       [ 53., 102.,  84.,  46.,  72.,  80., 102., 121.,   8.,  59.],\n",
       "       [  0.,   0.,   0.,   0.,   0.,   0.,   0.,   0.,   0.,   0.],\n",
       "       [  0.,   0.,   0.,   0.,   0.,   0.,   0.,   0.,   0.,   0.],\n",
       "       [  0.,   0.,   0.,   0.,   0.,   0.,   0.,   0.,   0.,   0.],\n",
       "       [  0.,   0.,   0.,   0.,   0.,   0.,   0.,   0.,   0.,   0.],\n",
       "       [  0.,   0.,   0.,   0.,   0.,   0.,   0.,   0.,   0.,   0.],\n",
       "       [  0.,   0.,   0.,   0.,   0.,   0.,   0.,   0.,   0.,   0.]])"
      ]
     },
     "execution_count": 49,
     "metadata": {},
     "output_type": "execute_result"
    }
   ],
   "source": [
    "ds2[0:10, 0:10]"
   ]
  },
  {
   "cell_type": "code",
   "execution_count": 50,
   "metadata": {},
   "outputs": [],
   "source": [
    "# Remove every row/GENE attribute except for 'GENE'\n",
    "ra_list = ds2.ra.keys()\n",
    "ra_list.remove('Gene')\n",
    "\n",
    "for ra in ra_list:\n",
    "    del  ds2.ra[ra]"
   ]
  },
  {
   "cell_type": "code",
   "execution_count": 52,
   "metadata": {},
   "outputs": [],
   "source": [
    "# Remove every column/CELL attribute except for 'CellID'\n",
    "ca_list = ds2.ca.keys()\n",
    "ca_list.remove('CellID')\n",
    "\n",
    "for ca in ca_list:\n",
    "    del ds2.ca[ca]"
   ]
  },
  {
   "cell_type": "code",
   "execution_count": 53,
   "metadata": {},
   "outputs": [
    {
     "data": {
      "text/html": [
       "<p>17473 rows, 2848 columns, 1 layer<br/>(showing up to 10x10)<br/>../data/02_filtered_kenyon_cells/ORIGINAL_kenyon_cells.loom<br/>name: <em>20181203T022022.144293Z</em><br/>name: <em>2.0.1</em><br/>name: <em>20181203T022337.242602Z</em><br/><table><tr><td>&nbsp;</td><td><strong>CellID</strong></td><td>ACATACGAGGGCTTCC-DGRP-551_0d_r1</td><td>ACCCACTTCACTCTTA-DGRP-551_0d_r1</td><td>ACCGTAAAGATAGTCA-DGRP-551_0d_r1</td><td>ACTTACTAGTGGTAAT-DGRP-551_0d_r1</td><td>ACTTGTTCATGGTTGT-DGRP-551_0d_r1</td><td>ACTTTCATCAATAAGG-DGRP-551_0d_r1</td><td>AGATCTGCAACAACCT-DGRP-551_0d_r1</td><td>AGATCTGTCTACTCAT-DGRP-551_0d_r1</td><td>AGCGGTCCATTTCACT-DGRP-551_0d_r1</td><td>AGCTCTCGTTTGACTG-DGRP-551_0d_r1</td><td>...</td></tr><tr><td><strong>Gene</strong></td><td>&nbsp;</td><td>&nbsp;</td><td>&nbsp;</td><td>&nbsp;</td><td>&nbsp;</td><td>&nbsp;</td><td>&nbsp;</td><td>&nbsp;</td><td>&nbsp;</td><td>&nbsp;</td><td>&nbsp;</td><td>...</td></tr><tr><td>128up</td><td>&nbsp;</td><td>0.0</td><td>0.0</td><td>0.0</td><td>0.0</td><td>0.0</td><td>0.0</td><td>0.0</td><td>0.0</td><td>0.0</td><td>0.0</td><td>...</td></tr><tr><td>140up</td><td>&nbsp;</td><td>0.0</td><td>0.0</td><td>0.0</td><td>0.0</td><td>0.0</td><td>0.0</td><td>1.0</td><td>0.0</td><td>0.0</td><td>0.0</td><td>...</td></tr><tr><td>14-3-3epsilon</td><td>&nbsp;</td><td>10.0</td><td>6.0</td><td>9.0</td><td>10.0</td><td>6.0</td><td>5.0</td><td>7.0</td><td>7.0</td><td>9.0</td><td>7.0</td><td>...</td></tr><tr><td>14-3-3zeta</td><td>&nbsp;</td><td>53.0</td><td>102.0</td><td>84.0</td><td>46.0</td><td>72.0</td><td>80.0</td><td>102.0</td><td>121.0</td><td>8.0</td><td>59.0</td><td>...</td></tr><tr><td>18SrRNA:CR41548</td><td>&nbsp;</td><td>0.0</td><td>0.0</td><td>0.0</td><td>0.0</td><td>0.0</td><td>0.0</td><td>0.0</td><td>0.0</td><td>0.0</td><td>0.0</td><td>...</td></tr><tr><td>18SrRNA:CR45838</td><td>&nbsp;</td><td>0.0</td><td>0.0</td><td>0.0</td><td>0.0</td><td>0.0</td><td>0.0</td><td>0.0</td><td>0.0</td><td>0.0</td><td>0.0</td><td>...</td></tr><tr><td>18SrRNA:CR45841</td><td>&nbsp;</td><td>0.0</td><td>0.0</td><td>0.0</td><td>0.0</td><td>0.0</td><td>0.0</td><td>0.0</td><td>0.0</td><td>0.0</td><td>0.0</td><td>...</td></tr><tr><td>18SrRNA-Psi:CR41602</td><td>&nbsp;</td><td>0.0</td><td>0.0</td><td>0.0</td><td>0.0</td><td>0.0</td><td>0.0</td><td>0.0</td><td>0.0</td><td>0.0</td><td>0.0</td><td>...</td></tr><tr><td>18SrRNA-Psi:CR45861</td><td>&nbsp;</td><td>0.0</td><td>0.0</td><td>0.0</td><td>0.0</td><td>0.0</td><td>0.0</td><td>0.0</td><td>0.0</td><td>0.0</td><td>0.0</td><td>...</td></tr><tr><td>18w</td><td>&nbsp;</td><td>0.0</td><td>0.0</td><td>0.0</td><td>0.0</td><td>0.0</td><td>0.0</td><td>0.0</td><td>0.0</td><td>0.0</td><td>0.0</td><td>...</td></tr><tr><td>...</td><td>...</td><td>...</td><td>...</td><td>...</td><td>...</td><td>...</td><td>...</td><td>...</td><td>...</td><td>...</td><td>...</td><td>...</td></tr></table>"
      ],
      "text/plain": [
       "<loompy.loompy.LoomConnection at 0xb41edbcf8>"
      ]
     },
     "execution_count": 53,
     "metadata": {},
     "output_type": "execute_result"
    }
   ],
   "source": [
    "ds2"
   ]
  },
  {
   "cell_type": "code",
   "execution_count": 54,
   "metadata": {},
   "outputs": [],
   "source": [
    "# Want to export data out now that it will be compatible with tabular formats\n",
    "# help(ds2.export)\n",
    "ds2.export(\"../data/02_filtered_kenyon_cells/CLEAN_kenyon_cells.tab\")"
   ]
  },
  {
   "cell_type": "code",
   "execution_count": 77,
   "metadata": {},
   "outputs": [],
   "source": [
    "ds2.close()"
   ]
  },
  {
   "cell_type": "code",
   "execution_count": 76,
   "metadata": {},
   "outputs": [],
   "source": [
    "# Load in newly exported data\n",
    "df2 = pd.read_csv(\"../data/02_filtered_kenyon_cells/CLEAN_kenyon_cells.tab\", sep='\\t')\n",
    "\n",
    "# Export process generates some issues\n",
    "# Data cleaning\n",
    "df2 = df2.drop(\"CellID\", axis=1)\n",
    "\n",
    "# Symbol is the index column name\n",
    "# used in a downstream analysis package\n",
    "df2['symbol'] = df2['Unnamed: 0']\n",
    "df2 = df2.set_index('symbol')\n",
    "\n",
    "# Remove columns which are \"unnamed\" and empty\n",
    "# or \"unnamed\" and contain gene names now stored\n",
    "# in 'symbol'\n",
    "df2 = df2.loc[:, ~df2.columns.str.contains('^Unnamed')]\n",
    "\n",
    "# Drop row which is formed with empty row called \"Gene\"\n",
    "df2 = df2.drop(\"Gene\", axis=0)"
   ]
  },
  {
   "cell_type": "code",
   "execution_count": 78,
   "metadata": {},
   "outputs": [
    {
     "data": {
      "text/html": [
       "<div>\n",
       "<style scoped>\n",
       "    .dataframe tbody tr th:only-of-type {\n",
       "        vertical-align: middle;\n",
       "    }\n",
       "\n",
       "    .dataframe tbody tr th {\n",
       "        vertical-align: top;\n",
       "    }\n",
       "\n",
       "    .dataframe thead th {\n",
       "        text-align: right;\n",
       "    }\n",
       "</style>\n",
       "<table border=\"1\" class=\"dataframe\">\n",
       "  <thead>\n",
       "    <tr style=\"text-align: right;\">\n",
       "      <th></th>\n",
       "      <th>ACATACGAGGGCTTCC-DGRP-551_0d_r1</th>\n",
       "      <th>ACCCACTTCACTCTTA-DGRP-551_0d_r1</th>\n",
       "      <th>ACCGTAAAGATAGTCA-DGRP-551_0d_r1</th>\n",
       "      <th>ACTTACTAGTGGTAAT-DGRP-551_0d_r1</th>\n",
       "      <th>ACTTGTTCATGGTTGT-DGRP-551_0d_r1</th>\n",
       "      <th>ACTTTCATCAATAAGG-DGRP-551_0d_r1</th>\n",
       "      <th>AGATCTGCAACAACCT-DGRP-551_0d_r1</th>\n",
       "      <th>AGATCTGTCTACTCAT-DGRP-551_0d_r1</th>\n",
       "      <th>AGCGGTCCATTTCACT-DGRP-551_0d_r1</th>\n",
       "      <th>AGCTCTCGTTTGACTG-DGRP-551_0d_r1</th>\n",
       "      <th>...</th>\n",
       "      <th>GGCAATTCATGGATGG-w1118_15d_r1</th>\n",
       "      <th>GTCCTCAGTTGCGCAC-w1118_15d_r1</th>\n",
       "      <th>GTGCAGCGTACCGTAT-w1118_15d_r1</th>\n",
       "      <th>TATGCCCTCTATGTGG-w1118_15d_r1</th>\n",
       "      <th>TCATTACAGAGGTTGC-w1118_15d_r1</th>\n",
       "      <th>TCGAGGCAGCTATGCT-w1118_15d_r1</th>\n",
       "      <th>TTCTACATCAGTGTTG-w1118_15d_r1</th>\n",
       "      <th>AAGTCTGTCTGGTTCC-w1118_30d_r1</th>\n",
       "      <th>ACATACGTCGGATGGA-w1118_30d_r1</th>\n",
       "      <th>GAAATGACAAGACACG-w1118_30d_r1</th>\n",
       "    </tr>\n",
       "    <tr>\n",
       "      <th>symbol</th>\n",
       "      <th></th>\n",
       "      <th></th>\n",
       "      <th></th>\n",
       "      <th></th>\n",
       "      <th></th>\n",
       "      <th></th>\n",
       "      <th></th>\n",
       "      <th></th>\n",
       "      <th></th>\n",
       "      <th></th>\n",
       "      <th></th>\n",
       "      <th></th>\n",
       "      <th></th>\n",
       "      <th></th>\n",
       "      <th></th>\n",
       "      <th></th>\n",
       "      <th></th>\n",
       "      <th></th>\n",
       "      <th></th>\n",
       "      <th></th>\n",
       "      <th></th>\n",
       "    </tr>\n",
       "  </thead>\n",
       "  <tbody>\n",
       "    <tr>\n",
       "      <th>128up</th>\n",
       "      <td>0.0</td>\n",
       "      <td>0.0</td>\n",
       "      <td>0.0</td>\n",
       "      <td>0.0</td>\n",
       "      <td>0.0</td>\n",
       "      <td>0.0</td>\n",
       "      <td>0.0</td>\n",
       "      <td>0.0</td>\n",
       "      <td>0.0</td>\n",
       "      <td>0.0</td>\n",
       "      <td>...</td>\n",
       "      <td>0.0</td>\n",
       "      <td>0.0</td>\n",
       "      <td>0.0</td>\n",
       "      <td>0.0</td>\n",
       "      <td>0.0</td>\n",
       "      <td>0.0</td>\n",
       "      <td>0.0</td>\n",
       "      <td>0.0</td>\n",
       "      <td>0.0</td>\n",
       "      <td>0.0</td>\n",
       "    </tr>\n",
       "    <tr>\n",
       "      <th>140up</th>\n",
       "      <td>0.0</td>\n",
       "      <td>0.0</td>\n",
       "      <td>0.0</td>\n",
       "      <td>0.0</td>\n",
       "      <td>0.0</td>\n",
       "      <td>0.0</td>\n",
       "      <td>1.0</td>\n",
       "      <td>0.0</td>\n",
       "      <td>0.0</td>\n",
       "      <td>0.0</td>\n",
       "      <td>...</td>\n",
       "      <td>0.0</td>\n",
       "      <td>0.0</td>\n",
       "      <td>0.0</td>\n",
       "      <td>0.0</td>\n",
       "      <td>0.0</td>\n",
       "      <td>0.0</td>\n",
       "      <td>0.0</td>\n",
       "      <td>0.0</td>\n",
       "      <td>0.0</td>\n",
       "      <td>1.0</td>\n",
       "    </tr>\n",
       "    <tr>\n",
       "      <th>14-3-3epsilon</th>\n",
       "      <td>10.0</td>\n",
       "      <td>6.0</td>\n",
       "      <td>9.0</td>\n",
       "      <td>10.0</td>\n",
       "      <td>6.0</td>\n",
       "      <td>5.0</td>\n",
       "      <td>7.0</td>\n",
       "      <td>7.0</td>\n",
       "      <td>9.0</td>\n",
       "      <td>7.0</td>\n",
       "      <td>...</td>\n",
       "      <td>5.0</td>\n",
       "      <td>2.0</td>\n",
       "      <td>1.0</td>\n",
       "      <td>5.0</td>\n",
       "      <td>1.0</td>\n",
       "      <td>1.0</td>\n",
       "      <td>6.0</td>\n",
       "      <td>3.0</td>\n",
       "      <td>0.0</td>\n",
       "      <td>3.0</td>\n",
       "    </tr>\n",
       "    <tr>\n",
       "      <th>14-3-3zeta</th>\n",
       "      <td>53.0</td>\n",
       "      <td>102.0</td>\n",
       "      <td>84.0</td>\n",
       "      <td>46.0</td>\n",
       "      <td>72.0</td>\n",
       "      <td>80.0</td>\n",
       "      <td>102.0</td>\n",
       "      <td>121.0</td>\n",
       "      <td>8.0</td>\n",
       "      <td>59.0</td>\n",
       "      <td>...</td>\n",
       "      <td>22.0</td>\n",
       "      <td>4.0</td>\n",
       "      <td>8.0</td>\n",
       "      <td>27.0</td>\n",
       "      <td>10.0</td>\n",
       "      <td>7.0</td>\n",
       "      <td>22.0</td>\n",
       "      <td>9.0</td>\n",
       "      <td>6.0</td>\n",
       "      <td>19.0</td>\n",
       "    </tr>\n",
       "    <tr>\n",
       "      <th>18SrRNA:CR41548</th>\n",
       "      <td>0.0</td>\n",
       "      <td>0.0</td>\n",
       "      <td>0.0</td>\n",
       "      <td>0.0</td>\n",
       "      <td>0.0</td>\n",
       "      <td>0.0</td>\n",
       "      <td>0.0</td>\n",
       "      <td>0.0</td>\n",
       "      <td>0.0</td>\n",
       "      <td>0.0</td>\n",
       "      <td>...</td>\n",
       "      <td>0.0</td>\n",
       "      <td>0.0</td>\n",
       "      <td>0.0</td>\n",
       "      <td>0.0</td>\n",
       "      <td>0.0</td>\n",
       "      <td>0.0</td>\n",
       "      <td>0.0</td>\n",
       "      <td>0.0</td>\n",
       "      <td>0.0</td>\n",
       "      <td>0.0</td>\n",
       "    </tr>\n",
       "  </tbody>\n",
       "</table>\n",
       "<p>5 rows × 2848 columns</p>\n",
       "</div>"
      ],
      "text/plain": [
       "                 ACATACGAGGGCTTCC-DGRP-551_0d_r1  \\\n",
       "symbol                                             \n",
       "128up                                        0.0   \n",
       "140up                                        0.0   \n",
       "14-3-3epsilon                               10.0   \n",
       "14-3-3zeta                                  53.0   \n",
       "18SrRNA:CR41548                              0.0   \n",
       "\n",
       "                 ACCCACTTCACTCTTA-DGRP-551_0d_r1  \\\n",
       "symbol                                             \n",
       "128up                                        0.0   \n",
       "140up                                        0.0   \n",
       "14-3-3epsilon                                6.0   \n",
       "14-3-3zeta                                 102.0   \n",
       "18SrRNA:CR41548                              0.0   \n",
       "\n",
       "                 ACCGTAAAGATAGTCA-DGRP-551_0d_r1  \\\n",
       "symbol                                             \n",
       "128up                                        0.0   \n",
       "140up                                        0.0   \n",
       "14-3-3epsilon                                9.0   \n",
       "14-3-3zeta                                  84.0   \n",
       "18SrRNA:CR41548                              0.0   \n",
       "\n",
       "                 ACTTACTAGTGGTAAT-DGRP-551_0d_r1  \\\n",
       "symbol                                             \n",
       "128up                                        0.0   \n",
       "140up                                        0.0   \n",
       "14-3-3epsilon                               10.0   \n",
       "14-3-3zeta                                  46.0   \n",
       "18SrRNA:CR41548                              0.0   \n",
       "\n",
       "                 ACTTGTTCATGGTTGT-DGRP-551_0d_r1  \\\n",
       "symbol                                             \n",
       "128up                                        0.0   \n",
       "140up                                        0.0   \n",
       "14-3-3epsilon                                6.0   \n",
       "14-3-3zeta                                  72.0   \n",
       "18SrRNA:CR41548                              0.0   \n",
       "\n",
       "                 ACTTTCATCAATAAGG-DGRP-551_0d_r1  \\\n",
       "symbol                                             \n",
       "128up                                        0.0   \n",
       "140up                                        0.0   \n",
       "14-3-3epsilon                                5.0   \n",
       "14-3-3zeta                                  80.0   \n",
       "18SrRNA:CR41548                              0.0   \n",
       "\n",
       "                 AGATCTGCAACAACCT-DGRP-551_0d_r1  \\\n",
       "symbol                                             \n",
       "128up                                        0.0   \n",
       "140up                                        1.0   \n",
       "14-3-3epsilon                                7.0   \n",
       "14-3-3zeta                                 102.0   \n",
       "18SrRNA:CR41548                              0.0   \n",
       "\n",
       "                 AGATCTGTCTACTCAT-DGRP-551_0d_r1  \\\n",
       "symbol                                             \n",
       "128up                                        0.0   \n",
       "140up                                        0.0   \n",
       "14-3-3epsilon                                7.0   \n",
       "14-3-3zeta                                 121.0   \n",
       "18SrRNA:CR41548                              0.0   \n",
       "\n",
       "                 AGCGGTCCATTTCACT-DGRP-551_0d_r1  \\\n",
       "symbol                                             \n",
       "128up                                        0.0   \n",
       "140up                                        0.0   \n",
       "14-3-3epsilon                                9.0   \n",
       "14-3-3zeta                                   8.0   \n",
       "18SrRNA:CR41548                              0.0   \n",
       "\n",
       "                 AGCTCTCGTTTGACTG-DGRP-551_0d_r1  \\\n",
       "symbol                                             \n",
       "128up                                        0.0   \n",
       "140up                                        0.0   \n",
       "14-3-3epsilon                                7.0   \n",
       "14-3-3zeta                                  59.0   \n",
       "18SrRNA:CR41548                              0.0   \n",
       "\n",
       "                             ...                GGCAATTCATGGATGG-w1118_15d_r1  \\\n",
       "symbol                       ...                                                \n",
       "128up                        ...                                          0.0   \n",
       "140up                        ...                                          0.0   \n",
       "14-3-3epsilon                ...                                          5.0   \n",
       "14-3-3zeta                   ...                                         22.0   \n",
       "18SrRNA:CR41548              ...                                          0.0   \n",
       "\n",
       "                 GTCCTCAGTTGCGCAC-w1118_15d_r1  GTGCAGCGTACCGTAT-w1118_15d_r1  \\\n",
       "symbol                                                                          \n",
       "128up                                      0.0                            0.0   \n",
       "140up                                      0.0                            0.0   \n",
       "14-3-3epsilon                              2.0                            1.0   \n",
       "14-3-3zeta                                 4.0                            8.0   \n",
       "18SrRNA:CR41548                            0.0                            0.0   \n",
       "\n",
       "                 TATGCCCTCTATGTGG-w1118_15d_r1  TCATTACAGAGGTTGC-w1118_15d_r1  \\\n",
       "symbol                                                                          \n",
       "128up                                      0.0                            0.0   \n",
       "140up                                      0.0                            0.0   \n",
       "14-3-3epsilon                              5.0                            1.0   \n",
       "14-3-3zeta                                27.0                           10.0   \n",
       "18SrRNA:CR41548                            0.0                            0.0   \n",
       "\n",
       "                 TCGAGGCAGCTATGCT-w1118_15d_r1  TTCTACATCAGTGTTG-w1118_15d_r1  \\\n",
       "symbol                                                                          \n",
       "128up                                      0.0                            0.0   \n",
       "140up                                      0.0                            0.0   \n",
       "14-3-3epsilon                              1.0                            6.0   \n",
       "14-3-3zeta                                 7.0                           22.0   \n",
       "18SrRNA:CR41548                            0.0                            0.0   \n",
       "\n",
       "                 AAGTCTGTCTGGTTCC-w1118_30d_r1  ACATACGTCGGATGGA-w1118_30d_r1  \\\n",
       "symbol                                                                          \n",
       "128up                                      0.0                            0.0   \n",
       "140up                                      0.0                            0.0   \n",
       "14-3-3epsilon                              3.0                            0.0   \n",
       "14-3-3zeta                                 9.0                            6.0   \n",
       "18SrRNA:CR41548                            0.0                            0.0   \n",
       "\n",
       "                 GAAATGACAAGACACG-w1118_30d_r1  \n",
       "symbol                                          \n",
       "128up                                      0.0  \n",
       "140up                                      1.0  \n",
       "14-3-3epsilon                              3.0  \n",
       "14-3-3zeta                                19.0  \n",
       "18SrRNA:CR41548                            0.0  \n",
       "\n",
       "[5 rows x 2848 columns]"
      ]
     },
     "execution_count": 78,
     "metadata": {},
     "output_type": "execute_result"
    }
   ],
   "source": [
    "df2.head()"
   ]
  },
  {
   "cell_type": "code",
   "execution_count": 79,
   "metadata": {},
   "outputs": [],
   "source": [
    "df2.to_csv(\"../data/02_filtered_kenyon_cells/CLEAN_NOTRANSFORM_kenyon_cells.csv\")"
   ]
  },
  {
   "cell_type": "code",
   "execution_count": 81,
   "metadata": {},
   "outputs": [],
   "source": [
    "df2.applymap(lambda x : np.log2(x+1)).to_csv(\"../data/02_filtered_kenyon_cells/CLEAN_LOG2TRANSFORM_kenyon_cells.csv\")"
   ]
  }
 ],
 "metadata": {
  "kernelspec": {
   "display_name": "Python 3",
   "language": "python",
   "name": "python3"
  },
  "language_info": {
   "codemirror_mode": {
    "name": "ipython",
    "version": 3
   },
   "file_extension": ".py",
   "mimetype": "text/x-python",
   "name": "python",
   "nbconvert_exporter": "python",
   "pygments_lexer": "ipython3",
   "version": "3.7.0"
  }
 },
 "nbformat": 4,
 "nbformat_minor": 2
}
