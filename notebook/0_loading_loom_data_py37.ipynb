{
 "cells": [
  {
   "cell_type": "code",
   "execution_count": 28,
   "metadata": {},
   "outputs": [],
   "source": [
    "import loompy\n",
    "import numpy as np"
   ]
  },
  {
   "cell_type": "code",
   "execution_count": 78,
   "metadata": {},
   "outputs": [],
   "source": [
    "ds = loompy.connect(\"../data/Aerts_Fly_AdultBrain_Filtered_57k.loom\", validate=False)\n",
    "\n",
    "cluster = []\n",
    "\n",
    "for row in ds.ca.ClusterID:\n",
    "    cluster.append(int(row[0]))\n",
    "    \n",
    "cluster = np.array(cluster)\n",
    "\n",
    "ds.ca.is_kc = np.where((cluster == 8) | (cluster == 22) | (cluster == 28), True, False)\n",
    "\n",
    "with loompy.new(\"../data/STAWP_Fly_AdultBrain_KC.loom\") as dsout:  # Create a new, empty, loom file\n",
    "    cells = ds.ca.is_kc != 0\n",
    "    for (ix, selection, view) in ds.scan(items=cells, axis=1):\n",
    "        dsout.add_columns(view.layers, col_attrs=view.ca, row_attrs=view.ra)"
   ]
  },
  {
   "cell_type": "code",
   "execution_count": 47,
   "metadata": {},
   "outputs": [],
   "source": []
  },
  {
   "cell_type": "code",
   "execution_count": 79,
   "metadata": {},
   "outputs": [],
   "source": [
    "ds2 = loompy.connect(\"../data/STAWP_Fly_AdultBrain_KC.loom\", validate=False)"
   ]
  },
  {
   "cell_type": "code",
   "execution_count": 80,
   "metadata": {},
   "outputs": [],
   "source": [
    "ra_list = ds2.ra.keys()\n",
    "ra_list.remove('Gene')\n",
    "\n",
    "for ra in ra_list:\n",
    "    del  ds2.ra[ra]\n"
   ]
  },
  {
   "cell_type": "code",
   "execution_count": 81,
   "metadata": {},
   "outputs": [],
   "source": [
    "ls_to_remove = ['Age', 'ClusterID', 'Clusterings', 'Embedding', 'Embeddings_X',\n",
    "                'Embeddings_Y', 'Gender', 'Genotype', 'RegulonsAUC', 'Replicate', 'is_kc',\n",
    "                'kc_cell']\n",
    "\n",
    "for ca in ls_to_remove:\n",
    "    del  ds2.ca[ca]"
   ]
  },
  {
   "cell_type": "code",
   "execution_count": 84,
   "metadata": {},
   "outputs": [],
   "source": [
    "df = ds2.pandas(row_attr=\"Gene\")\n",
    "ds.close()\n",
    "ds2.close()"
   ]
  },
  {
   "cell_type": "code",
   "execution_count": 104,
   "metadata": {},
   "outputs": [],
   "source": [
    "df = df.set_index(\"CellID\").drop(['nGene', 'nUMI', 'scluster'], axis=1)\n",
    "df = df.transpose()"
   ]
  },
  {
   "cell_type": "code",
   "execution_count": 112,
   "metadata": {},
   "outputs": [],
   "source": [
    "df = df.reset_index()\n",
    "df.to_csv(\"../data/STAWP_Fly_AdultBrain_KC.csv\")"
   ]
  },
  {
   "cell_type": "code",
   "execution_count": 100,
   "metadata": {},
   "outputs": [
    {
     "name": "stdout",
     "output_type": "stream",
     "text": [
      "Help on method transpose in module pandas.core.frame:\n",
      "\n",
      "transpose(*args, **kwargs) method of pandas.core.frame.DataFrame instance\n",
      "    Transpose index and columns.\n",
      "    \n",
      "    Reflect the DataFrame over its main diagonal by writing rows as columns\n",
      "    and vice-versa. The property :attr:`.T` is an accessor to the method\n",
      "    :meth:`transpose`.\n",
      "    \n",
      "    Parameters\n",
      "    ----------\n",
      "    copy : bool, default False\n",
      "        If True, the underlying data is copied. Otherwise (default), no\n",
      "        copy is made if possible.\n",
      "    *args, **kwargs\n",
      "        Additional keywords have no effect but might be accepted for\n",
      "        compatibility with numpy.\n",
      "    \n",
      "    Returns\n",
      "    -------\n",
      "    DataFrame\n",
      "        The transposed DataFrame.\n",
      "    \n",
      "    See Also\n",
      "    --------\n",
      "    numpy.transpose : Permute the dimensions of a given array.\n",
      "    \n",
      "    Notes\n",
      "    -----\n",
      "    Transposing a DataFrame with mixed dtypes will result in a homogeneous\n",
      "    DataFrame with the `object` dtype. In such a case, a copy of the data\n",
      "    is always made.\n",
      "    \n",
      "    Examples\n",
      "    --------\n",
      "    **Square DataFrame with homogeneous dtype**\n",
      "    \n",
      "    >>> d1 = {'col1': [1, 2], 'col2': [3, 4]}\n",
      "    >>> df1 = pd.DataFrame(data=d1)\n",
      "    >>> df1\n",
      "       col1  col2\n",
      "    0     1     3\n",
      "    1     2     4\n",
      "    \n",
      "    >>> df1_transposed = df1.T # or df1.transpose()\n",
      "    >>> df1_transposed\n",
      "          0  1\n",
      "    col1  1  2\n",
      "    col2  3  4\n",
      "    \n",
      "    When the dtype is homogeneous in the original DataFrame, we get a\n",
      "    transposed DataFrame with the same dtype:\n",
      "    \n",
      "    >>> df1.dtypes\n",
      "    col1    int64\n",
      "    col2    int64\n",
      "    dtype: object\n",
      "    >>> df1_transposed.dtypes\n",
      "    0    int64\n",
      "    1    int64\n",
      "    dtype: object\n",
      "    \n",
      "    **Non-square DataFrame with mixed dtypes**\n",
      "    \n",
      "    >>> d2 = {'name': ['Alice', 'Bob'],\n",
      "    ...       'score': [9.5, 8],\n",
      "    ...       'employed': [False, True],\n",
      "    ...       'kids': [0, 0]}\n",
      "    >>> df2 = pd.DataFrame(data=d2)\n",
      "    >>> df2\n",
      "        name  score  employed  kids\n",
      "    0  Alice    9.5     False     0\n",
      "    1    Bob    8.0      True     0\n",
      "    \n",
      "    >>> df2_transposed = df2.T # or df2.transpose()\n",
      "    >>> df2_transposed\n",
      "                  0     1\n",
      "    name      Alice   Bob\n",
      "    score       9.5     8\n",
      "    employed  False  True\n",
      "    kids          0     0\n",
      "    \n",
      "    When the DataFrame has mixed dtypes, we get a transposed DataFrame with\n",
      "    the `object` dtype:\n",
      "    \n",
      "    >>> df2.dtypes\n",
      "    name         object\n",
      "    score       float64\n",
      "    employed       bool\n",
      "    kids          int64\n",
      "    dtype: object\n",
      "    >>> df2_transposed.dtypes\n",
      "    0    object\n",
      "    1    object\n",
      "    dtype: object\n",
      "\n"
     ]
    }
   ],
   "source": []
  },
  {
   "cell_type": "code",
   "execution_count": null,
   "metadata": {},
   "outputs": [],
   "source": []
  }
 ],
 "metadata": {
  "kernelspec": {
   "display_name": "Python 3",
   "language": "python",
   "name": "python3"
  },
  "language_info": {
   "codemirror_mode": {
    "name": "ipython",
    "version": 3
   },
   "file_extension": ".py",
   "mimetype": "text/x-python",
   "name": "python",
   "nbconvert_exporter": "python",
   "pygments_lexer": "ipython3",
   "version": "3.7.0"
  }
 },
 "nbformat": 4,
 "nbformat_minor": 2
}
