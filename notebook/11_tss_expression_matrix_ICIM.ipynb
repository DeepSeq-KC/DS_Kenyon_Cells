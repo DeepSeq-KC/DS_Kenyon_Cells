{
 "cells": [
  {
   "cell_type": "code",
   "execution_count": 239,
   "metadata": {},
   "outputs": [],
   "source": [
    "import sys\n",
    "import pandas as pd\n",
    "import numpy as np\n",
    "import hdbscan"
   ]
  },
  {
   "cell_type": "code",
   "execution_count": 240,
   "metadata": {},
   "outputs": [],
   "source": [
    "# Load up code to run ICIM\n",
    "# Available from : https://github.com/felixhorns/FlyPN\n",
    "sys.path.append(\"../code/ICIM\")\n",
    "import sct\n",
    "reload(sct)\n",
    "# Used because of nature of ICIM library\n",
    "pd.options.mode.chained_assignment = None  # default='warn'"
   ]
  },
  {
   "cell_type": "code",
   "execution_count": 241,
   "metadata": {},
   "outputs": [],
   "source": [
    "%matplotlib inline\n",
    "from matplotlib import pyplot as plt\n",
    "import matplotlib as mpl\n",
    "\n",
    "import seaborn as sns"
   ]
  },
  {
   "cell_type": "code",
   "execution_count": 53,
   "metadata": {},
   "outputs": [],
   "source": [
    "# Original untransformed data, generated and saved here\n",
    "#df = pd.read_csv(\"../data/08_tss_expression_matrix_ICIM/exon_expression_matrix.csv\")\n",
    "#df['symbol'] = df['Unnamed: 0']\n",
    "#df = df.set_index('symbol')\n",
    "#df = df.drop('Unnamed: 0', axis=1)\n",
    "#df.to_csv(\"../data/08_tss_expression_matrix_ICIM/log2_exon_expression_matrix.csv\")"
   ]
  },
  {
   "cell_type": "code",
   "execution_count": 242,
   "metadata": {},
   "outputs": [],
   "source": [
    "df = pd.read_csv(\"../data/08_tss_expression_matrix_ICIM/log2_exon_expression_matrix.csv\", index_col='symbol')"
   ]
  },
  {
   "cell_type": "code",
   "execution_count": 243,
   "metadata": {},
   "outputs": [
    {
     "data": {
      "text/html": [
       "<div>\n",
       "<style scoped>\n",
       "    .dataframe tbody tr th:only-of-type {\n",
       "        vertical-align: middle;\n",
       "    }\n",
       "\n",
       "    .dataframe tbody tr th {\n",
       "        vertical-align: top;\n",
       "    }\n",
       "\n",
       "    .dataframe thead th {\n",
       "        text-align: right;\n",
       "    }\n",
       "</style>\n",
       "<table border=\"1\" class=\"dataframe\">\n",
       "  <thead>\n",
       "    <tr style=\"text-align: right;\">\n",
       "      <th></th>\n",
       "      <th>1</th>\n",
       "      <th>2</th>\n",
       "      <th>3</th>\n",
       "      <th>4</th>\n",
       "      <th>5</th>\n",
       "      <th>6</th>\n",
       "      <th>7</th>\n",
       "      <th>8</th>\n",
       "      <th>9</th>\n",
       "      <th>10</th>\n",
       "      <th>...</th>\n",
       "      <th>2823</th>\n",
       "      <th>2824</th>\n",
       "      <th>2825</th>\n",
       "      <th>2826</th>\n",
       "      <th>2827</th>\n",
       "      <th>2828</th>\n",
       "      <th>2829</th>\n",
       "      <th>2843</th>\n",
       "      <th>2844</th>\n",
       "      <th>2845</th>\n",
       "    </tr>\n",
       "    <tr>\n",
       "      <th>symbol</th>\n",
       "      <th></th>\n",
       "      <th></th>\n",
       "      <th></th>\n",
       "      <th></th>\n",
       "      <th></th>\n",
       "      <th></th>\n",
       "      <th></th>\n",
       "      <th></th>\n",
       "      <th></th>\n",
       "      <th></th>\n",
       "      <th></th>\n",
       "      <th></th>\n",
       "      <th></th>\n",
       "      <th></th>\n",
       "      <th></th>\n",
       "      <th></th>\n",
       "      <th></th>\n",
       "      <th></th>\n",
       "      <th></th>\n",
       "      <th></th>\n",
       "      <th></th>\n",
       "    </tr>\n",
       "  </thead>\n",
       "  <tbody>\n",
       "    <tr>\n",
       "      <th>FBgn0000008_10</th>\n",
       "      <td>0.0</td>\n",
       "      <td>0.0</td>\n",
       "      <td>0.0</td>\n",
       "      <td>0.0</td>\n",
       "      <td>0.0</td>\n",
       "      <td>0.0</td>\n",
       "      <td>0.0</td>\n",
       "      <td>0.0</td>\n",
       "      <td>0.0</td>\n",
       "      <td>0.0</td>\n",
       "      <td>...</td>\n",
       "      <td>0.0</td>\n",
       "      <td>0.0</td>\n",
       "      <td>0.0</td>\n",
       "      <td>0.0</td>\n",
       "      <td>0.0</td>\n",
       "      <td>0.0</td>\n",
       "      <td>0.0</td>\n",
       "      <td>0.0</td>\n",
       "      <td>0.000000</td>\n",
       "      <td>0.0</td>\n",
       "    </tr>\n",
       "    <tr>\n",
       "      <th>FBgn0000008_11</th>\n",
       "      <td>0.0</td>\n",
       "      <td>0.0</td>\n",
       "      <td>0.0</td>\n",
       "      <td>0.0</td>\n",
       "      <td>0.0</td>\n",
       "      <td>0.0</td>\n",
       "      <td>0.0</td>\n",
       "      <td>0.0</td>\n",
       "      <td>0.0</td>\n",
       "      <td>0.0</td>\n",
       "      <td>...</td>\n",
       "      <td>0.0</td>\n",
       "      <td>0.0</td>\n",
       "      <td>0.0</td>\n",
       "      <td>0.0</td>\n",
       "      <td>0.0</td>\n",
       "      <td>0.0</td>\n",
       "      <td>0.0</td>\n",
       "      <td>0.0</td>\n",
       "      <td>0.000000</td>\n",
       "      <td>0.0</td>\n",
       "    </tr>\n",
       "    <tr>\n",
       "      <th>FBgn0000008_12</th>\n",
       "      <td>0.0</td>\n",
       "      <td>0.0</td>\n",
       "      <td>0.0</td>\n",
       "      <td>0.0</td>\n",
       "      <td>0.0</td>\n",
       "      <td>0.0</td>\n",
       "      <td>0.0</td>\n",
       "      <td>0.0</td>\n",
       "      <td>0.0</td>\n",
       "      <td>0.0</td>\n",
       "      <td>...</td>\n",
       "      <td>0.0</td>\n",
       "      <td>0.0</td>\n",
       "      <td>0.0</td>\n",
       "      <td>0.0</td>\n",
       "      <td>0.0</td>\n",
       "      <td>0.0</td>\n",
       "      <td>0.0</td>\n",
       "      <td>0.0</td>\n",
       "      <td>1.584963</td>\n",
       "      <td>0.0</td>\n",
       "    </tr>\n",
       "    <tr>\n",
       "      <th>FBgn0000008_13</th>\n",
       "      <td>0.0</td>\n",
       "      <td>0.0</td>\n",
       "      <td>0.0</td>\n",
       "      <td>0.0</td>\n",
       "      <td>0.0</td>\n",
       "      <td>0.0</td>\n",
       "      <td>0.0</td>\n",
       "      <td>0.0</td>\n",
       "      <td>0.0</td>\n",
       "      <td>1.0</td>\n",
       "      <td>...</td>\n",
       "      <td>0.0</td>\n",
       "      <td>3.0</td>\n",
       "      <td>0.0</td>\n",
       "      <td>0.0</td>\n",
       "      <td>0.0</td>\n",
       "      <td>0.0</td>\n",
       "      <td>0.0</td>\n",
       "      <td>0.0</td>\n",
       "      <td>4.523562</td>\n",
       "      <td>0.0</td>\n",
       "    </tr>\n",
       "    <tr>\n",
       "      <th>FBgn0000008_2</th>\n",
       "      <td>0.0</td>\n",
       "      <td>0.0</td>\n",
       "      <td>0.0</td>\n",
       "      <td>0.0</td>\n",
       "      <td>0.0</td>\n",
       "      <td>0.0</td>\n",
       "      <td>0.0</td>\n",
       "      <td>0.0</td>\n",
       "      <td>0.0</td>\n",
       "      <td>0.0</td>\n",
       "      <td>...</td>\n",
       "      <td>0.0</td>\n",
       "      <td>0.0</td>\n",
       "      <td>0.0</td>\n",
       "      <td>0.0</td>\n",
       "      <td>0.0</td>\n",
       "      <td>0.0</td>\n",
       "      <td>0.0</td>\n",
       "      <td>0.0</td>\n",
       "      <td>0.000000</td>\n",
       "      <td>0.0</td>\n",
       "    </tr>\n",
       "  </tbody>\n",
       "</table>\n",
       "<p>5 rows × 2832 columns</p>\n",
       "</div>"
      ],
      "text/plain": [
       "                  1    2    3    4    5    6    7    8    9   10  ...   2823  \\\n",
       "symbol                                                            ...          \n",
       "FBgn0000008_10  0.0  0.0  0.0  0.0  0.0  0.0  0.0  0.0  0.0  0.0  ...    0.0   \n",
       "FBgn0000008_11  0.0  0.0  0.0  0.0  0.0  0.0  0.0  0.0  0.0  0.0  ...    0.0   \n",
       "FBgn0000008_12  0.0  0.0  0.0  0.0  0.0  0.0  0.0  0.0  0.0  0.0  ...    0.0   \n",
       "FBgn0000008_13  0.0  0.0  0.0  0.0  0.0  0.0  0.0  0.0  0.0  1.0  ...    0.0   \n",
       "FBgn0000008_2   0.0  0.0  0.0  0.0  0.0  0.0  0.0  0.0  0.0  0.0  ...    0.0   \n",
       "\n",
       "                2824  2825  2826  2827  2828  2829  2843      2844  2845  \n",
       "symbol                                                                    \n",
       "FBgn0000008_10   0.0   0.0   0.0   0.0   0.0   0.0   0.0  0.000000   0.0  \n",
       "FBgn0000008_11   0.0   0.0   0.0   0.0   0.0   0.0   0.0  0.000000   0.0  \n",
       "FBgn0000008_12   0.0   0.0   0.0   0.0   0.0   0.0   0.0  1.584963   0.0  \n",
       "FBgn0000008_13   3.0   0.0   0.0   0.0   0.0   0.0   0.0  4.523562   0.0  \n",
       "FBgn0000008_2    0.0   0.0   0.0   0.0   0.0   0.0   0.0  0.000000   0.0  \n",
       "\n",
       "[5 rows x 2832 columns]"
      ]
     },
     "execution_count": 243,
     "metadata": {},
     "output_type": "execute_result"
    }
   ],
   "source": [
    "df.head()"
   ]
  },
  {
   "cell_type": "code",
   "execution_count": 244,
   "metadata": {},
   "outputs": [],
   "source": [
    "# # Set up metadata\n",
    "# cell_number_info = pd.read_csv(\"../data/06_tss_data/indexed_barcodes.tsv\", sep='\\t', header=None)\n",
    "# cell_number_info.columns = ['cell_number', 'dna_index']\n",
    "# cell_number_info = cell_number_info.set_index('dna_index')\n",
    "# # Load up metadata associated with these cells\n",
    "# metadata = pd.read_csv(\"../data/02_filtered_kenyon_cells/metadata_kenyon_cells.csv\")\n",
    "# metadata = metadata.set_index(\"CellID\")\n",
    "# metadata['dna_index'] = metadata.index.str.split('-').str[0]\n",
    "# metadata = metadata.reset_index().set_index('dna_index')\n",
    "# metadata = metadata.join(cell_number_info)\n",
    "# metadata = metadata.reset_index().set_index(\"cell_number\")\n",
    "# # make csv\n",
    "# metadata.to_csv(\"../data/08_tss_expression_matrix_ICIM/tss_metadata.csv\")"
   ]
  },
  {
   "cell_type": "code",
   "execution_count": 220,
   "metadata": {},
   "outputs": [
    {
     "data": {
      "text/plain": [
       "Index([u'FBgn0000008_10', u'FBgn0000008_11', u'FBgn0000008_12',\n",
       "       u'FBgn0000008_13', u'FBgn0000008_2', u'FBgn0000008_3', u'FBgn0000008_5',\n",
       "       u'FBgn0000008_6', u'FBgn0000008_7', u'FBgn0000008_8',\n",
       "       ...\n",
       "       u'FBgn0285963_15', u'FBgn0285963_2', u'FBgn0285963_3', u'FBgn0285963_4',\n",
       "       u'FBgn0285963_7', u'FBgn0285963_8', u'FBgn0285963_9', u'FBgn0286028_1',\n",
       "       u'FBgn0286029_1', u'FBgn0286031_1'],\n",
       "      dtype='object', name=u'symbol', length=26727)"
      ]
     },
     "execution_count": 220,
     "metadata": {},
     "output_type": "execute_result"
    }
   ],
   "source": [
    "df.index.unique()"
   ]
  },
  {
   "cell_type": "code",
   "execution_count": 246,
   "metadata": {},
   "outputs": [
    {
     "data": {
      "text/plain": [
       "(26727, 2832)"
      ]
     },
     "execution_count": 246,
     "metadata": {},
     "output_type": "execute_result"
    }
   ],
   "source": [
    "df.shape"
   ]
  },
  {
   "cell_type": "code",
   "execution_count": 247,
   "metadata": {},
   "outputs": [],
   "source": [
    "# ICIM takes a filtered dataset as one of its arguments\n",
    "# Filtering requirements are taken from an up-to-date tutorial\n",
    "# from the hemberg lab's tutorial on seurat, to mimic the presumed\n",
    "# level of filtering used for the original seurat analsyis\n",
    "# Source https://hemberg-lab.github.io/scRNA.seq.course/seurat-chapter.html#normalization\n",
    "\n",
    "# filtered_df\n",
    "f_df = df.copy(deep=True)"
   ]
  },
  {
   "cell_type": "code",
   "execution_count": 248,
   "metadata": {},
   "outputs": [],
   "source": [
    "# Pull out G-KC cells to cluster independently\n",
    "gkc = list(metadata[metadata.cell_type_id == 8].index)\n",
    "f_df = f_df.loc[:,f_df.columns.astype(int).isin(gkc)]\n",
    "\n",
    "df = df.loc[:, df.columns.astype(int).isin(gkc)]"
   ]
  },
  {
   "cell_type": "code",
   "execution_count": 249,
   "metadata": {},
   "outputs": [
    {
     "data": {
      "text/plain": [
       "(26727, 1633)"
      ]
     },
     "execution_count": 249,
     "metadata": {},
     "output_type": "execute_result"
    }
   ],
   "source": [
    "f_df.shape"
   ]
  },
  {
   "cell_type": "code",
   "execution_count": 250,
   "metadata": {},
   "outputs": [
    {
     "data": {
      "text/plain": [
       "(26727, 1633)"
      ]
     },
     "execution_count": 250,
     "metadata": {},
     "output_type": "execute_result"
    }
   ],
   "source": [
    "df.shape"
   ]
  },
  {
   "cell_type": "code",
   "execution_count": 251,
   "metadata": {},
   "outputs": [],
   "source": [
    "# Check to make sure each gene is present in at least 3 cells\n",
    "def check_min_num_cells(row):\n",
    "    num_pos = 0\n",
    "    for gene_count in row:\n",
    "        if gene_count > 0:\n",
    "            num_pos += 1\n",
    "            if num_pos >= 3:\n",
    "                return True\n",
    "    return False\n",
    "   \n",
    "\n",
    "min_num_cells = f_df.apply(check_min_num_cells, axis=1)\n",
    "f_df = f_df[min_num_cells]"
   ]
  },
  {
   "cell_type": "code",
   "execution_count": 252,
   "metadata": {},
   "outputs": [],
   "source": [
    "# Check to make sure each cell has at least 200 genes\n",
    "def check_min_num_genes(col):\n",
    "    num_pos = 0\n",
    "    for gene_count in col:\n",
    "        if gene_count > 0:\n",
    "            num_pos += 1\n",
    "            if num_pos >= 200:\n",
    "                return True\n",
    "    return False\n",
    "\n",
    "min_num_genes = f_df.apply(check_min_num_genes, axis=0)\n",
    "f_df = f_df.loc[:, min_num_genes]"
   ]
  },
  {
   "cell_type": "code",
   "execution_count": 253,
   "metadata": {},
   "outputs": [],
   "source": [
    "f_df = f_df[f_df.apply(lambda x : sum(x) > 0, axis=1)]"
   ]
  },
  {
   "cell_type": "code",
   "execution_count": 296,
   "metadata": {},
   "outputs": [
    {
     "data": {
      "text/plain": [
       "(15588, 1633)"
      ]
     },
     "execution_count": 296,
     "metadata": {},
     "output_type": "execute_result"
    }
   ],
   "source": [
    "f_df.shape"
   ]
  },
  {
   "cell_type": "code",
   "execution_count": 304,
   "metadata": {},
   "outputs": [],
   "source": [
    "metadata = pd.read_csv(\"../data/08_tss_expression_matrix_ICIM/tss_metadata.csv\", index_col=\"cell_number\")\n",
    "metadata = metadata[~metadata.index.duplicated(keep='first')]\n",
    "metadata = metadata[metadata.index.isin(df.columns.astype(int))]\n",
    "metadata = metadata.loc[f_df.columns.astype(int), :]\n",
    "metadata.index.name = 'cell_number'"
   ]
  },
  {
   "cell_type": "code",
   "execution_count": 315,
   "metadata": {},
   "outputs": [
    {
     "data": {
      "text/html": [
       "<div>\n",
       "<style scoped>\n",
       "    .dataframe tbody tr th:only-of-type {\n",
       "        vertical-align: middle;\n",
       "    }\n",
       "\n",
       "    .dataframe tbody tr th {\n",
       "        vertical-align: top;\n",
       "    }\n",
       "\n",
       "    .dataframe thead th {\n",
       "        text-align: right;\n",
       "    }\n",
       "</style>\n",
       "<table border=\"1\" class=\"dataframe\">\n",
       "  <thead>\n",
       "    <tr style=\"text-align: right;\">\n",
       "      <th></th>\n",
       "      <th>dna_index</th>\n",
       "      <th>CellID</th>\n",
       "      <th>Age</th>\n",
       "      <th>Gender</th>\n",
       "      <th>Genotype</th>\n",
       "      <th>Replicate</th>\n",
       "      <th>nGene</th>\n",
       "      <th>nUMI</th>\n",
       "      <th>cell_type_id</th>\n",
       "      <th>is_kc</th>\n",
       "    </tr>\n",
       "    <tr>\n",
       "      <th>cell_number</th>\n",
       "      <th></th>\n",
       "      <th></th>\n",
       "      <th></th>\n",
       "      <th></th>\n",
       "      <th></th>\n",
       "      <th></th>\n",
       "      <th></th>\n",
       "      <th></th>\n",
       "      <th></th>\n",
       "      <th></th>\n",
       "    </tr>\n",
       "  </thead>\n",
       "  <tbody>\n",
       "    <tr>\n",
       "      <th>1</th>\n",
       "      <td>ACATACGAGGGCTTCC</td>\n",
       "      <td>ACATACGAGGGCTTCC-DGRP-551_0d_r1</td>\n",
       "      <td>0</td>\n",
       "      <td>Female</td>\n",
       "      <td>DGRP-551</td>\n",
       "      <td>DGRP-551_0d_Rep1</td>\n",
       "      <td>1328</td>\n",
       "      <td>3340.0</td>\n",
       "      <td>8.0</td>\n",
       "      <td>1</td>\n",
       "    </tr>\n",
       "    <tr>\n",
       "      <th>2</th>\n",
       "      <td>ACCCACTTCACTCTTA</td>\n",
       "      <td>ACCCACTTCACTCTTA-DGRP-551_0d_r1</td>\n",
       "      <td>0</td>\n",
       "      <td>Female</td>\n",
       "      <td>DGRP-551</td>\n",
       "      <td>DGRP-551_0d_Rep1</td>\n",
       "      <td>1613</td>\n",
       "      <td>4580.0</td>\n",
       "      <td>8.0</td>\n",
       "      <td>1</td>\n",
       "    </tr>\n",
       "    <tr>\n",
       "      <th>4</th>\n",
       "      <td>ACTTACTAGTGGTAAT</td>\n",
       "      <td>ACTTACTAGTGGTAAT-DGRP-551_0d_r1</td>\n",
       "      <td>0</td>\n",
       "      <td>Male</td>\n",
       "      <td>DGRP-551</td>\n",
       "      <td>DGRP-551_0d_Rep1</td>\n",
       "      <td>1174</td>\n",
       "      <td>2942.0</td>\n",
       "      <td>8.0</td>\n",
       "      <td>1</td>\n",
       "    </tr>\n",
       "    <tr>\n",
       "      <th>5</th>\n",
       "      <td>ACTTGTTCATGGTTGT</td>\n",
       "      <td>ACTTGTTCATGGTTGT-DGRP-551_0d_r1</td>\n",
       "      <td>0</td>\n",
       "      <td>Male</td>\n",
       "      <td>DGRP-551</td>\n",
       "      <td>DGRP-551_0d_Rep1</td>\n",
       "      <td>1410</td>\n",
       "      <td>3620.0</td>\n",
       "      <td>8.0</td>\n",
       "      <td>1</td>\n",
       "    </tr>\n",
       "    <tr>\n",
       "      <th>6</th>\n",
       "      <td>ACTTTCATCAATAAGG</td>\n",
       "      <td>ACTTTCATCAATAAGG-DGRP-551_0d_r1</td>\n",
       "      <td>0</td>\n",
       "      <td>Male</td>\n",
       "      <td>DGRP-551</td>\n",
       "      <td>DGRP-551_0d_Rep1</td>\n",
       "      <td>1378</td>\n",
       "      <td>3995.0</td>\n",
       "      <td>8.0</td>\n",
       "      <td>1</td>\n",
       "    </tr>\n",
       "  </tbody>\n",
       "</table>\n",
       "</div>"
      ],
      "text/plain": [
       "                    dna_index                           CellID  Age  Gender  \\\n",
       "cell_number                                                                   \n",
       "1            ACATACGAGGGCTTCC  ACATACGAGGGCTTCC-DGRP-551_0d_r1    0  Female   \n",
       "2            ACCCACTTCACTCTTA  ACCCACTTCACTCTTA-DGRP-551_0d_r1    0  Female   \n",
       "4            ACTTACTAGTGGTAAT  ACTTACTAGTGGTAAT-DGRP-551_0d_r1    0    Male   \n",
       "5            ACTTGTTCATGGTTGT  ACTTGTTCATGGTTGT-DGRP-551_0d_r1    0    Male   \n",
       "6            ACTTTCATCAATAAGG  ACTTTCATCAATAAGG-DGRP-551_0d_r1    0    Male   \n",
       "\n",
       "             Genotype         Replicate  nGene    nUMI  cell_type_id  is_kc  \n",
       "cell_number                                                                  \n",
       "1            DGRP-551  DGRP-551_0d_Rep1   1328  3340.0           8.0      1  \n",
       "2            DGRP-551  DGRP-551_0d_Rep1   1613  4580.0           8.0      1  \n",
       "4            DGRP-551  DGRP-551_0d_Rep1   1174  2942.0           8.0      1  \n",
       "5            DGRP-551  DGRP-551_0d_Rep1   1410  3620.0           8.0      1  \n",
       "6            DGRP-551  DGRP-551_0d_Rep1   1378  3995.0           8.0      1  "
      ]
     },
     "execution_count": 315,
     "metadata": {},
     "output_type": "execute_result"
    }
   ],
   "source": [
    "metadata.head()"
   ]
  },
  {
   "cell_type": "code",
   "execution_count": 310,
   "metadata": {},
   "outputs": [],
   "source": [
    "myDispersion = sct.dispersion(f_df)\n",
    "myDispersion.calc_dispersion() # calculate overdispersion\n",
    "genes_overdispersed = myDispersion.get_hits(N=500)\n",
    "Y = f_df.loc[genes_overdispersed.index]"
   ]
  },
  {
   "cell_type": "code",
   "execution_count": 311,
   "metadata": {},
   "outputs": [],
   "source": [
    "# Calculate PCA\n",
    "from sklearn.decomposition import PCA\n",
    "myPCA = sct.PCA(Y, df, 10) # number of significant PCs was determined using shuffling performed elsewhere in parallel fashion\n",
    "myPCA.pca()\n",
    "Y_pca = pd.DataFrame(myPCA.X_pca.T)"
   ]
  },
  {
   "cell_type": "code",
   "execution_count": 314,
   "metadata": {},
   "outputs": [
    {
     "data": {
      "text/html": [
       "<div>\n",
       "<style scoped>\n",
       "    .dataframe tbody tr th:only-of-type {\n",
       "        vertical-align: middle;\n",
       "    }\n",
       "\n",
       "    .dataframe tbody tr th {\n",
       "        vertical-align: top;\n",
       "    }\n",
       "\n",
       "    .dataframe thead th {\n",
       "        text-align: right;\n",
       "    }\n",
       "</style>\n",
       "<table border=\"1\" class=\"dataframe\">\n",
       "  <thead>\n",
       "    <tr style=\"text-align: right;\">\n",
       "      <th></th>\n",
       "      <th>0</th>\n",
       "      <th>1</th>\n",
       "      <th>2</th>\n",
       "      <th>3</th>\n",
       "      <th>4</th>\n",
       "      <th>5</th>\n",
       "      <th>6</th>\n",
       "      <th>7</th>\n",
       "      <th>8</th>\n",
       "      <th>9</th>\n",
       "      <th>...</th>\n",
       "      <th>1623</th>\n",
       "      <th>1624</th>\n",
       "      <th>1625</th>\n",
       "      <th>1626</th>\n",
       "      <th>1627</th>\n",
       "      <th>1628</th>\n",
       "      <th>1629</th>\n",
       "      <th>1630</th>\n",
       "      <th>1631</th>\n",
       "      <th>1632</th>\n",
       "    </tr>\n",
       "  </thead>\n",
       "  <tbody>\n",
       "    <tr>\n",
       "      <th>0</th>\n",
       "      <td>-2.721786</td>\n",
       "      <td>-1.484415</td>\n",
       "      <td>-3.117884</td>\n",
       "      <td>-1.414440</td>\n",
       "      <td>-3.643357</td>\n",
       "      <td>-0.298351</td>\n",
       "      <td>-2.865528</td>\n",
       "      <td>-1.794715</td>\n",
       "      <td>-1.025318</td>\n",
       "      <td>-2.675897</td>\n",
       "      <td>...</td>\n",
       "      <td>3.126858</td>\n",
       "      <td>-1.831003</td>\n",
       "      <td>5.304234</td>\n",
       "      <td>5.052587</td>\n",
       "      <td>12.025104</td>\n",
       "      <td>-0.022078</td>\n",
       "      <td>-0.185952</td>\n",
       "      <td>1.104435</td>\n",
       "      <td>-1.265768</td>\n",
       "      <td>1.612173</td>\n",
       "    </tr>\n",
       "    <tr>\n",
       "      <th>1</th>\n",
       "      <td>-1.409384</td>\n",
       "      <td>0.172254</td>\n",
       "      <td>0.564134</td>\n",
       "      <td>-0.785802</td>\n",
       "      <td>-0.013567</td>\n",
       "      <td>0.609561</td>\n",
       "      <td>-2.190181</td>\n",
       "      <td>0.438058</td>\n",
       "      <td>-1.364876</td>\n",
       "      <td>-0.324162</td>\n",
       "      <td>...</td>\n",
       "      <td>0.421149</td>\n",
       "      <td>-0.129703</td>\n",
       "      <td>0.330880</td>\n",
       "      <td>-2.187068</td>\n",
       "      <td>1.058413</td>\n",
       "      <td>1.204790</td>\n",
       "      <td>-1.611580</td>\n",
       "      <td>1.489644</td>\n",
       "      <td>-1.693053</td>\n",
       "      <td>6.110110</td>\n",
       "    </tr>\n",
       "    <tr>\n",
       "      <th>2</th>\n",
       "      <td>1.124409</td>\n",
       "      <td>-4.453701</td>\n",
       "      <td>-0.640346</td>\n",
       "      <td>-2.314901</td>\n",
       "      <td>-0.314516</td>\n",
       "      <td>-1.519110</td>\n",
       "      <td>-1.245312</td>\n",
       "      <td>-0.982450</td>\n",
       "      <td>-2.305887</td>\n",
       "      <td>1.678134</td>\n",
       "      <td>...</td>\n",
       "      <td>0.586170</td>\n",
       "      <td>4.444507</td>\n",
       "      <td>1.613338</td>\n",
       "      <td>2.316761</td>\n",
       "      <td>1.505780</td>\n",
       "      <td>3.084725</td>\n",
       "      <td>2.618310</td>\n",
       "      <td>1.486096</td>\n",
       "      <td>0.416008</td>\n",
       "      <td>1.712449</td>\n",
       "    </tr>\n",
       "    <tr>\n",
       "      <th>3</th>\n",
       "      <td>0.247597</td>\n",
       "      <td>-1.916844</td>\n",
       "      <td>0.518319</td>\n",
       "      <td>-2.770106</td>\n",
       "      <td>0.471145</td>\n",
       "      <td>-0.307356</td>\n",
       "      <td>0.913596</td>\n",
       "      <td>-3.722890</td>\n",
       "      <td>0.797924</td>\n",
       "      <td>0.073781</td>\n",
       "      <td>...</td>\n",
       "      <td>-0.787814</td>\n",
       "      <td>2.024410</td>\n",
       "      <td>2.780921</td>\n",
       "      <td>2.351031</td>\n",
       "      <td>3.881788</td>\n",
       "      <td>2.486067</td>\n",
       "      <td>-3.556465</td>\n",
       "      <td>1.269041</td>\n",
       "      <td>1.219304</td>\n",
       "      <td>-3.954776</td>\n",
       "    </tr>\n",
       "    <tr>\n",
       "      <th>4</th>\n",
       "      <td>1.664582</td>\n",
       "      <td>-1.949790</td>\n",
       "      <td>-2.165724</td>\n",
       "      <td>-1.742308</td>\n",
       "      <td>-1.989720</td>\n",
       "      <td>-1.150563</td>\n",
       "      <td>-0.357715</td>\n",
       "      <td>-0.172018</td>\n",
       "      <td>-0.621676</td>\n",
       "      <td>-2.099463</td>\n",
       "      <td>...</td>\n",
       "      <td>0.992937</td>\n",
       "      <td>-0.211066</td>\n",
       "      <td>0.924185</td>\n",
       "      <td>-0.076872</td>\n",
       "      <td>2.183250</td>\n",
       "      <td>0.959127</td>\n",
       "      <td>1.488387</td>\n",
       "      <td>2.710169</td>\n",
       "      <td>2.262502</td>\n",
       "      <td>-2.387486</td>\n",
       "    </tr>\n",
       "  </tbody>\n",
       "</table>\n",
       "<p>5 rows × 1633 columns</p>\n",
       "</div>"
      ],
      "text/plain": [
       "       0         1         2         3         4         5         6     \\\n",
       "0 -2.721786 -1.484415 -3.117884 -1.414440 -3.643357 -0.298351 -2.865528   \n",
       "1 -1.409384  0.172254  0.564134 -0.785802 -0.013567  0.609561 -2.190181   \n",
       "2  1.124409 -4.453701 -0.640346 -2.314901 -0.314516 -1.519110 -1.245312   \n",
       "3  0.247597 -1.916844  0.518319 -2.770106  0.471145 -0.307356  0.913596   \n",
       "4  1.664582 -1.949790 -2.165724 -1.742308 -1.989720 -1.150563 -0.357715   \n",
       "\n",
       "       7         8         9       ...         1623      1624      1625  \\\n",
       "0 -1.794715 -1.025318 -2.675897    ...     3.126858 -1.831003  5.304234   \n",
       "1  0.438058 -1.364876 -0.324162    ...     0.421149 -0.129703  0.330880   \n",
       "2 -0.982450 -2.305887  1.678134    ...     0.586170  4.444507  1.613338   \n",
       "3 -3.722890  0.797924  0.073781    ...    -0.787814  2.024410  2.780921   \n",
       "4 -0.172018 -0.621676 -2.099463    ...     0.992937 -0.211066  0.924185   \n",
       "\n",
       "       1626       1627      1628      1629      1630      1631      1632  \n",
       "0  5.052587  12.025104 -0.022078 -0.185952  1.104435 -1.265768  1.612173  \n",
       "1 -2.187068   1.058413  1.204790 -1.611580  1.489644 -1.693053  6.110110  \n",
       "2  2.316761   1.505780  3.084725  2.618310  1.486096  0.416008  1.712449  \n",
       "3  2.351031   3.881788  2.486067 -3.556465  1.269041  1.219304 -3.954776  \n",
       "4 -0.076872   2.183250  0.959127  1.488387  2.710169  2.262502 -2.387486  \n",
       "\n",
       "[5 rows x 1633 columns]"
      ]
     },
     "execution_count": 314,
     "metadata": {},
     "output_type": "execute_result"
    }
   ],
   "source": [
    "Y_pca.head()"
   ]
  },
  {
   "cell_type": "code",
   "execution_count": 313,
   "metadata": {},
   "outputs": [
    {
     "name": "stdout",
     "output_type": "stream",
     "text": [
      "[t-SNE] Computing 91 nearest neighbors...\n",
      "[t-SNE] Indexed 1633 samples in 0.001s...\n",
      "[t-SNE] Computed neighbors for 1633 samples in 0.048s...\n",
      "[t-SNE] Computed conditional probabilities for sample 1000 / 1633\n",
      "[t-SNE] Computed conditional probabilities for sample 1633 / 1633\n",
      "[t-SNE] Mean sigma: 0.225017\n",
      "[t-SNE] Computed conditional probabilities in 0.050s\n",
      "[t-SNE] Iteration 50: error = 18.0440941, gradient norm = 0.0042151 (50 iterations in 2.184s)\n",
      "[t-SNE] Iteration 100: error = 18.0412197, gradient norm = 0.0003722 (50 iterations in 1.707s)\n",
      "[t-SNE] Iteration 150: error = 18.0416584, gradient norm = 0.0003513 (50 iterations in 1.693s)\n",
      "[t-SNE] Iteration 200: error = 18.0417385, gradient norm = 0.0002401 (50 iterations in 1.669s)\n",
      "[t-SNE] Iteration 250: error = 18.0416260, gradient norm = 0.0003136 (50 iterations in 1.662s)\n",
      "[t-SNE] KL divergence after 250 iterations with early exaggeration: 18.041626\n",
      "[t-SNE] Iteration 300: error = 1.6185501, gradient norm = 0.0006149 (50 iterations in 1.685s)\n",
      "[t-SNE] Iteration 350: error = 1.5350004, gradient norm = 0.0002333 (50 iterations in 1.688s)\n",
      "[t-SNE] Iteration 400: error = 1.5085731, gradient norm = 0.0001597 (50 iterations in 1.714s)\n",
      "[t-SNE] Iteration 450: error = 1.4987516, gradient norm = 0.0001075 (50 iterations in 1.786s)\n",
      "[t-SNE] Iteration 500: error = 1.4925067, gradient norm = 0.0000977 (50 iterations in 1.647s)\n",
      "[t-SNE] Iteration 550: error = 1.4891348, gradient norm = 0.0000763 (50 iterations in 1.770s)\n",
      "[t-SNE] Iteration 600: error = 1.4867034, gradient norm = 0.0000666 (50 iterations in 1.760s)\n",
      "[t-SNE] Iteration 650: error = 1.4849631, gradient norm = 0.0000702 (50 iterations in 1.697s)\n",
      "[t-SNE] Iteration 700: error = 1.4838985, gradient norm = 0.0000577 (50 iterations in 1.655s)\n",
      "[t-SNE] Iteration 750: error = 1.4830208, gradient norm = 0.0000544 (50 iterations in 1.644s)\n",
      "[t-SNE] Iteration 800: error = 1.4823065, gradient norm = 0.0000588 (50 iterations in 1.742s)\n",
      "[t-SNE] Iteration 850: error = 1.4816070, gradient norm = 0.0000655 (50 iterations in 1.659s)\n",
      "[t-SNE] Iteration 900: error = 1.4811015, gradient norm = 0.0000547 (50 iterations in 1.645s)\n",
      "[t-SNE] Iteration 950: error = 1.4806958, gradient norm = 0.0000506 (50 iterations in 1.636s)\n",
      "[t-SNE] Iteration 1000: error = 1.4803399, gradient norm = 0.0000420 (50 iterations in 1.716s)\n",
      "[t-SNE] Error after 1000 iterations: 1.480340\n"
     ]
    }
   ],
   "source": [
    "# Calculate TSNE\n",
    "reload(sct)\n",
    "from sklearn.manifold import TSNE\n",
    "myTSNE_PCA = sct.TSNE(Y_pca, df, metadata)\n",
    "myTSNE_PCA.calc_TSNE(perplexity=30, learning_rate=500)"
   ]
  },
  {
   "cell_type": "code",
   "execution_count": 316,
   "metadata": {},
   "outputs": [],
   "source": [
    "# Using HDBSCAN to call clusters automatically, generate metadata for them\n",
    "clusterer = hdbscan.HDBSCAN(min_cluster_size=30, min_samples=3).fit(myTSNE_PCA.X_tsne)\n",
    "labels_HDBSCAN = clusterer.labels_"
   ]
  },
  {
   "cell_type": "code",
   "execution_count": 317,
   "metadata": {},
   "outputs": [
    {
     "name": "stdout",
     "output_type": "stream",
     "text": [
      "Clusters 11\n"
     ]
    }
   ],
   "source": [
    "print \"Clusters\", max(labels_HDBSCAN)+1"
   ]
  },
  {
   "cell_type": "code",
   "execution_count": 318,
   "metadata": {},
   "outputs": [
    {
     "data": {
      "text/plain": [
       "(1633, 10)"
      ]
     },
     "execution_count": 318,
     "metadata": {},
     "output_type": "execute_result"
    }
   ],
   "source": [
    "myTSNE_PCA.df_libs.shape"
   ]
  },
  {
   "cell_type": "code",
   "execution_count": 319,
   "metadata": {},
   "outputs": [
    {
     "data": {
      "text/plain": [
       "(1633, 2)"
      ]
     },
     "execution_count": 319,
     "metadata": {},
     "output_type": "execute_result"
    }
   ],
   "source": [
    "myTSNE_PCA.X_tsne.shape"
   ]
  },
  {
   "cell_type": "code",
   "execution_count": 320,
   "metadata": {},
   "outputs": [],
   "source": [
    "zero_axis = myTSNE_PCA.X_tsne[:,0]\n",
    "one_axis = myTSNE_PCA.X_tsne[:,1]\n",
    "myTSNE_PCA.df_libs['x'] = zero_axis\n",
    "myTSNE_PCA.df_libs['y'] = one_axis\n",
    "myTSNE_PCA.df_libs['hdb_clust'] = labels_HDBSCAN\n",
    "myTSNE_PCA.df_libs.to_csv(\"../data/08_tss_expression_matrix_ICIM/G_KC_PCA_TSNE_data.csv\")"
   ]
  },
  {
   "cell_type": "code",
   "execution_count": 321,
   "metadata": {},
   "outputs": [],
   "source": [
    "# Load the ICIM analysis object with associated data\n",
    "# See https://github.com/felixhorns/FlyPN/blob/master/analysis/GH146_Fig2.ipynb \n",
    "# for full featured example\n",
    "\n",
    "reload(sct)\n",
    "from scipy.cluster import hierarchy\n",
    "myICIM = sct.ICIM(f_df, df, TFs=[], CSMs=[], exclude=[], N=100,\n",
    "                  correlation_cutoff=0.5,\n",
    "                  min_hits=3,\n",
    "                  exclude_max=2,\n",
    "                  dropout_rate_low=0.3,\n",
    "                  dropout_rate_high=1.0,\n",
    "                  metric=\"correlation\",\n",
    "                  stop_condition=\"linkage_dist\",\n",
    "                  N_stop=50,\n",
    "                  linkage_dist_stop=0.2)"
   ]
  },
  {
   "cell_type": "code",
   "execution_count": 322,
   "metadata": {},
   "outputs": [
    {
     "name": "stdout",
     "output_type": "stream",
     "text": [
      "Found 4 genes\n"
     ]
    },
    {
     "data": {
      "text/plain": [
       "[]"
      ]
     },
     "execution_count": 322,
     "metadata": {},
     "output_type": "execute_result"
    }
   ],
   "source": [
    "# Run step command to iterate over first run of ICIM algo\n",
    "# QC / Status Check\n",
    "myICIM.step(\"0\", verbose=True)"
   ]
  },
  {
   "cell_type": "code",
   "execution_count": 64,
   "metadata": {},
   "outputs": [
    {
     "name": "stdout",
     "output_type": "stream",
     "text": [
      "Initial step\n",
      "Found 4 genes\n",
      "\n"
     ]
    }
   ],
   "source": [
    "# Run full ICIM pipeline\n",
    "myICIM.calc(verbose=True)"
   ]
  },
  {
   "cell_type": "code",
   "execution_count": 65,
   "metadata": {},
   "outputs": [
    {
     "name": "stdout",
     "output_type": "stream",
     "text": [
      "Genes found by ICIM 0\n"
     ]
    }
   ],
   "source": [
    "genes_KC_ICIM = myICIM.get_all_markers()\n",
    "print \"Genes found by ICIM\", len(genes_KC_ICIM)"
   ]
  },
  {
   "cell_type": "code",
   "execution_count": null,
   "metadata": {},
   "outputs": [],
   "source": [
    "df.shape"
   ]
  },
  {
   "cell_type": "code",
   "execution_count": null,
   "metadata": {},
   "outputs": [],
   "source": []
  }
 ],
 "metadata": {
  "kernelspec": {
   "display_name": "Python 2",
   "language": "python",
   "name": "python2"
  },
  "language_info": {
   "codemirror_mode": {
    "name": "ipython",
    "version": 2
   },
   "file_extension": ".py",
   "mimetype": "text/x-python",
   "name": "python",
   "nbconvert_exporter": "python",
   "pygments_lexer": "ipython2",
   "version": "2.7.15"
  }
 },
 "nbformat": 4,
 "nbformat_minor": 2
}
