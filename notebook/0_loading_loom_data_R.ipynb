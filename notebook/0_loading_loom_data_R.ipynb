{
 "cells": [
  {
   "cell_type": "code",
   "execution_count": 2,
   "metadata": {},
   "outputs": [
    {
     "name": "stderr",
     "output_type": "stream",
     "text": [
      "Loading required package: R6\n",
      "Loading required package: hdf5r\n",
      "Loading required package: iterators\n",
      "Warning message:\n",
      "“package ‘iterators’ was built under R version 3.4.4”Loading required package: itertools\n"
     ]
    }
   ],
   "source": [
    "library(loomR)"
   ]
  },
  {
   "cell_type": "code",
   "execution_count": 6,
   "metadata": {},
   "outputs": [
    {
     "ename": "ERROR",
     "evalue": "Error in H5File.open(filename, mode, file_create_pl, file_access_pl): HDF5-API Errors:\n    error #000: H5F.c in H5Fopen(): line 509: unable to open file\n        class: HDF5\n        major: File accessibilty\n        minor: Unable to open file\n\n    error #001: H5Fint.c in H5F__open(): line 1400: unable to open file\n        class: HDF5\n        major: File accessibilty\n        minor: Unable to open file\n\n    error #002: H5Fint.c in H5F_open(): line 1615: unable to lock the file\n        class: HDF5\n        major: File accessibilty\n        minor: Unable to open file\n\n    error #003: H5FD.c in H5FD_lock(): line 1640: driver lock request failed\n        class: HDF5\n        major: Virtual File Layer\n        minor: Can't update object\n\n    error #004: H5FDsec2.c in H5FD_sec2_lock(): line 941: unable to lock file, errno = 35, error message = 'Resource temporarily unavailable'\n        class: HDF5\n        major: File accessibilty\n        minor: Bad file ID accessed\n\n",
     "output_type": "error",
     "traceback": [
      "Error in H5File.open(filename, mode, file_create_pl, file_access_pl): HDF5-API Errors:\n    error #000: H5F.c in H5Fopen(): line 509: unable to open file\n        class: HDF5\n        major: File accessibilty\n        minor: Unable to open file\n\n    error #001: H5Fint.c in H5F__open(): line 1400: unable to open file\n        class: HDF5\n        major: File accessibilty\n        minor: Unable to open file\n\n    error #002: H5Fint.c in H5F_open(): line 1615: unable to lock the file\n        class: HDF5\n        major: File accessibilty\n        minor: Unable to open file\n\n    error #003: H5FD.c in H5FD_lock(): line 1640: driver lock request failed\n        class: HDF5\n        major: Virtual File Layer\n        minor: Can't update object\n\n    error #004: H5FDsec2.c in H5FD_sec2_lock(): line 941: unable to lock file, errno = 35, error message = 'Resource temporarily unavailable'\n        class: HDF5\n        major: File accessibilty\n        minor: Bad file ID accessed\n\nTraceback:\n",
      "1. connect(filename = \"../data/Aerts_Fly_AdultBrain_Filtered_57k.loom\", \n .     mode = \"r\", skip.validate = TRUE)",
      "2. loom$new(filename = filename, mode = mode, skip.validate = skip.validate)",
      "3. .subset2(public_bind_env, \"initialize\")(...)",
      "4. super$initialize(filename = filename, mode = mode, ...)",
      "5. H5File.open(filename, mode, file_create_pl, file_access_pl)"
     ]
    }
   ],
   "source": [
    "lfile <- connect(filename = \"../data/Aerts_Fly_AdultBrain_Filtered_57k.loom\", mode = \"r\", skip.validate = TRUE)"
   ]
  },
  {
   "cell_type": "code",
   "execution_count": 7,
   "metadata": {},
   "outputs": [
    {
     "data": {
      "text/html": [
       "TRUE"
      ],
      "text/latex": [
       "TRUE"
      ],
      "text/markdown": [
       "TRUE"
      ],
      "text/plain": [
       "[1] TRUE"
      ]
     },
     "metadata": {},
     "output_type": "display_data"
    }
   ],
   "source": []
  },
  {
   "cell_type": "code",
   "execution_count": null,
   "metadata": {},
   "outputs": [],
   "source": []
  }
 ],
 "metadata": {
  "kernelspec": {
   "display_name": "R",
   "language": "R",
   "name": "ir"
  },
  "language_info": {
   "codemirror_mode": "r",
   "file_extension": ".r",
   "mimetype": "text/x-r-source",
   "name": "R",
   "pygments_lexer": "r",
   "version": "3.4.0"
  }
 },
 "nbformat": 4,
 "nbformat_minor": 2
}
