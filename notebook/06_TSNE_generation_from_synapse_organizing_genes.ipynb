{
 "cells": [
  {
   "cell_type": "code",
   "execution_count": 2,
   "metadata": {},
   "outputs": [],
   "source": [
    "import pandas as pd\n",
    "import numpy as np\n",
    "import sys\n",
    "import hdbscan"
   ]
  },
  {
   "cell_type": "code",
   "execution_count": 212,
   "metadata": {},
   "outputs": [],
   "source": [
    "# Load up code to run ICIM\n",
    "# Available from : https://github.com/felixhorns/FlyPN\n",
    "sys.path.append(\"../code/ICIM\")\n",
    "import sct\n",
    "reload(sct)\n",
    "# Used because of nature of ICIM library\n",
    "pd.options.mode.chained_assignment = None  # default='warn'"
   ]
  },
  {
   "cell_type": "code",
   "execution_count": 3,
   "metadata": {},
   "outputs": [],
   "source": [
    "# Set up to pull out the list of genes in the pruned expression table\n",
    "df = pd.read_csv(\"../data/02_filtered_kenyon_cells/CLEAN_LOG2TRANSFORM_kenyon_cells.csv\", index_col='symbol')"
   ]
  },
  {
   "cell_type": "code",
   "execution_count": 214,
   "metadata": {},
   "outputs": [
    {
     "name": "stdout",
     "output_type": "stream",
     "text": [
      "Shape of df with nan index : (1, 2848)\n",
      "total sum of expression values : 0.0\n",
      "drop row\n"
     ]
    }
   ],
   "source": [
    "# ended up with a random row nan whose entire row is 0 counts - FAKE GENE\n",
    "print('Shape of df with nan index : ' + str(df[df.index.isna()].shape))\n",
    "print('total sum of expression values : ' + str(sum(df[df.index.isna()].iloc[0])))\n",
    "print('drop row')\n",
    "df = df[~df.index.isna()]"
   ]
  },
  {
   "cell_type": "code",
   "execution_count": 216,
   "metadata": {},
   "outputs": [
    {
     "data": {
      "text/plain": [
       "(17472, 2848)"
      ]
     },
     "execution_count": 216,
     "metadata": {},
     "output_type": "execute_result"
    }
   ],
   "source": [
    "df.shape"
   ]
  },
  {
   "cell_type": "code",
   "execution_count": 224,
   "metadata": {},
   "outputs": [],
   "source": [
    "# Will generate each list of genes seperately in case it is necc. to analyze them seperately.\n",
    "# After creation will compile them all into a seperate list\n",
    "\n",
    "gene_list = []"
   ]
  },
  {
   "cell_type": "code",
   "execution_count": 4,
   "metadata": {},
   "outputs": [],
   "source": [
    "# Nicotinic receptor component subtype genes\n",
    "# Keep the gene (index column) only for those genes which contain the 'nAChR'\n",
    "# These genes are discussed at http://flybase.org/reports/FBgg0000202.html\n",
    "nAChR = list(df[df.index.str.contains('nAChR', na=False)].index)"
   ]
  },
  {
   "cell_type": "code",
   "execution_count": 226,
   "metadata": {},
   "outputs": [],
   "source": [
    "# Muscarinic receptor component subtype genes\n",
    "# Keep the gene (index column) only for those genes which contain the 'mAChR'\n",
    "# These genes are discussed at http://flybase.org/reports/FBgg0000187.html\n",
    "mAChR = list(df[df.index.str.contains('mAChR', na=False)].index)"
   ]
  },
  {
   "cell_type": "code",
   "execution_count": 227,
   "metadata": {},
   "outputs": [],
   "source": [
    "# Defective proboscis extension reponse genes\n",
    "# Keep the gene (index column) only for those genes which contain the 'dpr'\n",
    "# These genes are discussed at http://flybase.org/reports/FBgg0000529.html\n",
    "dpr = list(df[df.index.str.contains('dpr', na=False)].index)"
   ]
  },
  {
   "cell_type": "code",
   "execution_count": 228,
   "metadata": {},
   "outputs": [],
   "source": [
    "# Dpr interacting proteins\n",
    "# These come in two batches - DIP & two unnamed genes ['CG31814', 'CG45781']\n",
    "# These genes are discussed at http://flybase.org/reports/FBgg0000530\n",
    "dip = list(df[df.index.str.contains('DIP-', na=False)].index) + list(df[df.index.isin(['CG31814', 'CG45781'])].index)"
   ]
  },
  {
   "cell_type": "code",
   "execution_count": 229,
   "metadata": {},
   "outputs": [],
   "source": [
    "dscam = list(df[df.index.str.contains('Dscam', na=False)].index)"
   ]
  },
  {
   "cell_type": "code",
   "execution_count": 230,
   "metadata": {},
   "outputs": [],
   "source": [
    "for geneset in [nAChR, mAChR, dpr, dip, dscam]:\n",
    "    gene_list.extend(geneset)"
   ]
  },
  {
   "cell_type": "code",
   "execution_count": 231,
   "metadata": {},
   "outputs": [
    {
     "data": {
      "text/plain": [
       "49"
      ]
     },
     "execution_count": 231,
     "metadata": {},
     "output_type": "execute_result"
    }
   ],
   "source": [
    "# TSNE Projection will be completed with # genes:\n",
    "len(gene_list)"
   ]
  },
  {
   "cell_type": "code",
   "execution_count": 266,
   "metadata": {},
   "outputs": [],
   "source": [
    "# Generate a filtered df based on these genes\n",
    "f_df = df.copy(deep=True)\n",
    "f_df = f_df.loc[gene_list]"
   ]
  },
  {
   "cell_type": "code",
   "execution_count": 267,
   "metadata": {},
   "outputs": [
    {
     "data": {
      "text/plain": [
       "(49, 2848)"
      ]
     },
     "execution_count": 267,
     "metadata": {},
     "output_type": "execute_result"
    }
   ],
   "source": [
    "f_df.shape"
   ]
  },
  {
   "cell_type": "code",
   "execution_count": 268,
   "metadata": {},
   "outputs": [],
   "source": [
    "# Check to make sure each gene is present in at least 3 cells\n",
    "def check_min_num_cells(row):\n",
    "    num_pos = 0\n",
    "    for gene_count in row:\n",
    "        if gene_count > 0:\n",
    "            num_pos += 1\n",
    "            if num_pos >= 3:\n",
    "                return True\n",
    "    return False\n",
    "   \n",
    "\n",
    "min_num_cells = f_df.apply(check_min_num_cells, axis=1)\n",
    "f_df = f_df[min_num_cells]"
   ]
  },
  {
   "cell_type": "code",
   "execution_count": 270,
   "metadata": {},
   "outputs": [
    {
     "data": {
      "text/plain": [
       "(47, 2848)"
      ]
     },
     "execution_count": 270,
     "metadata": {},
     "output_type": "execute_result"
    }
   ],
   "source": [
    "f_df.shape"
   ]
  },
  {
   "cell_type": "code",
   "execution_count": 274,
   "metadata": {},
   "outputs": [
    {
     "data": {
      "text/plain": [
       "Index([u'CTACACCTCAGAGGTG-DGRP-551_9d_r1'], dtype='object')"
      ]
     },
     "execution_count": 274,
     "metadata": {},
     "output_type": "execute_result"
    }
   ],
   "source": [
    "# This is a cell which has no expression for the associated synaptic organizing genes\n",
    "# It has to be removed from both the unfiltered/filtered df AND the metadata df\n",
    "f_df.loc[:,f_df.apply(sum) == 0].columns"
   ]
  },
  {
   "cell_type": "code",
   "execution_count": null,
   "metadata": {},
   "outputs": [],
   "source": [
    "# remove any cells which have zero counts for all genes in gene_list\n",
    "df = df.drop('CTACACCTCAGAGGTG-DGRP-551_9d_r1', axis=1)\n",
    "f_df = f_df.drop('CTACACCTCAGAGGTG-DGRP-551_9d_r1', axis=1)"
   ]
  },
  {
   "cell_type": "code",
   "execution_count": 284,
   "metadata": {},
   "outputs": [
    {
     "data": {
      "text/plain": [
       "(17472, 2847)"
      ]
     },
     "execution_count": 284,
     "metadata": {},
     "output_type": "execute_result"
    }
   ],
   "source": [
    "df.shape"
   ]
  },
  {
   "cell_type": "code",
   "execution_count": 256,
   "metadata": {},
   "outputs": [
    {
     "data": {
      "text/plain": [
       "(47, 2847)"
      ]
     },
     "execution_count": 256,
     "metadata": {},
     "output_type": "execute_result"
    }
   ],
   "source": [
    "f_df.shape"
   ]
  },
  {
   "cell_type": "code",
   "execution_count": 285,
   "metadata": {},
   "outputs": [],
   "source": [
    "# load up metadata that corresponds to full df\n",
    "metadata = pd.read_csv(\"../data/02_filtered_kenyon_cells/metadata_kenyon_cells.csv\")\n",
    "metadata = metadata.set_index(\"CellID\")"
   ]
  },
  {
   "cell_type": "code",
   "execution_count": null,
   "metadata": {},
   "outputs": [],
   "source": [
    "metadata = metadata.drop('CTACACCTCAGAGGTG-DGRP-551_9d_r1')"
   ]
  },
  {
   "cell_type": "code",
   "execution_count": 289,
   "metadata": {},
   "outputs": [
    {
     "data": {
      "text/plain": [
       "(2847, 8)"
      ]
     },
     "execution_count": 289,
     "metadata": {},
     "output_type": "execute_result"
    }
   ],
   "source": [
    "metadata.shape"
   ]
  },
  {
   "cell_type": "code",
   "execution_count": 290,
   "metadata": {},
   "outputs": [
    {
     "name": "stdout",
     "output_type": "stream",
     "text": [
      "[t-SNE] Computed conditional probabilities for sample 1000 / 2847\n",
      "[t-SNE] Computed conditional probabilities for sample 2000 / 2847\n",
      "[t-SNE] Computed conditional probabilities for sample 2847 / 2847\n",
      "[t-SNE] Mean sigma: 0.116605\n",
      "[t-SNE] Iteration 50: error = 25.9108090, gradient norm = 0.0070685 (50 iterations in 14.823s)\n",
      "[t-SNE] Iteration 100: error = 25.7676472, gradient norm = 0.0004148 (50 iterations in 14.791s)\n",
      "[t-SNE] Iteration 150: error = 25.7689364, gradient norm = 0.0001069 (50 iterations in 14.654s)\n",
      "[t-SNE] Iteration 200: error = 25.7696320, gradient norm = 0.0000370 (50 iterations in 14.673s)\n",
      "[t-SNE] Iteration 250: error = 25.7699342, gradient norm = 0.0000196 (50 iterations in 14.973s)\n",
      "[t-SNE] KL divergence after 250 iterations with early exaggeration: 25.769934\n",
      "[t-SNE] Iteration 300: error = 3.3168265, gradient norm = 0.0016014 (50 iterations in 14.786s)\n",
      "[t-SNE] Iteration 350: error = 3.0080594, gradient norm = 0.0006648 (50 iterations in 14.660s)\n",
      "[t-SNE] Iteration 400: error = 2.8700291, gradient norm = 0.0004323 (50 iterations in 14.625s)\n",
      "[t-SNE] Iteration 450: error = 2.7933328, gradient norm = 0.0003236 (50 iterations in 14.711s)\n",
      "[t-SNE] Iteration 500: error = 2.7442656, gradient norm = 0.0002434 (50 iterations in 15.963s)\n",
      "[t-SNE] Iteration 550: error = 2.7106273, gradient norm = 0.0001972 (50 iterations in 21.396s)\n",
      "[t-SNE] Iteration 600: error = 2.6856350, gradient norm = 0.0001703 (50 iterations in 16.279s)\n",
      "[t-SNE] Iteration 650: error = 2.6668973, gradient norm = 0.0001374 (50 iterations in 15.969s)\n",
      "[t-SNE] Iteration 700: error = 2.6523704, gradient norm = 0.0001178 (50 iterations in 15.617s)\n",
      "[t-SNE] Iteration 750: error = 2.6408322, gradient norm = 0.0001032 (50 iterations in 17.443s)\n",
      "[t-SNE] Iteration 800: error = 2.6315726, gradient norm = 0.0000855 (50 iterations in 14.935s)\n",
      "[t-SNE] Iteration 850: error = 2.6239222, gradient norm = 0.0000777 (50 iterations in 14.674s)\n",
      "[t-SNE] Iteration 900: error = 2.6174888, gradient norm = 0.0000711 (50 iterations in 20.206s)\n",
      "[t-SNE] Iteration 950: error = 2.6121273, gradient norm = 0.0000618 (50 iterations in 19.098s)\n",
      "[t-SNE] Iteration 1000: error = 2.6076887, gradient norm = 0.0000578 (50 iterations in 15.315s)\n",
      "[t-SNE] Error after 1000 iterations: 2.607689\n"
     ]
    }
   ],
   "source": [
    "# Calculate TSNE\n",
    "reload(sct)\n",
    "from sklearn.manifold import TSNE\n",
    "myTSNE = sct.TSNE(f_df, df, metadata)\n",
    "myTSNE.calc_TSNE(perplexity=10, learning_rate=250, early_exaggeration=4.0, method=\"exact\", random_state=1)"
   ]
  },
  {
   "cell_type": "code",
   "execution_count": 291,
   "metadata": {},
   "outputs": [],
   "source": [
    "# Using HDBSCAN to call clusters automatically, generate metadata for them\n",
    "clusterer = hdbscan.HDBSCAN(min_cluster_size=30, min_samples=3).fit(myTSNE.X_tsne)\n",
    "labels_HDBSCAN = clusterer.labels_"
   ]
  },
  {
   "cell_type": "code",
   "execution_count": 292,
   "metadata": {},
   "outputs": [
    {
     "name": "stdout",
     "output_type": "stream",
     "text": [
      "Clusters 32\n"
     ]
    }
   ],
   "source": [
    "print \"Clusters\", max(labels_HDBSCAN)+1"
   ]
  },
  {
   "cell_type": "code",
   "execution_count": 293,
   "metadata": {},
   "outputs": [],
   "source": [
    "zero_axis = myTSNE.X_tsne[:,0]\n",
    "one_axis = myTSNE.X_tsne[:,1]\n",
    "myTSNE.df_libs['x'] = zero_axis\n",
    "myTSNE.df_libs['y'] = one_axis\n",
    "myTSNE.df_libs['hdb_clust'] = labels_HDBSCAN\n"
   ]
  },
  {
   "cell_type": "code",
   "execution_count": 298,
   "metadata": {},
   "outputs": [],
   "source": [
    "def gen_kc_type(row):\n",
    "    if int(row.cell_type_id) == 8:\n",
    "        return 'G-KC'\n",
    "    elif int(row.cell_type_id) == 22:\n",
    "        return 'a/b-KC'\n",
    "    elif int(row.cell_type_id) == 28:\n",
    "        return \"a'/b'-KC\"\n",
    "    \n",
    "myTSNE.df_libs['subtype'] = myTSNE.df_libs.apply(gen_kc_type, axis=1)\n",
    "myTSNE.df_libs.to_csv(\"../data/05_synapse_organizing_gene_TSNE_gen/KC_synapse_organizing_gene_TSNE_data.csv\")"
   ]
  },
  {
   "cell_type": "code",
   "execution_count": 299,
   "metadata": {},
   "outputs": [
    {
     "data": {
      "text/plain": [
       "Index([u'Age', u'Gender', u'Genotype', u'Replicate', u'nGene', u'nUMI',\n",
       "       u'cell_type_id', u'is_kc', u'x', u'y', u'hdb_clust', u'subtype'],\n",
       "      dtype='object')"
      ]
     },
     "execution_count": 299,
     "metadata": {},
     "output_type": "execute_result"
    }
   ],
   "source": [
    "myTSNE.df_libs.columns"
   ]
  },
  {
   "cell_type": "code",
   "execution_count": null,
   "metadata": {},
   "outputs": [],
   "source": []
  },
  {
   "cell_type": "code",
   "execution_count": null,
   "metadata": {},
   "outputs": [],
   "source": []
  },
  {
   "cell_type": "code",
   "execution_count": null,
   "metadata": {},
   "outputs": [],
   "source": []
  },
  {
   "cell_type": "code",
   "execution_count": null,
   "metadata": {},
   "outputs": [],
   "source": []
  },
  {
   "cell_type": "code",
   "execution_count": null,
   "metadata": {},
   "outputs": [],
   "source": []
  }
 ],
 "metadata": {
  "kernelspec": {
   "display_name": "Python 2",
   "language": "python",
   "name": "python2"
  },
  "language_info": {
   "codemirror_mode": {
    "name": "ipython",
    "version": 2
   },
   "file_extension": ".py",
   "mimetype": "text/x-python",
   "name": "python",
   "nbconvert_exporter": "python",
   "pygments_lexer": "ipython2",
   "version": "2.7.15"
  }
 },
 "nbformat": 4,
 "nbformat_minor": 2
}
