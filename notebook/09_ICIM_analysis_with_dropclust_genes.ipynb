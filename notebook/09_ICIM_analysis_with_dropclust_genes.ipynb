{
 "cells": [
  {
   "cell_type": "code",
   "execution_count": 1,
   "metadata": {},
   "outputs": [],
   "source": [
    "import pandas as pd\n",
    "import numpy as np\n",
    "import sys\n",
    "import hdbscan"
   ]
  },
  {
   "cell_type": "code",
   "execution_count": 23,
   "metadata": {},
   "outputs": [],
   "source": [
    "# Load up code to run ICIM\n",
    "# Available from : https://github.com/felixhorns/FlyPN\n",
    "sys.path.append(\"../code/ICIM\")\n",
    "import sct\n",
    "reload(sct)\n",
    "# Used because of nature of ICIM library\n",
    "pd.options.mode.chained_assignment = None  # default='warn'"
   ]
  },
  {
   "cell_type": "code",
   "execution_count": 16,
   "metadata": {},
   "outputs": [],
   "source": [
    "dc_genes = pd.read_csv(\"../data/07_dropclust_data/dropclust_pca_genes.csv\", header=None)\n",
    "dc_genes.columns = ['symbol']\n",
    "# Remove Hsp's"
   ]
  },
  {
   "cell_type": "code",
   "execution_count": 22,
   "metadata": {},
   "outputs": [],
   "source": [
    "dc_genes = dc_genes[~dc_genes.symbol.str.contains('Hsp')]"
   ]
  },
  {
   "cell_type": "code",
   "execution_count": 30,
   "metadata": {},
   "outputs": [],
   "source": [
    "dc_genes = list(dc_genes.symbol)"
   ]
  },
  {
   "cell_type": "code",
   "execution_count": 24,
   "metadata": {},
   "outputs": [],
   "source": [
    "# Set up to pull out the list of genes in the pruned expression table\n",
    "df = pd.read_csv(\"../data/02_filtered_kenyon_cells/CLEAN_LOG2TRANSFORM_kenyon_cells.csv\", index_col='symbol')"
   ]
  },
  {
   "cell_type": "code",
   "execution_count": 25,
   "metadata": {},
   "outputs": [
    {
     "data": {
      "text/plain": [
       "(17473, 2848)"
      ]
     },
     "execution_count": 25,
     "metadata": {},
     "output_type": "execute_result"
    }
   ],
   "source": [
    "df.shape"
   ]
  },
  {
   "cell_type": "code",
   "execution_count": 26,
   "metadata": {},
   "outputs": [
    {
     "name": "stdout",
     "output_type": "stream",
     "text": [
      "Shape of df with nan index : (1, 2848)\n",
      "total sum of expression values : 0.0\n",
      "drop row\n"
     ]
    }
   ],
   "source": [
    "# ended up with a random row nan whose entire row is 0 counts - FAKE GENE\n",
    "print('Shape of df with nan index : ' + str(df[df.index.isna()].shape))\n",
    "print('total sum of expression values : ' + str(sum(df[df.index.isna()].iloc[0])))\n",
    "print('drop row')\n",
    "df = df[~df.index.isna()]"
   ]
  },
  {
   "cell_type": "code",
   "execution_count": 27,
   "metadata": {},
   "outputs": [
    {
     "data": {
      "text/plain": [
       "(17472, 2848)"
      ]
     },
     "execution_count": 27,
     "metadata": {},
     "output_type": "execute_result"
    }
   ],
   "source": [
    "df.shape"
   ]
  },
  {
   "cell_type": "code",
   "execution_count": 31,
   "metadata": {},
   "outputs": [],
   "source": [
    "# Generate a filtered df based on these genes\n",
    "f_df = df.copy(deep=True)\n",
    "f_df = f_df.loc[dc_genes]"
   ]
  },
  {
   "cell_type": "code",
   "execution_count": 33,
   "metadata": {},
   "outputs": [
    {
     "data": {
      "text/html": [
       "<div>\n",
       "<style scoped>\n",
       "    .dataframe tbody tr th:only-of-type {\n",
       "        vertical-align: middle;\n",
       "    }\n",
       "\n",
       "    .dataframe tbody tr th {\n",
       "        vertical-align: top;\n",
       "    }\n",
       "\n",
       "    .dataframe thead th {\n",
       "        text-align: right;\n",
       "    }\n",
       "</style>\n",
       "<table border=\"1\" class=\"dataframe\">\n",
       "  <thead>\n",
       "    <tr style=\"text-align: right;\">\n",
       "      <th></th>\n",
       "      <th>ACATACGAGGGCTTCC-DGRP-551_0d_r1</th>\n",
       "      <th>ACCCACTTCACTCTTA-DGRP-551_0d_r1</th>\n",
       "      <th>ACCGTAAAGATAGTCA-DGRP-551_0d_r1</th>\n",
       "      <th>ACTTACTAGTGGTAAT-DGRP-551_0d_r1</th>\n",
       "      <th>ACTTGTTCATGGTTGT-DGRP-551_0d_r1</th>\n",
       "      <th>ACTTTCATCAATAAGG-DGRP-551_0d_r1</th>\n",
       "      <th>AGATCTGCAACAACCT-DGRP-551_0d_r1</th>\n",
       "      <th>AGATCTGTCTACTCAT-DGRP-551_0d_r1</th>\n",
       "      <th>AGCGGTCCATTTCACT-DGRP-551_0d_r1</th>\n",
       "      <th>AGCTCTCGTTTGACTG-DGRP-551_0d_r1</th>\n",
       "      <th>...</th>\n",
       "      <th>GGCAATTCATGGATGG-w1118_15d_r1</th>\n",
       "      <th>GTCCTCAGTTGCGCAC-w1118_15d_r1</th>\n",
       "      <th>GTGCAGCGTACCGTAT-w1118_15d_r1</th>\n",
       "      <th>TATGCCCTCTATGTGG-w1118_15d_r1</th>\n",
       "      <th>TCATTACAGAGGTTGC-w1118_15d_r1</th>\n",
       "      <th>TCGAGGCAGCTATGCT-w1118_15d_r1</th>\n",
       "      <th>TTCTACATCAGTGTTG-w1118_15d_r1</th>\n",
       "      <th>AAGTCTGTCTGGTTCC-w1118_30d_r1</th>\n",
       "      <th>ACATACGTCGGATGGA-w1118_30d_r1</th>\n",
       "      <th>GAAATGACAAGACACG-w1118_30d_r1</th>\n",
       "    </tr>\n",
       "    <tr>\n",
       "      <th>symbol</th>\n",
       "      <th></th>\n",
       "      <th></th>\n",
       "      <th></th>\n",
       "      <th></th>\n",
       "      <th></th>\n",
       "      <th></th>\n",
       "      <th></th>\n",
       "      <th></th>\n",
       "      <th></th>\n",
       "      <th></th>\n",
       "      <th></th>\n",
       "      <th></th>\n",
       "      <th></th>\n",
       "      <th></th>\n",
       "      <th></th>\n",
       "      <th></th>\n",
       "      <th></th>\n",
       "      <th></th>\n",
       "      <th></th>\n",
       "      <th></th>\n",
       "      <th></th>\n",
       "    </tr>\n",
       "  </thead>\n",
       "  <tbody>\n",
       "    <tr>\n",
       "      <th>mamo</th>\n",
       "      <td>2.000000</td>\n",
       "      <td>4.392317</td>\n",
       "      <td>0.0</td>\n",
       "      <td>3.906891</td>\n",
       "      <td>2.321928</td>\n",
       "      <td>4.087463</td>\n",
       "      <td>4.523562</td>\n",
       "      <td>4.857981</td>\n",
       "      <td>1.000000</td>\n",
       "      <td>3.321928</td>\n",
       "      <td>...</td>\n",
       "      <td>1.584963</td>\n",
       "      <td>3.700440</td>\n",
       "      <td>0.000000</td>\n",
       "      <td>2.321928</td>\n",
       "      <td>2.807355</td>\n",
       "      <td>2.321928</td>\n",
       "      <td>3.906891</td>\n",
       "      <td>4.700440</td>\n",
       "      <td>2.321928</td>\n",
       "      <td>5.247928</td>\n",
       "    </tr>\n",
       "    <tr>\n",
       "      <th>pros</th>\n",
       "      <td>1.584963</td>\n",
       "      <td>3.906891</td>\n",
       "      <td>5.0</td>\n",
       "      <td>3.584963</td>\n",
       "      <td>1.584963</td>\n",
       "      <td>2.807355</td>\n",
       "      <td>3.700440</td>\n",
       "      <td>1.584963</td>\n",
       "      <td>0.000000</td>\n",
       "      <td>2.584963</td>\n",
       "      <td>...</td>\n",
       "      <td>1.000000</td>\n",
       "      <td>2.807355</td>\n",
       "      <td>4.392317</td>\n",
       "      <td>2.584963</td>\n",
       "      <td>3.321928</td>\n",
       "      <td>2.321928</td>\n",
       "      <td>2.000000</td>\n",
       "      <td>2.807355</td>\n",
       "      <td>2.000000</td>\n",
       "      <td>3.169925</td>\n",
       "    </tr>\n",
       "    <tr>\n",
       "      <th>CG32264</th>\n",
       "      <td>1.000000</td>\n",
       "      <td>1.000000</td>\n",
       "      <td>2.0</td>\n",
       "      <td>1.000000</td>\n",
       "      <td>0.000000</td>\n",
       "      <td>1.584963</td>\n",
       "      <td>2.000000</td>\n",
       "      <td>2.584963</td>\n",
       "      <td>2.000000</td>\n",
       "      <td>1.000000</td>\n",
       "      <td>...</td>\n",
       "      <td>1.584963</td>\n",
       "      <td>0.000000</td>\n",
       "      <td>2.000000</td>\n",
       "      <td>1.000000</td>\n",
       "      <td>0.000000</td>\n",
       "      <td>0.000000</td>\n",
       "      <td>1.000000</td>\n",
       "      <td>2.321928</td>\n",
       "      <td>1.000000</td>\n",
       "      <td>2.000000</td>\n",
       "    </tr>\n",
       "    <tr>\n",
       "      <th>alphagamma-element:CR32865</th>\n",
       "      <td>0.000000</td>\n",
       "      <td>0.000000</td>\n",
       "      <td>0.0</td>\n",
       "      <td>0.000000</td>\n",
       "      <td>0.000000</td>\n",
       "      <td>0.000000</td>\n",
       "      <td>0.000000</td>\n",
       "      <td>0.000000</td>\n",
       "      <td>0.000000</td>\n",
       "      <td>0.000000</td>\n",
       "      <td>...</td>\n",
       "      <td>0.000000</td>\n",
       "      <td>0.000000</td>\n",
       "      <td>0.000000</td>\n",
       "      <td>0.000000</td>\n",
       "      <td>0.000000</td>\n",
       "      <td>0.000000</td>\n",
       "      <td>1.584963</td>\n",
       "      <td>0.000000</td>\n",
       "      <td>0.000000</td>\n",
       "      <td>0.000000</td>\n",
       "    </tr>\n",
       "    <tr>\n",
       "      <th>Rbp6</th>\n",
       "      <td>3.321928</td>\n",
       "      <td>3.700440</td>\n",
       "      <td>0.0</td>\n",
       "      <td>2.807355</td>\n",
       "      <td>3.459432</td>\n",
       "      <td>2.321928</td>\n",
       "      <td>2.807355</td>\n",
       "      <td>4.169925</td>\n",
       "      <td>2.807355</td>\n",
       "      <td>2.000000</td>\n",
       "      <td>...</td>\n",
       "      <td>2.000000</td>\n",
       "      <td>0.000000</td>\n",
       "      <td>0.000000</td>\n",
       "      <td>3.459432</td>\n",
       "      <td>0.000000</td>\n",
       "      <td>1.584963</td>\n",
       "      <td>2.807355</td>\n",
       "      <td>2.321928</td>\n",
       "      <td>1.000000</td>\n",
       "      <td>2.584963</td>\n",
       "    </tr>\n",
       "  </tbody>\n",
       "</table>\n",
       "<p>5 rows × 2848 columns</p>\n",
       "</div>"
      ],
      "text/plain": [
       "                            ACATACGAGGGCTTCC-DGRP-551_0d_r1  \\\n",
       "symbol                                                        \n",
       "mamo                                               2.000000   \n",
       "pros                                               1.584963   \n",
       "CG32264                                            1.000000   \n",
       "alphagamma-element:CR32865                         0.000000   \n",
       "Rbp6                                               3.321928   \n",
       "\n",
       "                            ACCCACTTCACTCTTA-DGRP-551_0d_r1  \\\n",
       "symbol                                                        \n",
       "mamo                                               4.392317   \n",
       "pros                                               3.906891   \n",
       "CG32264                                            1.000000   \n",
       "alphagamma-element:CR32865                         0.000000   \n",
       "Rbp6                                               3.700440   \n",
       "\n",
       "                            ACCGTAAAGATAGTCA-DGRP-551_0d_r1  \\\n",
       "symbol                                                        \n",
       "mamo                                                    0.0   \n",
       "pros                                                    5.0   \n",
       "CG32264                                                 2.0   \n",
       "alphagamma-element:CR32865                              0.0   \n",
       "Rbp6                                                    0.0   \n",
       "\n",
       "                            ACTTACTAGTGGTAAT-DGRP-551_0d_r1  \\\n",
       "symbol                                                        \n",
       "mamo                                               3.906891   \n",
       "pros                                               3.584963   \n",
       "CG32264                                            1.000000   \n",
       "alphagamma-element:CR32865                         0.000000   \n",
       "Rbp6                                               2.807355   \n",
       "\n",
       "                            ACTTGTTCATGGTTGT-DGRP-551_0d_r1  \\\n",
       "symbol                                                        \n",
       "mamo                                               2.321928   \n",
       "pros                                               1.584963   \n",
       "CG32264                                            0.000000   \n",
       "alphagamma-element:CR32865                         0.000000   \n",
       "Rbp6                                               3.459432   \n",
       "\n",
       "                            ACTTTCATCAATAAGG-DGRP-551_0d_r1  \\\n",
       "symbol                                                        \n",
       "mamo                                               4.087463   \n",
       "pros                                               2.807355   \n",
       "CG32264                                            1.584963   \n",
       "alphagamma-element:CR32865                         0.000000   \n",
       "Rbp6                                               2.321928   \n",
       "\n",
       "                            AGATCTGCAACAACCT-DGRP-551_0d_r1  \\\n",
       "symbol                                                        \n",
       "mamo                                               4.523562   \n",
       "pros                                               3.700440   \n",
       "CG32264                                            2.000000   \n",
       "alphagamma-element:CR32865                         0.000000   \n",
       "Rbp6                                               2.807355   \n",
       "\n",
       "                            AGATCTGTCTACTCAT-DGRP-551_0d_r1  \\\n",
       "symbol                                                        \n",
       "mamo                                               4.857981   \n",
       "pros                                               1.584963   \n",
       "CG32264                                            2.584963   \n",
       "alphagamma-element:CR32865                         0.000000   \n",
       "Rbp6                                               4.169925   \n",
       "\n",
       "                            AGCGGTCCATTTCACT-DGRP-551_0d_r1  \\\n",
       "symbol                                                        \n",
       "mamo                                               1.000000   \n",
       "pros                                               0.000000   \n",
       "CG32264                                            2.000000   \n",
       "alphagamma-element:CR32865                         0.000000   \n",
       "Rbp6                                               2.807355   \n",
       "\n",
       "                            AGCTCTCGTTTGACTG-DGRP-551_0d_r1  \\\n",
       "symbol                                                        \n",
       "mamo                                               3.321928   \n",
       "pros                                               2.584963   \n",
       "CG32264                                            1.000000   \n",
       "alphagamma-element:CR32865                         0.000000   \n",
       "Rbp6                                               2.000000   \n",
       "\n",
       "                                        ...                \\\n",
       "symbol                                  ...                 \n",
       "mamo                                    ...                 \n",
       "pros                                    ...                 \n",
       "CG32264                                 ...                 \n",
       "alphagamma-element:CR32865              ...                 \n",
       "Rbp6                                    ...                 \n",
       "\n",
       "                            GGCAATTCATGGATGG-w1118_15d_r1  \\\n",
       "symbol                                                      \n",
       "mamo                                             1.584963   \n",
       "pros                                             1.000000   \n",
       "CG32264                                          1.584963   \n",
       "alphagamma-element:CR32865                       0.000000   \n",
       "Rbp6                                             2.000000   \n",
       "\n",
       "                            GTCCTCAGTTGCGCAC-w1118_15d_r1  \\\n",
       "symbol                                                      \n",
       "mamo                                             3.700440   \n",
       "pros                                             2.807355   \n",
       "CG32264                                          0.000000   \n",
       "alphagamma-element:CR32865                       0.000000   \n",
       "Rbp6                                             0.000000   \n",
       "\n",
       "                            GTGCAGCGTACCGTAT-w1118_15d_r1  \\\n",
       "symbol                                                      \n",
       "mamo                                             0.000000   \n",
       "pros                                             4.392317   \n",
       "CG32264                                          2.000000   \n",
       "alphagamma-element:CR32865                       0.000000   \n",
       "Rbp6                                             0.000000   \n",
       "\n",
       "                            TATGCCCTCTATGTGG-w1118_15d_r1  \\\n",
       "symbol                                                      \n",
       "mamo                                             2.321928   \n",
       "pros                                             2.584963   \n",
       "CG32264                                          1.000000   \n",
       "alphagamma-element:CR32865                       0.000000   \n",
       "Rbp6                                             3.459432   \n",
       "\n",
       "                            TCATTACAGAGGTTGC-w1118_15d_r1  \\\n",
       "symbol                                                      \n",
       "mamo                                             2.807355   \n",
       "pros                                             3.321928   \n",
       "CG32264                                          0.000000   \n",
       "alphagamma-element:CR32865                       0.000000   \n",
       "Rbp6                                             0.000000   \n",
       "\n",
       "                            TCGAGGCAGCTATGCT-w1118_15d_r1  \\\n",
       "symbol                                                      \n",
       "mamo                                             2.321928   \n",
       "pros                                             2.321928   \n",
       "CG32264                                          0.000000   \n",
       "alphagamma-element:CR32865                       0.000000   \n",
       "Rbp6                                             1.584963   \n",
       "\n",
       "                            TTCTACATCAGTGTTG-w1118_15d_r1  \\\n",
       "symbol                                                      \n",
       "mamo                                             3.906891   \n",
       "pros                                             2.000000   \n",
       "CG32264                                          1.000000   \n",
       "alphagamma-element:CR32865                       1.584963   \n",
       "Rbp6                                             2.807355   \n",
       "\n",
       "                            AAGTCTGTCTGGTTCC-w1118_30d_r1  \\\n",
       "symbol                                                      \n",
       "mamo                                             4.700440   \n",
       "pros                                             2.807355   \n",
       "CG32264                                          2.321928   \n",
       "alphagamma-element:CR32865                       0.000000   \n",
       "Rbp6                                             2.321928   \n",
       "\n",
       "                            ACATACGTCGGATGGA-w1118_30d_r1  \\\n",
       "symbol                                                      \n",
       "mamo                                             2.321928   \n",
       "pros                                             2.000000   \n",
       "CG32264                                          1.000000   \n",
       "alphagamma-element:CR32865                       0.000000   \n",
       "Rbp6                                             1.000000   \n",
       "\n",
       "                            GAAATGACAAGACACG-w1118_30d_r1  \n",
       "symbol                                                     \n",
       "mamo                                             5.247928  \n",
       "pros                                             3.169925  \n",
       "CG32264                                          2.000000  \n",
       "alphagamma-element:CR32865                       0.000000  \n",
       "Rbp6                                             2.584963  \n",
       "\n",
       "[5 rows x 2848 columns]"
      ]
     },
     "execution_count": 33,
     "metadata": {},
     "output_type": "execute_result"
    }
   ],
   "source": [
    "f_df.head()"
   ]
  },
  {
   "cell_type": "code",
   "execution_count": 36,
   "metadata": {},
   "outputs": [
    {
     "data": {
      "text/plain": [
       "(193, 2848)"
      ]
     },
     "execution_count": 36,
     "metadata": {},
     "output_type": "execute_result"
    }
   ],
   "source": [
    "f_df.shape"
   ]
  },
  {
   "cell_type": "code",
   "execution_count": 34,
   "metadata": {},
   "outputs": [],
   "source": [
    "# Check to make sure each gene is present in at least 3 cells\n",
    "def check_min_num_cells(row):\n",
    "    num_pos = 0\n",
    "    for gene_count in row:\n",
    "        if gene_count > 0:\n",
    "            num_pos += 1\n",
    "            if num_pos >= 3:\n",
    "                return True\n",
    "    return False\n",
    "   \n",
    "\n",
    "min_num_cells = f_df.apply(check_min_num_cells, axis=1)\n",
    "f_df = f_df[min_num_cells]"
   ]
  },
  {
   "cell_type": "code",
   "execution_count": 35,
   "metadata": {},
   "outputs": [
    {
     "data": {
      "text/plain": [
       "(193, 2848)"
      ]
     },
     "execution_count": 35,
     "metadata": {},
     "output_type": "execute_result"
    }
   ],
   "source": [
    "f_df.shape"
   ]
  },
  {
   "cell_type": "code",
   "execution_count": 45,
   "metadata": {},
   "outputs": [],
   "source": [
    "# load up metadata that corresponds to full df\n",
    "metadata = pd.read_csv(\"../data/02_filtered_kenyon_cells/metadata_kenyon_cells.csv\")\n",
    "metadata = metadata.set_index(\"CellID\")"
   ]
  },
  {
   "cell_type": "code",
   "execution_count": null,
   "metadata": {},
   "outputs": [
    {
     "name": "stdout",
     "output_type": "stream",
     "text": [
      "[t-SNE] Computed conditional probabilities for sample 1000 / 2848\n",
      "[t-SNE] Computed conditional probabilities for sample 2000 / 2848\n",
      "[t-SNE] Computed conditional probabilities for sample 2848 / 2848\n",
      "[t-SNE] Mean sigma: 0.090996\n",
      "[t-SNE] Iteration 50: error = 21.8934857, gradient norm = 0.0296051 (50 iterations in 15.246s)\n",
      "[t-SNE] Iteration 100: error = 20.9777141, gradient norm = 0.0071826 (50 iterations in 14.751s)\n",
      "[t-SNE] Iteration 150: error = 20.7919601, gradient norm = 0.0051248 (50 iterations in 14.786s)\n",
      "[t-SNE] Iteration 200: error = 20.7025968, gradient norm = 0.0060609 (50 iterations in 19.596s)\n",
      "[t-SNE] Iteration 250: error = 20.6529200, gradient norm = 0.0094798 (50 iterations in 15.025s)\n",
      "[t-SNE] KL divergence after 250 iterations with early exaggeration: 20.652920\n",
      "[t-SNE] Iteration 300: error = 2.6697218, gradient norm = 0.0012354 (50 iterations in 14.999s)\n",
      "[t-SNE] Iteration 350: error = 2.4121419, gradient norm = 0.0005695 (50 iterations in 14.979s)\n",
      "[t-SNE] Iteration 400: error = 2.3025130, gradient norm = 0.0004019 (50 iterations in 14.799s)\n",
      "[t-SNE] Iteration 450: error = 2.2404362, gradient norm = 0.0002799 (50 iterations in 14.572s)\n",
      "[t-SNE] Iteration 500: error = 2.1997729, gradient norm = 0.0002238 (50 iterations in 14.578s)\n"
     ]
    }
   ],
   "source": [
    "# Calculate TSNE\n",
    "reload(sct)\n",
    "from sklearn.manifold import TSNE\n",
    "myTSNE = sct.TSNE(f_df, df, metadata)\n",
    "myTSNE.calc_TSNE(perplexity=10, learning_rate=250, early_exaggeration=4.0, method=\"exact\", random_state=1)"
   ]
  },
  {
   "cell_type": "code",
   "execution_count": null,
   "metadata": {},
   "outputs": [],
   "source": []
  }
 ],
 "metadata": {
  "kernelspec": {
   "display_name": "Python 2",
   "language": "python",
   "name": "python2"
  },
  "language_info": {
   "codemirror_mode": {
    "name": "ipython",
    "version": 2
   },
   "file_extension": ".py",
   "mimetype": "text/x-python",
   "name": "python",
   "nbconvert_exporter": "python",
   "pygments_lexer": "ipython2",
   "version": "2.7.15"
  }
 },
 "nbformat": 4,
 "nbformat_minor": 2
}
