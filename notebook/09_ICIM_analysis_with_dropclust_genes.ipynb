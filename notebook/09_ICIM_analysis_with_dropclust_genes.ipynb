{
 "cells": [
  {
   "cell_type": "code",
   "execution_count": 2,
   "metadata": {},
   "outputs": [],
   "source": [
    "import pandas as pd\n",
    "import numpy as np\n",
    "import sys\n",
    "import hdbscan"
   ]
  },
  {
   "cell_type": "code",
   "execution_count": 3,
   "metadata": {},
   "outputs": [],
   "source": [
    "# Load up code to run ICIM\n",
    "# Available from : https://github.com/felixhorns/FlyPN\n",
    "sys.path.append(\"../code/ICIM\")\n",
    "import sct\n",
    "reload(sct)\n",
    "# Used because of nature of ICIM library\n",
    "pd.options.mode.chained_assignment = None  # default='warn'"
   ]
  },
  {
   "cell_type": "code",
   "execution_count": 4,
   "metadata": {},
   "outputs": [],
   "source": [
    "dc_genes = pd.read_csv(\"../data/07_dropclust_data/dropclust_pca_genes.csv\", header=None)\n",
    "dc_genes.columns = ['symbol']\n",
    "# Remove Hsp's"
   ]
  },
  {
   "cell_type": "code",
   "execution_count": 5,
   "metadata": {},
   "outputs": [],
   "source": [
    "dc_genes = dc_genes[~dc_genes.symbol.str.contains('Hsp')]"
   ]
  },
  {
   "cell_type": "code",
   "execution_count": 6,
   "metadata": {},
   "outputs": [],
   "source": [
    "dc_genes = list(dc_genes.symbol)"
   ]
  },
  {
   "cell_type": "code",
   "execution_count": 7,
   "metadata": {},
   "outputs": [],
   "source": [
    "# Set up to pull out the list of genes in the pruned expression table\n",
    "df = pd.read_csv(\"../data/02_filtered_kenyon_cells/CLEAN_LOG2TRANSFORM_kenyon_cells.csv\", index_col='symbol')"
   ]
  },
  {
   "cell_type": "code",
   "execution_count": 8,
   "metadata": {},
   "outputs": [
    {
     "data": {
      "text/plain": [
       "(17473, 2848)"
      ]
     },
     "execution_count": 8,
     "metadata": {},
     "output_type": "execute_result"
    }
   ],
   "source": [
    "df.shape"
   ]
  },
  {
   "cell_type": "code",
   "execution_count": 9,
   "metadata": {},
   "outputs": [
    {
     "name": "stdout",
     "output_type": "stream",
     "text": [
      "Shape of df with nan index : (1, 2848)\n",
      "total sum of expression values : 0.0\n",
      "drop row\n"
     ]
    }
   ],
   "source": [
    "# ended up with a random row nan whose entire row is 0 counts - FAKE GENE\n",
    "print('Shape of df with nan index : ' + str(df[df.index.isna()].shape))\n",
    "print('total sum of expression values : ' + str(sum(df[df.index.isna()].iloc[0])))\n",
    "print('drop row')\n",
    "df = df[~df.index.isna()]"
   ]
  },
  {
   "cell_type": "code",
   "execution_count": 10,
   "metadata": {},
   "outputs": [
    {
     "data": {
      "text/plain": [
       "(17472, 2848)"
      ]
     },
     "execution_count": 10,
     "metadata": {},
     "output_type": "execute_result"
    }
   ],
   "source": [
    "df.shape"
   ]
  },
  {
   "cell_type": "code",
   "execution_count": 11,
   "metadata": {},
   "outputs": [],
   "source": [
    "# Generate a filtered df based on these genes\n",
    "f_df = df.copy(deep=True)\n",
    "f_df = f_df.loc[dc_genes]"
   ]
  },
  {
   "cell_type": "code",
   "execution_count": 12,
   "metadata": {},
   "outputs": [
    {
     "data": {
      "text/html": [
       "<div>\n",
       "<style scoped>\n",
       "    .dataframe tbody tr th:only-of-type {\n",
       "        vertical-align: middle;\n",
       "    }\n",
       "\n",
       "    .dataframe tbody tr th {\n",
       "        vertical-align: top;\n",
       "    }\n",
       "\n",
       "    .dataframe thead th {\n",
       "        text-align: right;\n",
       "    }\n",
       "</style>\n",
       "<table border=\"1\" class=\"dataframe\">\n",
       "  <thead>\n",
       "    <tr style=\"text-align: right;\">\n",
       "      <th></th>\n",
       "      <th>ACATACGAGGGCTTCC-DGRP-551_0d_r1</th>\n",
       "      <th>ACCCACTTCACTCTTA-DGRP-551_0d_r1</th>\n",
       "      <th>ACCGTAAAGATAGTCA-DGRP-551_0d_r1</th>\n",
       "      <th>ACTTACTAGTGGTAAT-DGRP-551_0d_r1</th>\n",
       "      <th>ACTTGTTCATGGTTGT-DGRP-551_0d_r1</th>\n",
       "      <th>ACTTTCATCAATAAGG-DGRP-551_0d_r1</th>\n",
       "      <th>AGATCTGCAACAACCT-DGRP-551_0d_r1</th>\n",
       "      <th>AGATCTGTCTACTCAT-DGRP-551_0d_r1</th>\n",
       "      <th>AGCGGTCCATTTCACT-DGRP-551_0d_r1</th>\n",
       "      <th>AGCTCTCGTTTGACTG-DGRP-551_0d_r1</th>\n",
       "      <th>...</th>\n",
       "      <th>GGCAATTCATGGATGG-w1118_15d_r1</th>\n",
       "      <th>GTCCTCAGTTGCGCAC-w1118_15d_r1</th>\n",
       "      <th>GTGCAGCGTACCGTAT-w1118_15d_r1</th>\n",
       "      <th>TATGCCCTCTATGTGG-w1118_15d_r1</th>\n",
       "      <th>TCATTACAGAGGTTGC-w1118_15d_r1</th>\n",
       "      <th>TCGAGGCAGCTATGCT-w1118_15d_r1</th>\n",
       "      <th>TTCTACATCAGTGTTG-w1118_15d_r1</th>\n",
       "      <th>AAGTCTGTCTGGTTCC-w1118_30d_r1</th>\n",
       "      <th>ACATACGTCGGATGGA-w1118_30d_r1</th>\n",
       "      <th>GAAATGACAAGACACG-w1118_30d_r1</th>\n",
       "    </tr>\n",
       "    <tr>\n",
       "      <th>symbol</th>\n",
       "      <th></th>\n",
       "      <th></th>\n",
       "      <th></th>\n",
       "      <th></th>\n",
       "      <th></th>\n",
       "      <th></th>\n",
       "      <th></th>\n",
       "      <th></th>\n",
       "      <th></th>\n",
       "      <th></th>\n",
       "      <th></th>\n",
       "      <th></th>\n",
       "      <th></th>\n",
       "      <th></th>\n",
       "      <th></th>\n",
       "      <th></th>\n",
       "      <th></th>\n",
       "      <th></th>\n",
       "      <th></th>\n",
       "      <th></th>\n",
       "      <th></th>\n",
       "    </tr>\n",
       "  </thead>\n",
       "  <tbody>\n",
       "    <tr>\n",
       "      <th>mamo</th>\n",
       "      <td>2.000000</td>\n",
       "      <td>4.392317</td>\n",
       "      <td>0.0</td>\n",
       "      <td>3.906891</td>\n",
       "      <td>2.321928</td>\n",
       "      <td>4.087463</td>\n",
       "      <td>4.523562</td>\n",
       "      <td>4.857981</td>\n",
       "      <td>1.000000</td>\n",
       "      <td>3.321928</td>\n",
       "      <td>...</td>\n",
       "      <td>1.584963</td>\n",
       "      <td>3.700440</td>\n",
       "      <td>0.000000</td>\n",
       "      <td>2.321928</td>\n",
       "      <td>2.807355</td>\n",
       "      <td>2.321928</td>\n",
       "      <td>3.906891</td>\n",
       "      <td>4.700440</td>\n",
       "      <td>2.321928</td>\n",
       "      <td>5.247928</td>\n",
       "    </tr>\n",
       "    <tr>\n",
       "      <th>pros</th>\n",
       "      <td>1.584963</td>\n",
       "      <td>3.906891</td>\n",
       "      <td>5.0</td>\n",
       "      <td>3.584963</td>\n",
       "      <td>1.584963</td>\n",
       "      <td>2.807355</td>\n",
       "      <td>3.700440</td>\n",
       "      <td>1.584963</td>\n",
       "      <td>0.000000</td>\n",
       "      <td>2.584963</td>\n",
       "      <td>...</td>\n",
       "      <td>1.000000</td>\n",
       "      <td>2.807355</td>\n",
       "      <td>4.392317</td>\n",
       "      <td>2.584963</td>\n",
       "      <td>3.321928</td>\n",
       "      <td>2.321928</td>\n",
       "      <td>2.000000</td>\n",
       "      <td>2.807355</td>\n",
       "      <td>2.000000</td>\n",
       "      <td>3.169925</td>\n",
       "    </tr>\n",
       "    <tr>\n",
       "      <th>CG32264</th>\n",
       "      <td>1.000000</td>\n",
       "      <td>1.000000</td>\n",
       "      <td>2.0</td>\n",
       "      <td>1.000000</td>\n",
       "      <td>0.000000</td>\n",
       "      <td>1.584963</td>\n",
       "      <td>2.000000</td>\n",
       "      <td>2.584963</td>\n",
       "      <td>2.000000</td>\n",
       "      <td>1.000000</td>\n",
       "      <td>...</td>\n",
       "      <td>1.584963</td>\n",
       "      <td>0.000000</td>\n",
       "      <td>2.000000</td>\n",
       "      <td>1.000000</td>\n",
       "      <td>0.000000</td>\n",
       "      <td>0.000000</td>\n",
       "      <td>1.000000</td>\n",
       "      <td>2.321928</td>\n",
       "      <td>1.000000</td>\n",
       "      <td>2.000000</td>\n",
       "    </tr>\n",
       "    <tr>\n",
       "      <th>alphagamma-element:CR32865</th>\n",
       "      <td>0.000000</td>\n",
       "      <td>0.000000</td>\n",
       "      <td>0.0</td>\n",
       "      <td>0.000000</td>\n",
       "      <td>0.000000</td>\n",
       "      <td>0.000000</td>\n",
       "      <td>0.000000</td>\n",
       "      <td>0.000000</td>\n",
       "      <td>0.000000</td>\n",
       "      <td>0.000000</td>\n",
       "      <td>...</td>\n",
       "      <td>0.000000</td>\n",
       "      <td>0.000000</td>\n",
       "      <td>0.000000</td>\n",
       "      <td>0.000000</td>\n",
       "      <td>0.000000</td>\n",
       "      <td>0.000000</td>\n",
       "      <td>1.584963</td>\n",
       "      <td>0.000000</td>\n",
       "      <td>0.000000</td>\n",
       "      <td>0.000000</td>\n",
       "    </tr>\n",
       "    <tr>\n",
       "      <th>Rbp6</th>\n",
       "      <td>3.321928</td>\n",
       "      <td>3.700440</td>\n",
       "      <td>0.0</td>\n",
       "      <td>2.807355</td>\n",
       "      <td>3.459432</td>\n",
       "      <td>2.321928</td>\n",
       "      <td>2.807355</td>\n",
       "      <td>4.169925</td>\n",
       "      <td>2.807355</td>\n",
       "      <td>2.000000</td>\n",
       "      <td>...</td>\n",
       "      <td>2.000000</td>\n",
       "      <td>0.000000</td>\n",
       "      <td>0.000000</td>\n",
       "      <td>3.459432</td>\n",
       "      <td>0.000000</td>\n",
       "      <td>1.584963</td>\n",
       "      <td>2.807355</td>\n",
       "      <td>2.321928</td>\n",
       "      <td>1.000000</td>\n",
       "      <td>2.584963</td>\n",
       "    </tr>\n",
       "  </tbody>\n",
       "</table>\n",
       "<p>5 rows × 2848 columns</p>\n",
       "</div>"
      ],
      "text/plain": [
       "                            ACATACGAGGGCTTCC-DGRP-551_0d_r1  \\\n",
       "symbol                                                        \n",
       "mamo                                               2.000000   \n",
       "pros                                               1.584963   \n",
       "CG32264                                            1.000000   \n",
       "alphagamma-element:CR32865                         0.000000   \n",
       "Rbp6                                               3.321928   \n",
       "\n",
       "                            ACCCACTTCACTCTTA-DGRP-551_0d_r1  \\\n",
       "symbol                                                        \n",
       "mamo                                               4.392317   \n",
       "pros                                               3.906891   \n",
       "CG32264                                            1.000000   \n",
       "alphagamma-element:CR32865                         0.000000   \n",
       "Rbp6                                               3.700440   \n",
       "\n",
       "                            ACCGTAAAGATAGTCA-DGRP-551_0d_r1  \\\n",
       "symbol                                                        \n",
       "mamo                                                    0.0   \n",
       "pros                                                    5.0   \n",
       "CG32264                                                 2.0   \n",
       "alphagamma-element:CR32865                              0.0   \n",
       "Rbp6                                                    0.0   \n",
       "\n",
       "                            ACTTACTAGTGGTAAT-DGRP-551_0d_r1  \\\n",
       "symbol                                                        \n",
       "mamo                                               3.906891   \n",
       "pros                                               3.584963   \n",
       "CG32264                                            1.000000   \n",
       "alphagamma-element:CR32865                         0.000000   \n",
       "Rbp6                                               2.807355   \n",
       "\n",
       "                            ACTTGTTCATGGTTGT-DGRP-551_0d_r1  \\\n",
       "symbol                                                        \n",
       "mamo                                               2.321928   \n",
       "pros                                               1.584963   \n",
       "CG32264                                            0.000000   \n",
       "alphagamma-element:CR32865                         0.000000   \n",
       "Rbp6                                               3.459432   \n",
       "\n",
       "                            ACTTTCATCAATAAGG-DGRP-551_0d_r1  \\\n",
       "symbol                                                        \n",
       "mamo                                               4.087463   \n",
       "pros                                               2.807355   \n",
       "CG32264                                            1.584963   \n",
       "alphagamma-element:CR32865                         0.000000   \n",
       "Rbp6                                               2.321928   \n",
       "\n",
       "                            AGATCTGCAACAACCT-DGRP-551_0d_r1  \\\n",
       "symbol                                                        \n",
       "mamo                                               4.523562   \n",
       "pros                                               3.700440   \n",
       "CG32264                                            2.000000   \n",
       "alphagamma-element:CR32865                         0.000000   \n",
       "Rbp6                                               2.807355   \n",
       "\n",
       "                            AGATCTGTCTACTCAT-DGRP-551_0d_r1  \\\n",
       "symbol                                                        \n",
       "mamo                                               4.857981   \n",
       "pros                                               1.584963   \n",
       "CG32264                                            2.584963   \n",
       "alphagamma-element:CR32865                         0.000000   \n",
       "Rbp6                                               4.169925   \n",
       "\n",
       "                            AGCGGTCCATTTCACT-DGRP-551_0d_r1  \\\n",
       "symbol                                                        \n",
       "mamo                                               1.000000   \n",
       "pros                                               0.000000   \n",
       "CG32264                                            2.000000   \n",
       "alphagamma-element:CR32865                         0.000000   \n",
       "Rbp6                                               2.807355   \n",
       "\n",
       "                            AGCTCTCGTTTGACTG-DGRP-551_0d_r1  \\\n",
       "symbol                                                        \n",
       "mamo                                               3.321928   \n",
       "pros                                               2.584963   \n",
       "CG32264                                            1.000000   \n",
       "alphagamma-element:CR32865                         0.000000   \n",
       "Rbp6                                               2.000000   \n",
       "\n",
       "                                        ...                \\\n",
       "symbol                                  ...                 \n",
       "mamo                                    ...                 \n",
       "pros                                    ...                 \n",
       "CG32264                                 ...                 \n",
       "alphagamma-element:CR32865              ...                 \n",
       "Rbp6                                    ...                 \n",
       "\n",
       "                            GGCAATTCATGGATGG-w1118_15d_r1  \\\n",
       "symbol                                                      \n",
       "mamo                                             1.584963   \n",
       "pros                                             1.000000   \n",
       "CG32264                                          1.584963   \n",
       "alphagamma-element:CR32865                       0.000000   \n",
       "Rbp6                                             2.000000   \n",
       "\n",
       "                            GTCCTCAGTTGCGCAC-w1118_15d_r1  \\\n",
       "symbol                                                      \n",
       "mamo                                             3.700440   \n",
       "pros                                             2.807355   \n",
       "CG32264                                          0.000000   \n",
       "alphagamma-element:CR32865                       0.000000   \n",
       "Rbp6                                             0.000000   \n",
       "\n",
       "                            GTGCAGCGTACCGTAT-w1118_15d_r1  \\\n",
       "symbol                                                      \n",
       "mamo                                             0.000000   \n",
       "pros                                             4.392317   \n",
       "CG32264                                          2.000000   \n",
       "alphagamma-element:CR32865                       0.000000   \n",
       "Rbp6                                             0.000000   \n",
       "\n",
       "                            TATGCCCTCTATGTGG-w1118_15d_r1  \\\n",
       "symbol                                                      \n",
       "mamo                                             2.321928   \n",
       "pros                                             2.584963   \n",
       "CG32264                                          1.000000   \n",
       "alphagamma-element:CR32865                       0.000000   \n",
       "Rbp6                                             3.459432   \n",
       "\n",
       "                            TCATTACAGAGGTTGC-w1118_15d_r1  \\\n",
       "symbol                                                      \n",
       "mamo                                             2.807355   \n",
       "pros                                             3.321928   \n",
       "CG32264                                          0.000000   \n",
       "alphagamma-element:CR32865                       0.000000   \n",
       "Rbp6                                             0.000000   \n",
       "\n",
       "                            TCGAGGCAGCTATGCT-w1118_15d_r1  \\\n",
       "symbol                                                      \n",
       "mamo                                             2.321928   \n",
       "pros                                             2.321928   \n",
       "CG32264                                          0.000000   \n",
       "alphagamma-element:CR32865                       0.000000   \n",
       "Rbp6                                             1.584963   \n",
       "\n",
       "                            TTCTACATCAGTGTTG-w1118_15d_r1  \\\n",
       "symbol                                                      \n",
       "mamo                                             3.906891   \n",
       "pros                                             2.000000   \n",
       "CG32264                                          1.000000   \n",
       "alphagamma-element:CR32865                       1.584963   \n",
       "Rbp6                                             2.807355   \n",
       "\n",
       "                            AAGTCTGTCTGGTTCC-w1118_30d_r1  \\\n",
       "symbol                                                      \n",
       "mamo                                             4.700440   \n",
       "pros                                             2.807355   \n",
       "CG32264                                          2.321928   \n",
       "alphagamma-element:CR32865                       0.000000   \n",
       "Rbp6                                             2.321928   \n",
       "\n",
       "                            ACATACGTCGGATGGA-w1118_30d_r1  \\\n",
       "symbol                                                      \n",
       "mamo                                             2.321928   \n",
       "pros                                             2.000000   \n",
       "CG32264                                          1.000000   \n",
       "alphagamma-element:CR32865                       0.000000   \n",
       "Rbp6                                             1.000000   \n",
       "\n",
       "                            GAAATGACAAGACACG-w1118_30d_r1  \n",
       "symbol                                                     \n",
       "mamo                                             5.247928  \n",
       "pros                                             3.169925  \n",
       "CG32264                                          2.000000  \n",
       "alphagamma-element:CR32865                       0.000000  \n",
       "Rbp6                                             2.584963  \n",
       "\n",
       "[5 rows x 2848 columns]"
      ]
     },
     "execution_count": 12,
     "metadata": {},
     "output_type": "execute_result"
    }
   ],
   "source": [
    "f_df.head()"
   ]
  },
  {
   "cell_type": "code",
   "execution_count": 13,
   "metadata": {},
   "outputs": [
    {
     "data": {
      "text/plain": [
       "(193, 2848)"
      ]
     },
     "execution_count": 13,
     "metadata": {},
     "output_type": "execute_result"
    }
   ],
   "source": [
    "f_df.shape"
   ]
  },
  {
   "cell_type": "code",
   "execution_count": 14,
   "metadata": {},
   "outputs": [],
   "source": [
    "# Check to make sure each gene is present in at least 3 cells\n",
    "def check_min_num_cells(row):\n",
    "    num_pos = 0\n",
    "    for gene_count in row:\n",
    "        if gene_count > 0:\n",
    "            num_pos += 1\n",
    "            if num_pos >= 3:\n",
    "                return True\n",
    "    return False\n",
    "   \n",
    "\n",
    "min_num_cells = f_df.apply(check_min_num_cells, axis=1)\n",
    "f_df = f_df[min_num_cells]"
   ]
  },
  {
   "cell_type": "code",
   "execution_count": 15,
   "metadata": {},
   "outputs": [
    {
     "data": {
      "text/plain": [
       "(193, 2848)"
      ]
     },
     "execution_count": 15,
     "metadata": {},
     "output_type": "execute_result"
    }
   ],
   "source": [
    "f_df.shape"
   ]
  },
  {
   "cell_type": "code",
   "execution_count": 16,
   "metadata": {},
   "outputs": [],
   "source": [
    "# load up metadata that corresponds to full df\n",
    "metadata = pd.read_csv(\"../data/02_filtered_kenyon_cells/metadata_kenyon_cells.csv\")\n",
    "metadata = metadata.set_index(\"CellID\")"
   ]
  },
  {
   "cell_type": "code",
   "execution_count": 17,
   "metadata": {},
   "outputs": [
    {
     "name": "stdout",
     "output_type": "stream",
     "text": [
      "[t-SNE] Computed conditional probabilities for sample 1000 / 2848\n",
      "[t-SNE] Computed conditional probabilities for sample 2000 / 2848\n",
      "[t-SNE] Computed conditional probabilities for sample 2848 / 2848\n",
      "[t-SNE] Mean sigma: 0.109567\n",
      "[t-SNE] Iteration 50: error = 18.0508210, gradient norm = 0.0074234 (50 iterations in 14.997s)\n",
      "[t-SNE] Iteration 100: error = 17.6930247, gradient norm = 0.0067211 (50 iterations in 14.788s)\n",
      "[t-SNE] Iteration 150: error = 17.6057971, gradient norm = 0.0083871 (50 iterations in 15.655s)\n",
      "[t-SNE] Iteration 200: error = 17.5672345, gradient norm = 0.0068668 (50 iterations in 15.170s)\n",
      "[t-SNE] Iteration 250: error = 17.5437970, gradient norm = 0.0050587 (50 iterations in 15.375s)\n",
      "[t-SNE] KL divergence after 250 iterations with early exaggeration: 17.543797\n",
      "[t-SNE] Iteration 300: error = 2.1266124, gradient norm = 0.0007879 (50 iterations in 15.265s)\n",
      "[t-SNE] Iteration 350: error = 1.9899136, gradient norm = 0.0003427 (50 iterations in 15.568s)\n",
      "[t-SNE] Iteration 400: error = 1.9358038, gradient norm = 0.0002106 (50 iterations in 15.061s)\n",
      "[t-SNE] Iteration 450: error = 1.9067034, gradient norm = 0.0001583 (50 iterations in 15.004s)\n",
      "[t-SNE] Iteration 500: error = 1.8882495, gradient norm = 0.0001285 (50 iterations in 15.174s)\n",
      "[t-SNE] Iteration 550: error = 1.8754018, gradient norm = 0.0001004 (50 iterations in 14.876s)\n",
      "[t-SNE] Iteration 600: error = 1.8659250, gradient norm = 0.0000831 (50 iterations in 14.946s)\n",
      "[t-SNE] Iteration 650: error = 1.8586309, gradient norm = 0.0000738 (50 iterations in 14.872s)\n",
      "[t-SNE] Iteration 700: error = 1.8528123, gradient norm = 0.0000652 (50 iterations in 14.860s)\n",
      "[t-SNE] Iteration 750: error = 1.8480742, gradient norm = 0.0000588 (50 iterations in 14.825s)\n",
      "[t-SNE] Iteration 800: error = 1.8441925, gradient norm = 0.0000504 (50 iterations in 14.860s)\n",
      "[t-SNE] Iteration 850: error = 1.8409129, gradient norm = 0.0000460 (50 iterations in 14.852s)\n",
      "[t-SNE] Iteration 900: error = 1.8380930, gradient norm = 0.0000430 (50 iterations in 14.887s)\n",
      "[t-SNE] Iteration 950: error = 1.8356378, gradient norm = 0.0000395 (50 iterations in 14.927s)\n",
      "[t-SNE] Iteration 1000: error = 1.8335228, gradient norm = 0.0000361 (50 iterations in 14.875s)\n",
      "[t-SNE] Error after 1000 iterations: 1.833523\n"
     ]
    }
   ],
   "source": [
    "# Calculate TSNE\n",
    "reload(sct)\n",
    "from sklearn.manifold import TSNE\n",
    "myTSNE = sct.TSNE(f_df, df, metadata)\n",
    "myTSNE.calc_TSNE(perplexity=30, learning_rate=250, early_exaggeration=4.0, method=\"exact\", random_state=1)"
   ]
  },
  {
   "cell_type": "code",
   "execution_count": 18,
   "metadata": {},
   "outputs": [],
   "source": [
    "# Using HDBSCAN to call clusters automatically, generate metadata for them\n",
    "clusterer = hdbscan.HDBSCAN(min_cluster_size=30, min_samples=3).fit(myTSNE.X_tsne)\n",
    "labels_HDBSCAN = clusterer.labels_"
   ]
  },
  {
   "cell_type": "code",
   "execution_count": 19,
   "metadata": {},
   "outputs": [
    {
     "name": "stdout",
     "output_type": "stream",
     "text": [
      "Clusters 4\n"
     ]
    }
   ],
   "source": [
    "print \"Clusters\", max(labels_HDBSCAN)+1"
   ]
  },
  {
   "cell_type": "code",
   "execution_count": 20,
   "metadata": {},
   "outputs": [],
   "source": [
    "zero_axis = myTSNE.X_tsne[:,0]\n",
    "one_axis = myTSNE.X_tsne[:,1]\n",
    "myTSNE.df_libs['x'] = zero_axis\n",
    "myTSNE.df_libs['y'] = one_axis\n",
    "myTSNE.df_libs['hdb_clust'] = labels_HDBSCAN"
   ]
  },
  {
   "cell_type": "code",
   "execution_count": 21,
   "metadata": {},
   "outputs": [],
   "source": [
    "def gen_kc_type(row):\n",
    "    if int(row.cell_type_id) == 8:\n",
    "        return 'G-KC'\n",
    "    elif int(row.cell_type_id) == 22:\n",
    "        return 'a/b-KC'\n",
    "    elif int(row.cell_type_id) == 28:\n",
    "        return \"a'/b'-KC\"\n",
    "    \n",
    "myTSNE.df_libs['subtype'] = myTSNE.df_libs.apply(gen_kc_type, axis=1)"
   ]
  },
  {
   "cell_type": "code",
   "execution_count": 32,
   "metadata": {},
   "outputs": [],
   "source": [
    "icim_data = pd.read_csv(\"../data/03_ICIM_analysis/KC_ICIM_TSNE_data.csv\")\n",
    "to_add = icim_data.set_index('CellID')['hdb_clust'].to_frame(name='icim_clust')"
   ]
  },
  {
   "cell_type": "code",
   "execution_count": 34,
   "metadata": {},
   "outputs": [],
   "source": [
    "myTSNE.df_libs = myTSNE.df_libs.join(to_add)"
   ]
  },
  {
   "cell_type": "code",
   "execution_count": 35,
   "metadata": {},
   "outputs": [],
   "source": [
    "myTSNE.df_libs.to_csv(\"../data/07_dropclust_data/dc_gene_TSNE.csv\")"
   ]
  }
 ],
 "metadata": {
  "kernelspec": {
   "display_name": "Python 2",
   "language": "python",
   "name": "python2"
  },
  "language_info": {
   "codemirror_mode": {
    "name": "ipython",
    "version": 2
   },
   "file_extension": ".py",
   "mimetype": "text/x-python",
   "name": "python",
   "nbconvert_exporter": "python",
   "pygments_lexer": "ipython2",
   "version": "2.7.15"
  }
 },
 "nbformat": 4,
 "nbformat_minor": 2
}
