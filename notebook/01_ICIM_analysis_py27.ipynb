{
 "cells": [
  {
   "cell_type": "code",
   "execution_count": 9,
   "metadata": {},
   "outputs": [],
   "source": [
    "import sys\n",
    "import pandas as pd\n",
    "import numpy as np\n",
    "import hdbscan"
   ]
  },
  {
   "cell_type": "code",
   "execution_count": 10,
   "metadata": {},
   "outputs": [],
   "source": [
    "# Load up code to run ICIM\n",
    "# Available from : https://github.com/felixhorns/FlyPN\n",
    "sys.path.append(\"../code/ICIM\")\n",
    "import sct\n",
    "reload(sct)\n",
    "# Used because of nature of ICIM library\n",
    "pd.options.mode.chained_assignment = None  # default='warn'"
   ]
  },
  {
   "cell_type": "code",
   "execution_count": 11,
   "metadata": {},
   "outputs": [],
   "source": [
    "# The input for ICIM is log2 transformed data in practice\n",
    "# See manuscript, github\n",
    "df = pd.read_csv(\"../data/02_filtered_kenyon_cells/CLEAN_LOG2TRANSFORM_kenyon_cells.csv\")\n",
    "df = df.set_index(\"symbol\")"
   ]
  },
  {
   "cell_type": "code",
   "execution_count": 12,
   "metadata": {},
   "outputs": [],
   "source": [
    "# Load up metadata associated with these cells\n",
    "metadata = pd.read_csv(\"../data/02_filtered_kenyon_cells/metadata_kenyon_cells.csv\")\n",
    "metadata = metadata.set_index(\"CellID\")"
   ]
  },
  {
   "cell_type": "code",
   "execution_count": 13,
   "metadata": {},
   "outputs": [
    {
     "data": {
      "text/html": [
       "<div>\n",
       "<style scoped>\n",
       "    .dataframe tbody tr th:only-of-type {\n",
       "        vertical-align: middle;\n",
       "    }\n",
       "\n",
       "    .dataframe tbody tr th {\n",
       "        vertical-align: top;\n",
       "    }\n",
       "\n",
       "    .dataframe thead th {\n",
       "        text-align: right;\n",
       "    }\n",
       "</style>\n",
       "<table border=\"1\" class=\"dataframe\">\n",
       "  <thead>\n",
       "    <tr style=\"text-align: right;\">\n",
       "      <th></th>\n",
       "      <th>Age</th>\n",
       "      <th>Gender</th>\n",
       "      <th>Genotype</th>\n",
       "      <th>Replicate</th>\n",
       "      <th>nGene</th>\n",
       "      <th>nUMI</th>\n",
       "      <th>cell_type_id</th>\n",
       "      <th>is_kc</th>\n",
       "    </tr>\n",
       "    <tr>\n",
       "      <th>CellID</th>\n",
       "      <th></th>\n",
       "      <th></th>\n",
       "      <th></th>\n",
       "      <th></th>\n",
       "      <th></th>\n",
       "      <th></th>\n",
       "      <th></th>\n",
       "      <th></th>\n",
       "    </tr>\n",
       "  </thead>\n",
       "  <tbody>\n",
       "    <tr>\n",
       "      <th>ACATACGAGGGCTTCC-DGRP-551_0d_r1</th>\n",
       "      <td>0</td>\n",
       "      <td>Female</td>\n",
       "      <td>DGRP-551</td>\n",
       "      <td>DGRP-551_0d_Rep1</td>\n",
       "      <td>1328</td>\n",
       "      <td>3340.0</td>\n",
       "      <td>8.0</td>\n",
       "      <td>1</td>\n",
       "    </tr>\n",
       "    <tr>\n",
       "      <th>ACCCACTTCACTCTTA-DGRP-551_0d_r1</th>\n",
       "      <td>0</td>\n",
       "      <td>Female</td>\n",
       "      <td>DGRP-551</td>\n",
       "      <td>DGRP-551_0d_Rep1</td>\n",
       "      <td>1613</td>\n",
       "      <td>4580.0</td>\n",
       "      <td>8.0</td>\n",
       "      <td>1</td>\n",
       "    </tr>\n",
       "    <tr>\n",
       "      <th>ACCGTAAAGATAGTCA-DGRP-551_0d_r1</th>\n",
       "      <td>0</td>\n",
       "      <td>Male</td>\n",
       "      <td>DGRP-551</td>\n",
       "      <td>DGRP-551_0d_Rep1</td>\n",
       "      <td>1466</td>\n",
       "      <td>4349.0</td>\n",
       "      <td>22.0</td>\n",
       "      <td>1</td>\n",
       "    </tr>\n",
       "    <tr>\n",
       "      <th>ACTTACTAGTGGTAAT-DGRP-551_0d_r1</th>\n",
       "      <td>0</td>\n",
       "      <td>Male</td>\n",
       "      <td>DGRP-551</td>\n",
       "      <td>DGRP-551_0d_Rep1</td>\n",
       "      <td>1174</td>\n",
       "      <td>2942.0</td>\n",
       "      <td>8.0</td>\n",
       "      <td>1</td>\n",
       "    </tr>\n",
       "    <tr>\n",
       "      <th>ACTTGTTCATGGTTGT-DGRP-551_0d_r1</th>\n",
       "      <td>0</td>\n",
       "      <td>Male</td>\n",
       "      <td>DGRP-551</td>\n",
       "      <td>DGRP-551_0d_Rep1</td>\n",
       "      <td>1410</td>\n",
       "      <td>3620.0</td>\n",
       "      <td>8.0</td>\n",
       "      <td>1</td>\n",
       "    </tr>\n",
       "  </tbody>\n",
       "</table>\n",
       "</div>"
      ],
      "text/plain": [
       "                                 Age  Gender  Genotype         Replicate  \\\n",
       "CellID                                                                     \n",
       "ACATACGAGGGCTTCC-DGRP-551_0d_r1    0  Female  DGRP-551  DGRP-551_0d_Rep1   \n",
       "ACCCACTTCACTCTTA-DGRP-551_0d_r1    0  Female  DGRP-551  DGRP-551_0d_Rep1   \n",
       "ACCGTAAAGATAGTCA-DGRP-551_0d_r1    0    Male  DGRP-551  DGRP-551_0d_Rep1   \n",
       "ACTTACTAGTGGTAAT-DGRP-551_0d_r1    0    Male  DGRP-551  DGRP-551_0d_Rep1   \n",
       "ACTTGTTCATGGTTGT-DGRP-551_0d_r1    0    Male  DGRP-551  DGRP-551_0d_Rep1   \n",
       "\n",
       "                                 nGene    nUMI  cell_type_id  is_kc  \n",
       "CellID                                                               \n",
       "ACATACGAGGGCTTCC-DGRP-551_0d_r1   1328  3340.0           8.0      1  \n",
       "ACCCACTTCACTCTTA-DGRP-551_0d_r1   1613  4580.0           8.0      1  \n",
       "ACCGTAAAGATAGTCA-DGRP-551_0d_r1   1466  4349.0          22.0      1  \n",
       "ACTTACTAGTGGTAAT-DGRP-551_0d_r1   1174  2942.0           8.0      1  \n",
       "ACTTGTTCATGGTTGT-DGRP-551_0d_r1   1410  3620.0           8.0      1  "
      ]
     },
     "execution_count": 13,
     "metadata": {},
     "output_type": "execute_result"
    }
   ],
   "source": [
    "metadata.head()"
   ]
  },
  {
   "cell_type": "code",
   "execution_count": 14,
   "metadata": {},
   "outputs": [],
   "source": [
    "# ICIM takes a filtered dataset as one of its arguments\n",
    "# Filtering requirements are taken from an up-to-date tutorial\n",
    "# from the hemberg lab's tutorial on seurat, to mimic the presumed\n",
    "# level of filtering used for the original seurat analsyis\n",
    "# Source https://hemberg-lab.github.io/scRNA.seq.course/seurat-chapter.html#normalization\n",
    "\n",
    "# filtered_df\n",
    "f_df = df.copy(deep=True)\n",
    "\n",
    "# seuset <- CreateSeuratObject(\n",
    "#     raw.data = counts(deng),\n",
    "#     min.cells = 3, \n",
    "#     min.genes = 200\n",
    "# )\n",
    "\n",
    "# Check to make sure each gene is present in at least 3 cells\n",
    "def check_min_num_cells(row):\n",
    "    num_pos = 0\n",
    "    for gene_count in row:\n",
    "        if gene_count > 0:\n",
    "            num_pos += 1\n",
    "            if num_pos >= 3:\n",
    "                return True\n",
    "    return False\n",
    "   \n",
    "\n",
    "min_num_cells = f_df.apply(check_min_num_cells, axis=1)\n",
    "f_df = f_df[min_num_cells]"
   ]
  },
  {
   "cell_type": "code",
   "execution_count": 15,
   "metadata": {},
   "outputs": [],
   "source": [
    "# Check to make sure each cell has at least 200 genes\n",
    "def check_min_num_genes(col):\n",
    "    num_pos = 0\n",
    "    for gene_count in col:\n",
    "        if gene_count > 0:\n",
    "            num_pos += 1\n",
    "            if num_pos >= 200:\n",
    "                return True\n",
    "    return False\n",
    "\n",
    "min_num_genes = f_df.apply(check_min_num_genes, axis=0)\n",
    "f_df = f_df.loc[:, min_num_genes]"
   ]
  },
  {
   "cell_type": "code",
   "execution_count": 16,
   "metadata": {},
   "outputs": [
    {
     "data": {
      "text/plain": [
       "(8255, 2848)"
      ]
     },
     "execution_count": 16,
     "metadata": {},
     "output_type": "execute_result"
    }
   ],
   "source": [
    "f_df.shape"
   ]
  },
  {
   "cell_type": "code",
   "execution_count": 17,
   "metadata": {},
   "outputs": [],
   "source": [
    "# Load the ICIM analysis object with associated data\n",
    "# See https://github.com/felixhorns/FlyPN/blob/master/analysis/GH146_Fig2.ipynb \n",
    "# for full featured example\n",
    "\n",
    "reload(sct)\n",
    "from scipy.cluster import hierarchy\n",
    "myICIM = sct.ICIM(f_df, df, TFs=[], CSMs=[], exclude=[], N=100,\n",
    "                  correlation_cutoff=0.5,\n",
    "                  min_hits=3,\n",
    "                  exclude_max=2,\n",
    "                  dropout_rate_low=0.3,\n",
    "                  dropout_rate_high=1.0,\n",
    "                  metric=\"correlation\",\n",
    "                  stop_condition=\"linkage_dist\",\n",
    "                  N_stop=50,\n",
    "                  linkage_dist_stop=0.2)"
   ]
  },
  {
   "cell_type": "code",
   "execution_count": 18,
   "metadata": {},
   "outputs": [
    {
     "name": "stdout",
     "output_type": "stream",
     "text": [
      "Found 23 genes\n",
      "Child populations 2845 3\n"
     ]
    },
    {
     "data": {
      "text/plain": [
       "['00']"
      ]
     },
     "execution_count": 18,
     "metadata": {},
     "output_type": "execute_result"
    }
   ],
   "source": [
    "# Run step command to iterate over first run of ICIM algo\n",
    "# QC / Status Check\n",
    "myICIM.step(\"0\", verbose=True)"
   ]
  },
  {
   "cell_type": "code",
   "execution_count": null,
   "metadata": {},
   "outputs": [],
   "source": [
    "# Run full ICIM pipeline\n",
    "myICIM.calc(verbose=True)"
   ]
  },
  {
   "cell_type": "code",
   "execution_count": 59,
   "metadata": {},
   "outputs": [
    {
     "name": "stdout",
     "output_type": "stream",
     "text": [
      "Genes found by ICIM 267\n"
     ]
    }
   ],
   "source": [
    "genes_KC_ICIM = myICIM.get_all_markers()\n",
    "print \"Genes found by ICIM\", len(genes_KC_ICIM)"
   ]
  },
  {
   "cell_type": "code",
   "execution_count": 21,
   "metadata": {},
   "outputs": [],
   "source": [
    "# with open(\"../data/03_ICIM_analysis/KC_genes_ICIM.txt\", 'w') as out:\n",
    "#     for x in genes_KC_ICIM:\n",
    "#         out.write(x + \"\\n\")\n",
    "\n",
    "genes_KC_ICIM = []\n",
    "with open(\"../data/03_ICIM_analysis/KC_genes_ICIM.txt\", 'r') as infile:\n",
    "    for line in infile:\n",
    "        genes_KC_ICIM.append(line.strip())"
   ]
  },
  {
   "cell_type": "code",
   "execution_count": 22,
   "metadata": {},
   "outputs": [
    {
     "name": "stdout",
     "output_type": "stream",
     "text": [
      "[t-SNE] Computed conditional probabilities for sample 1000 / 2848\n",
      "[t-SNE] Computed conditional probabilities for sample 2000 / 2848\n",
      "[t-SNE] Computed conditional probabilities for sample 2848 / 2848\n",
      "[t-SNE] Mean sigma: 0.100808\n",
      "[t-SNE] Iteration 50: error = 22.0726243, gradient norm = 0.0517549 (50 iterations in 14.230s)\n",
      "[t-SNE] Iteration 100: error = 20.6186237, gradient norm = 0.0479926 (50 iterations in 14.080s)\n",
      "[t-SNE] Iteration 150: error = 20.5975731, gradient norm = 0.0359180 (50 iterations in 14.772s)\n",
      "[t-SNE] Iteration 200: error = 20.4600786, gradient norm = 0.0500425 (50 iterations in 17.499s)\n",
      "[t-SNE] Iteration 250: error = 20.4023608, gradient norm = 0.0406528 (50 iterations in 15.931s)\n",
      "[t-SNE] KL divergence after 250 iterations with early exaggeration: 20.402361\n",
      "[t-SNE] Iteration 300: error = 2.6382573, gradient norm = 0.0023594 (50 iterations in 14.128s)\n",
      "[t-SNE] Iteration 350: error = 2.4133272, gradient norm = 0.0005949 (50 iterations in 15.642s)\n",
      "[t-SNE] Iteration 400: error = 2.3177319, gradient norm = 0.0003724 (50 iterations in 15.284s)\n",
      "[t-SNE] Iteration 450: error = 2.2665639, gradient norm = 0.0002739 (50 iterations in 14.999s)\n",
      "[t-SNE] Iteration 500: error = 2.2339995, gradient norm = 0.0002290 (50 iterations in 15.764s)\n",
      "[t-SNE] Iteration 550: error = 2.2112019, gradient norm = 0.0001689 (50 iterations in 15.701s)\n",
      "[t-SNE] Iteration 600: error = 2.1940920, gradient norm = 0.0001474 (50 iterations in 16.111s)\n",
      "[t-SNE] Iteration 650: error = 2.1808135, gradient norm = 0.0001311 (50 iterations in 15.438s)\n",
      "[t-SNE] Iteration 700: error = 2.1700955, gradient norm = 0.0001058 (50 iterations in 15.028s)\n",
      "[t-SNE] Iteration 750: error = 2.1612487, gradient norm = 0.0000936 (50 iterations in 15.324s)\n",
      "[t-SNE] Iteration 800: error = 2.1537875, gradient norm = 0.0000915 (50 iterations in 14.788s)\n",
      "[t-SNE] Iteration 850: error = 2.1474695, gradient norm = 0.0000779 (50 iterations in 15.053s)\n",
      "[t-SNE] Iteration 900: error = 2.1420417, gradient norm = 0.0000701 (50 iterations in 15.130s)\n",
      "[t-SNE] Iteration 950: error = 2.1372805, gradient norm = 0.0000692 (50 iterations in 14.763s)\n",
      "[t-SNE] Iteration 1000: error = 2.1331074, gradient norm = 0.0000598 (50 iterations in 16.508s)\n",
      "[t-SNE] Error after 1000 iterations: 2.133107\n"
     ]
    }
   ],
   "source": [
    "# Subset data to genes desired\n",
    "# Twice filtered df\n",
    "f2_df = f_df.loc[genes_KC_ICIM]\n",
    "\n",
    "# Calculate TSNE\n",
    "reload(sct)\n",
    "from sklearn.manifold import TSNE\n",
    "myTSNE = sct.TSNE(f2_df, df, metadata)\n",
    "myTSNE.calc_TSNE(perplexity=10, learning_rate=250, early_exaggeration=4.0, method=\"exact\", random_state=1)"
   ]
  },
  {
   "cell_type": "code",
   "execution_count": 31,
   "metadata": {},
   "outputs": [],
   "source": [
    "myTSNE.df_libs = myTSNE.df_libs.loc[myTSNE.df.columns,:]"
   ]
  },
  {
   "cell_type": "code",
   "execution_count": 32,
   "metadata": {},
   "outputs": [],
   "source": [
    "# Using HDBSCAN to call clusters automatically, generate metadata for them\n",
    "clusterer = hdbscan.HDBSCAN(min_cluster_size=30, min_samples=3).fit(myTSNE.X_tsne)\n",
    "labels_HDBSCAN = clusterer.labels_"
   ]
  },
  {
   "cell_type": "code",
   "execution_count": 33,
   "metadata": {},
   "outputs": [
    {
     "name": "stdout",
     "output_type": "stream",
     "text": [
      "Clusters 7\n"
     ]
    }
   ],
   "source": [
    "print \"Clusters\", max(labels_HDBSCAN)+1"
   ]
  },
  {
   "cell_type": "code",
   "execution_count": 34,
   "metadata": {},
   "outputs": [],
   "source": [
    "zero_axis = myTSNE.X_tsne[:,0]\n",
    "one_axis = myTSNE.X_tsne[:,1]\n",
    "myTSNE.df_libs['x'] = zero_axis\n",
    "myTSNE.df_libs['y'] = one_axis\n",
    "myTSNE.df_libs['hdb_clust'] = labels_HDBSCAN\n",
    "myTSNE.df_libs.index.name = \"CellID\""
   ]
  },
  {
   "cell_type": "code",
   "execution_count": 38,
   "metadata": {},
   "outputs": [],
   "source": [
    "def gen_kc_type(row):\n",
    "    if int(row.cell_type_id) == 8:\n",
    "        return 'G-KC'\n",
    "    elif int(row.cell_type_id) == 22:\n",
    "        return 'a/b-KC'\n",
    "    elif int(row.cell_type_id) == 28:\n",
    "        return \"a'/b'-KC\"\n",
    "    \n",
    "myTSNE.df_libs['subtype'] = myTSNE.df_libs.apply(gen_kc_type, axis=1)"
   ]
  },
  {
   "cell_type": "code",
   "execution_count": 40,
   "metadata": {},
   "outputs": [
    {
     "data": {
      "text/html": [
       "<div>\n",
       "<style scoped>\n",
       "    .dataframe tbody tr th:only-of-type {\n",
       "        vertical-align: middle;\n",
       "    }\n",
       "\n",
       "    .dataframe tbody tr th {\n",
       "        vertical-align: top;\n",
       "    }\n",
       "\n",
       "    .dataframe thead th {\n",
       "        text-align: right;\n",
       "    }\n",
       "</style>\n",
       "<table border=\"1\" class=\"dataframe\">\n",
       "  <thead>\n",
       "    <tr style=\"text-align: right;\">\n",
       "      <th></th>\n",
       "      <th>Age</th>\n",
       "      <th>Gender</th>\n",
       "      <th>Genotype</th>\n",
       "      <th>Replicate</th>\n",
       "      <th>nGene</th>\n",
       "      <th>nUMI</th>\n",
       "      <th>cell_type_id</th>\n",
       "      <th>is_kc</th>\n",
       "      <th>x</th>\n",
       "      <th>y</th>\n",
       "      <th>hdb_clust</th>\n",
       "      <th>subtype</th>\n",
       "    </tr>\n",
       "    <tr>\n",
       "      <th>CellID</th>\n",
       "      <th></th>\n",
       "      <th></th>\n",
       "      <th></th>\n",
       "      <th></th>\n",
       "      <th></th>\n",
       "      <th></th>\n",
       "      <th></th>\n",
       "      <th></th>\n",
       "      <th></th>\n",
       "      <th></th>\n",
       "      <th></th>\n",
       "      <th></th>\n",
       "    </tr>\n",
       "  </thead>\n",
       "  <tbody>\n",
       "    <tr>\n",
       "      <th>ACATACGAGGGCTTCC-DGRP-551_0d_r1</th>\n",
       "      <td>0</td>\n",
       "      <td>Female</td>\n",
       "      <td>DGRP-551</td>\n",
       "      <td>DGRP-551_0d_Rep1</td>\n",
       "      <td>1328</td>\n",
       "      <td>3340.0</td>\n",
       "      <td>8.0</td>\n",
       "      <td>1</td>\n",
       "      <td>-16.732498</td>\n",
       "      <td>55.850990</td>\n",
       "      <td>3</td>\n",
       "      <td>G-KC</td>\n",
       "    </tr>\n",
       "    <tr>\n",
       "      <th>ACCCACTTCACTCTTA-DGRP-551_0d_r1</th>\n",
       "      <td>0</td>\n",
       "      <td>Female</td>\n",
       "      <td>DGRP-551</td>\n",
       "      <td>DGRP-551_0d_Rep1</td>\n",
       "      <td>1613</td>\n",
       "      <td>4580.0</td>\n",
       "      <td>8.0</td>\n",
       "      <td>1</td>\n",
       "      <td>-19.377689</td>\n",
       "      <td>40.539936</td>\n",
       "      <td>3</td>\n",
       "      <td>G-KC</td>\n",
       "    </tr>\n",
       "    <tr>\n",
       "      <th>ACCGTAAAGATAGTCA-DGRP-551_0d_r1</th>\n",
       "      <td>0</td>\n",
       "      <td>Male</td>\n",
       "      <td>DGRP-551</td>\n",
       "      <td>DGRP-551_0d_Rep1</td>\n",
       "      <td>1466</td>\n",
       "      <td>4349.0</td>\n",
       "      <td>22.0</td>\n",
       "      <td>1</td>\n",
       "      <td>-1.656786</td>\n",
       "      <td>-67.122963</td>\n",
       "      <td>2</td>\n",
       "      <td>a/b-KC</td>\n",
       "    </tr>\n",
       "    <tr>\n",
       "      <th>ACTTACTAGTGGTAAT-DGRP-551_0d_r1</th>\n",
       "      <td>0</td>\n",
       "      <td>Male</td>\n",
       "      <td>DGRP-551</td>\n",
       "      <td>DGRP-551_0d_Rep1</td>\n",
       "      <td>1174</td>\n",
       "      <td>2942.0</td>\n",
       "      <td>8.0</td>\n",
       "      <td>1</td>\n",
       "      <td>-15.413997</td>\n",
       "      <td>46.957966</td>\n",
       "      <td>3</td>\n",
       "      <td>G-KC</td>\n",
       "    </tr>\n",
       "    <tr>\n",
       "      <th>ACTTGTTCATGGTTGT-DGRP-551_0d_r1</th>\n",
       "      <td>0</td>\n",
       "      <td>Male</td>\n",
       "      <td>DGRP-551</td>\n",
       "      <td>DGRP-551_0d_Rep1</td>\n",
       "      <td>1410</td>\n",
       "      <td>3620.0</td>\n",
       "      <td>8.0</td>\n",
       "      <td>1</td>\n",
       "      <td>-19.743160</td>\n",
       "      <td>40.827847</td>\n",
       "      <td>3</td>\n",
       "      <td>G-KC</td>\n",
       "    </tr>\n",
       "  </tbody>\n",
       "</table>\n",
       "</div>"
      ],
      "text/plain": [
       "                                 Age  Gender  Genotype         Replicate  \\\n",
       "CellID                                                                     \n",
       "ACATACGAGGGCTTCC-DGRP-551_0d_r1    0  Female  DGRP-551  DGRP-551_0d_Rep1   \n",
       "ACCCACTTCACTCTTA-DGRP-551_0d_r1    0  Female  DGRP-551  DGRP-551_0d_Rep1   \n",
       "ACCGTAAAGATAGTCA-DGRP-551_0d_r1    0    Male  DGRP-551  DGRP-551_0d_Rep1   \n",
       "ACTTACTAGTGGTAAT-DGRP-551_0d_r1    0    Male  DGRP-551  DGRP-551_0d_Rep1   \n",
       "ACTTGTTCATGGTTGT-DGRP-551_0d_r1    0    Male  DGRP-551  DGRP-551_0d_Rep1   \n",
       "\n",
       "                                 nGene    nUMI  cell_type_id  is_kc  \\\n",
       "CellID                                                                \n",
       "ACATACGAGGGCTTCC-DGRP-551_0d_r1   1328  3340.0           8.0      1   \n",
       "ACCCACTTCACTCTTA-DGRP-551_0d_r1   1613  4580.0           8.0      1   \n",
       "ACCGTAAAGATAGTCA-DGRP-551_0d_r1   1466  4349.0          22.0      1   \n",
       "ACTTACTAGTGGTAAT-DGRP-551_0d_r1   1174  2942.0           8.0      1   \n",
       "ACTTGTTCATGGTTGT-DGRP-551_0d_r1   1410  3620.0           8.0      1   \n",
       "\n",
       "                                         x          y  hdb_clust subtype  \n",
       "CellID                                                                    \n",
       "ACATACGAGGGCTTCC-DGRP-551_0d_r1 -16.732498  55.850990          3    G-KC  \n",
       "ACCCACTTCACTCTTA-DGRP-551_0d_r1 -19.377689  40.539936          3    G-KC  \n",
       "ACCGTAAAGATAGTCA-DGRP-551_0d_r1  -1.656786 -67.122963          2  a/b-KC  \n",
       "ACTTACTAGTGGTAAT-DGRP-551_0d_r1 -15.413997  46.957966          3    G-KC  \n",
       "ACTTGTTCATGGTTGT-DGRP-551_0d_r1 -19.743160  40.827847          3    G-KC  "
      ]
     },
     "execution_count": 40,
     "metadata": {},
     "output_type": "execute_result"
    }
   ],
   "source": [
    "myTSNE.df_libs.head()"
   ]
  },
  {
   "cell_type": "code",
   "execution_count": 41,
   "metadata": {},
   "outputs": [],
   "source": [
    "myTSNE.df_libs.to_csv(\"../data/03_ICIM_analysis/KC_ICIM_TSNE_data.csv\")"
   ]
  },
  {
   "cell_type": "code",
   "execution_count": null,
   "metadata": {},
   "outputs": [],
   "source": []
  },
  {
   "cell_type": "code",
   "execution_count": null,
   "metadata": {},
   "outputs": [],
   "source": []
  },
  {
   "cell_type": "code",
   "execution_count": null,
   "metadata": {},
   "outputs": [],
   "source": []
  },
  {
   "cell_type": "code",
   "execution_count": null,
   "metadata": {},
   "outputs": [],
   "source": []
  },
  {
   "cell_type": "code",
   "execution_count": null,
   "metadata": {},
   "outputs": [],
   "source": []
  },
  {
   "cell_type": "code",
   "execution_count": null,
   "metadata": {},
   "outputs": [],
   "source": []
  },
  {
   "cell_type": "code",
   "execution_count": null,
   "metadata": {},
   "outputs": [],
   "source": []
  },
  {
   "cell_type": "code",
   "execution_count": 42,
   "metadata": {},
   "outputs": [],
   "source": [
    "pp = pd.read_csv(\"../data/03_ICIM_analysis/KC_ICIM_TSNE_data.csv\")"
   ]
  },
  {
   "cell_type": "code",
   "execution_count": 43,
   "metadata": {},
   "outputs": [],
   "source": [
    "df_list = []\n",
    "for var in ['Age', 'Gender', 'Genotype']:\n",
    "    tdf = pp.groupby(['hdb_clust', var])['subtype'].count().to_frame(name='num_cells').reset_index().set_index('hdb_clust')\n",
    "    tdf['variable'] = tdf[var]\n",
    "    tdf['variable_cat'] = var\n",
    "    tdf = tdf.drop(var, axis=1)\n",
    "    df_list.append(tdf)"
   ]
  },
  {
   "cell_type": "code",
   "execution_count": 44,
   "metadata": {},
   "outputs": [],
   "source": [
    "histo = pd.concat(df_list)\n",
    "histo = histo[['variable_cat', 'variable', 'num_cells']]"
   ]
  },
  {
   "cell_type": "code",
   "execution_count": 45,
   "metadata": {},
   "outputs": [],
   "source": [
    "total_cells = pp.groupby(['hdb_clust'])['subtype'].count().to_frame(name='total_number_cells_in_cluster')"
   ]
  },
  {
   "cell_type": "code",
   "execution_count": 46,
   "metadata": {},
   "outputs": [],
   "source": [
    "histo = histo.join(total_cells)"
   ]
  },
  {
   "cell_type": "code",
   "execution_count": 47,
   "metadata": {},
   "outputs": [],
   "source": [
    "histo['proportion'] = histo.num_cells / histo.total_number_cells_in_cluster"
   ]
  },
  {
   "cell_type": "code",
   "execution_count": 50,
   "metadata": {},
   "outputs": [
    {
     "data": {
      "text/html": [
       "<div>\n",
       "<style scoped>\n",
       "    .dataframe tbody tr th:only-of-type {\n",
       "        vertical-align: middle;\n",
       "    }\n",
       "\n",
       "    .dataframe tbody tr th {\n",
       "        vertical-align: top;\n",
       "    }\n",
       "\n",
       "    .dataframe thead th {\n",
       "        text-align: right;\n",
       "    }\n",
       "</style>\n",
       "<table border=\"1\" class=\"dataframe\">\n",
       "  <thead>\n",
       "    <tr style=\"text-align: right;\">\n",
       "      <th></th>\n",
       "      <th>variable_cat</th>\n",
       "      <th>variable</th>\n",
       "      <th>num_cells</th>\n",
       "      <th>total_number_cells_in_cluster</th>\n",
       "      <th>proportion</th>\n",
       "    </tr>\n",
       "    <tr>\n",
       "      <th>hdb_clust</th>\n",
       "      <th></th>\n",
       "      <th></th>\n",
       "      <th></th>\n",
       "      <th></th>\n",
       "      <th></th>\n",
       "    </tr>\n",
       "  </thead>\n",
       "  <tbody>\n",
       "    <tr>\n",
       "      <th>-1</th>\n",
       "      <td>Age</td>\n",
       "      <td>0</td>\n",
       "      <td>6</td>\n",
       "      <td>62</td>\n",
       "      <td>0.096774</td>\n",
       "    </tr>\n",
       "    <tr>\n",
       "      <th>-1</th>\n",
       "      <td>Age</td>\n",
       "      <td>1</td>\n",
       "      <td>15</td>\n",
       "      <td>62</td>\n",
       "      <td>0.241935</td>\n",
       "    </tr>\n",
       "    <tr>\n",
       "      <th>-1</th>\n",
       "      <td>Age</td>\n",
       "      <td>3</td>\n",
       "      <td>11</td>\n",
       "      <td>62</td>\n",
       "      <td>0.177419</td>\n",
       "    </tr>\n",
       "    <tr>\n",
       "      <th>-1</th>\n",
       "      <td>Age</td>\n",
       "      <td>6</td>\n",
       "      <td>11</td>\n",
       "      <td>62</td>\n",
       "      <td>0.177419</td>\n",
       "    </tr>\n",
       "    <tr>\n",
       "      <th>-1</th>\n",
       "      <td>Age</td>\n",
       "      <td>9</td>\n",
       "      <td>8</td>\n",
       "      <td>62</td>\n",
       "      <td>0.129032</td>\n",
       "    </tr>\n",
       "  </tbody>\n",
       "</table>\n",
       "</div>"
      ],
      "text/plain": [
       "          variable_cat variable  num_cells  total_number_cells_in_cluster  \\\n",
       "hdb_clust                                                                   \n",
       "-1                 Age        0          6                             62   \n",
       "-1                 Age        1         15                             62   \n",
       "-1                 Age        3         11                             62   \n",
       "-1                 Age        6         11                             62   \n",
       "-1                 Age        9          8                             62   \n",
       "\n",
       "           proportion  \n",
       "hdb_clust              \n",
       "-1           0.096774  \n",
       "-1           0.241935  \n",
       "-1           0.177419  \n",
       "-1           0.177419  \n",
       "-1           0.129032  "
      ]
     },
     "execution_count": 50,
     "metadata": {},
     "output_type": "execute_result"
    }
   ],
   "source": [
    "histo.head()"
   ]
  },
  {
   "cell_type": "code",
   "execution_count": 51,
   "metadata": {},
   "outputs": [],
   "source": [
    "histo.to_csv(\"../data/03_ICIM_analysis/KC_bias_data.csv\")"
   ]
  },
  {
   "cell_type": "code",
   "execution_count": null,
   "metadata": {},
   "outputs": [],
   "source": []
  }
 ],
 "metadata": {
  "kernelspec": {
   "display_name": "Python 2",
   "language": "python",
   "name": "python2"
  },
  "language_info": {
   "codemirror_mode": {
    "name": "ipython",
    "version": 2
   },
   "file_extension": ".py",
   "mimetype": "text/x-python",
   "name": "python",
   "nbconvert_exporter": "python",
   "pygments_lexer": "ipython2",
   "version": "2.7.15"
  }
 },
 "nbformat": 4,
 "nbformat_minor": 2
}
